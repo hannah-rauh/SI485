{
 "cells": [
  {
   "cell_type": "markdown",
   "metadata": {},
   "source": [
    "## Dependencies"
   ]
  },
  {
   "cell_type": "code",
   "execution_count": 1,
   "metadata": {},
   "outputs": [],
   "source": [
    "import pandas as pd\n",
    "import io"
   ]
  },
  {
   "cell_type": "markdown",
   "metadata": {},
   "source": [
    "### Read in CSV:"
   ]
  },
  {
   "cell_type": "code",
   "execution_count": 2,
   "metadata": {},
   "outputs": [],
   "source": [
    "file_name_sample = 'aadl_holdsplaced_sample.csv'"
   ]
  },
  {
   "cell_type": "code",
   "execution_count": 6,
   "metadata": {},
   "outputs": [],
   "source": [
    "file_name='holds_placed.csv'"
   ]
  },
  {
   "cell_type": "code",
   "execution_count": 7,
   "metadata": {},
   "outputs": [],
   "source": [
    "aadl_df=pd.read_csv(file_name,header=None)"
   ]
  },
  {
   "cell_type": "code",
   "execution_count": 5,
   "metadata": {},
   "outputs": [],
   "source": [
    "aadl_df_sample=pd.read_csv(file_name_sample)"
   ]
  },
  {
   "cell_type": "code",
   "execution_count": 37,
   "metadata": {},
   "outputs": [
    {
     "data": {
      "text/html": [
       "<div>\n",
       "<style scoped>\n",
       "    .dataframe tbody tr th:only-of-type {\n",
       "        vertical-align: middle;\n",
       "    }\n",
       "\n",
       "    .dataframe tbody tr th {\n",
       "        vertical-align: top;\n",
       "    }\n",
       "\n",
       "    .dataframe thead th {\n",
       "        text-align: right;\n",
       "    }\n",
       "</style>\n",
       "<table border=\"1\" class=\"dataframe\">\n",
       "  <thead>\n",
       "    <tr style=\"text-align: right;\">\n",
       "      <th></th>\n",
       "      <th>0</th>\n",
       "      <th>1</th>\n",
       "      <th>2</th>\n",
       "      <th>3</th>\n",
       "      <th>4</th>\n",
       "      <th>5</th>\n",
       "      <th>6</th>\n",
       "      <th>7</th>\n",
       "      <th>8</th>\n",
       "      <th>9</th>\n",
       "      <th>10</th>\n",
       "      <th>11</th>\n",
       "    </tr>\n",
       "  </thead>\n",
       "  <tbody>\n",
       "    <tr>\n",
       "      <td>0</td>\n",
       "      <td>1370952</td>\n",
       "      <td>\\N</td>\n",
       "      <td>2011-06-28</td>\n",
       "      <td>a</td>\n",
       "      <td>2011-06-29</td>\n",
       "      <td>0</td>\n",
       "      <td>Bib hold, 40 attached items with 1 of 1 holds</td>\n",
       "      <td>40</td>\n",
       "      <td>1370952</td>\n",
       "      <td>t</td>\n",
       "      <td>\\N</td>\n",
       "      <td>30f07070f129d00577f554d5274d65a6</td>\n",
       "    </tr>\n",
       "    <tr>\n",
       "      <td>1</td>\n",
       "      <td>1360750</td>\n",
       "      <td>\\N</td>\n",
       "      <td>2011-06-28</td>\n",
       "      <td>a</td>\n",
       "      <td>2011-07-01</td>\n",
       "      <td>0</td>\n",
       "      <td>Bib hold, 45 attached items with 2 of 4 holds</td>\n",
       "      <td>45</td>\n",
       "      <td>1360750</td>\n",
       "      <td>t</td>\n",
       "      <td>\\N</td>\n",
       "      <td>30f07070f129d00577f554d5274d65a6</td>\n",
       "    </tr>\n",
       "    <tr>\n",
       "      <td>2</td>\n",
       "      <td>1376781</td>\n",
       "      <td>\\N</td>\n",
       "      <td>2011-06-28</td>\n",
       "      <td>g</td>\n",
       "      <td>2011-08-15</td>\n",
       "      <td>0</td>\n",
       "      <td>Bib hold, 2 attached items with 6 of 6 holds</td>\n",
       "      <td>2</td>\n",
       "      <td>1376781</td>\n",
       "      <td>d</td>\n",
       "      <td>\\N</td>\n",
       "      <td>a46b89cadb940379dc6be16b438c6172</td>\n",
       "    </tr>\n",
       "    <tr>\n",
       "      <td>3</td>\n",
       "      <td>1256631</td>\n",
       "      <td>\\N</td>\n",
       "      <td>2011-06-28</td>\n",
       "      <td>g</td>\n",
       "      <td>2011-08-22</td>\n",
       "      <td>0</td>\n",
       "      <td>Bib hold, 1 attached item with 3 of 3 holds</td>\n",
       "      <td>1</td>\n",
       "      <td>1256631</td>\n",
       "      <td>d</td>\n",
       "      <td>\\N</td>\n",
       "      <td>a46b89cadb940379dc6be16b438c6172</td>\n",
       "    </tr>\n",
       "    <tr>\n",
       "      <td>4</td>\n",
       "      <td>1385687</td>\n",
       "      <td>\\N</td>\n",
       "      <td>2011-06-28</td>\n",
       "      <td>i</td>\n",
       "      <td>2011-09-03</td>\n",
       "      <td>0</td>\n",
       "      <td>Bib hold, 2 attached items with 10 of 10 holds</td>\n",
       "      <td>2</td>\n",
       "      <td>1385687</td>\n",
       "      <td>d</td>\n",
       "      <td>\\N</td>\n",
       "      <td>a46b89cadb940379dc6be16b438c6172</td>\n",
       "    </tr>\n",
       "  </tbody>\n",
       "</table>\n",
       "</div>"
      ],
      "text/plain": [
       "        0   1           2  3           4   5   \\\n",
       "0  1370952  \\N  2011-06-28  a  2011-06-29   0   \n",
       "1  1360750  \\N  2011-06-28  a  2011-07-01   0   \n",
       "2  1376781  \\N  2011-06-28  g  2011-08-15   0   \n",
       "3  1256631  \\N  2011-06-28  g  2011-08-22   0   \n",
       "4  1385687  \\N  2011-06-28  i  2011-09-03   0   \n",
       "\n",
       "                                               6   7        8  9   10  \\\n",
       "0   Bib hold, 40 attached items with 1 of 1 holds  40  1370952  t  \\N   \n",
       "1   Bib hold, 45 attached items with 2 of 4 holds  45  1360750  t  \\N   \n",
       "2    Bib hold, 2 attached items with 6 of 6 holds   2  1376781  d  \\N   \n",
       "3     Bib hold, 1 attached item with 3 of 3 holds   1  1256631  d  \\N   \n",
       "4  Bib hold, 2 attached items with 10 of 10 holds   2  1385687  d  \\N   \n",
       "\n",
       "                                 11  \n",
       "0  30f07070f129d00577f554d5274d65a6  \n",
       "1  30f07070f129d00577f554d5274d65a6  \n",
       "2  a46b89cadb940379dc6be16b438c6172  \n",
       "3  a46b89cadb940379dc6be16b438c6172  \n",
       "4  a46b89cadb940379dc6be16b438c6172  "
      ]
     },
     "execution_count": 37,
     "metadata": {},
     "output_type": "execute_result"
    }
   ],
   "source": [
    "aadl_df.head()"
   ]
  },
  {
   "cell_type": "code",
   "execution_count": 8,
   "metadata": {},
   "outputs": [],
   "source": [
    "aadl_df=aadl_df.rename({0: 'bib',1:'patron',2:'dateplaced',3:'mat',\n",
    "                       4:'datefilled',5:'sw',6:'holds',7:'cp',8:'holdnum',\n",
    "                       9:'pickup',10:'cancelled',11:'patron_hash'},axis=1)"
   ]
  },
  {
   "cell_type": "code",
   "execution_count": 39,
   "metadata": {},
   "outputs": [
    {
     "data": {
      "text/html": [
       "<div>\n",
       "<style scoped>\n",
       "    .dataframe tbody tr th:only-of-type {\n",
       "        vertical-align: middle;\n",
       "    }\n",
       "\n",
       "    .dataframe tbody tr th {\n",
       "        vertical-align: top;\n",
       "    }\n",
       "\n",
       "    .dataframe thead th {\n",
       "        text-align: right;\n",
       "    }\n",
       "</style>\n",
       "<table border=\"1\" class=\"dataframe\">\n",
       "  <thead>\n",
       "    <tr style=\"text-align: right;\">\n",
       "      <th></th>\n",
       "      <th>bib</th>\n",
       "      <th>patron</th>\n",
       "      <th>dateplaced</th>\n",
       "      <th>mat</th>\n",
       "      <th>datefilled</th>\n",
       "      <th>sw</th>\n",
       "      <th>holds</th>\n",
       "      <th>cp</th>\n",
       "      <th>holdnum</th>\n",
       "      <th>pickup</th>\n",
       "      <th>cancelled</th>\n",
       "      <th>patron_hash</th>\n",
       "    </tr>\n",
       "  </thead>\n",
       "  <tbody>\n",
       "    <tr>\n",
       "      <td>0</td>\n",
       "      <td>1370952</td>\n",
       "      <td>\\N</td>\n",
       "      <td>2011-06-28</td>\n",
       "      <td>a</td>\n",
       "      <td>2011-06-29</td>\n",
       "      <td>0</td>\n",
       "      <td>Bib hold, 40 attached items with 1 of 1 holds</td>\n",
       "      <td>40</td>\n",
       "      <td>1370952</td>\n",
       "      <td>t</td>\n",
       "      <td>\\N</td>\n",
       "      <td>30f07070f129d00577f554d5274d65a6</td>\n",
       "    </tr>\n",
       "    <tr>\n",
       "      <td>1</td>\n",
       "      <td>1360750</td>\n",
       "      <td>\\N</td>\n",
       "      <td>2011-06-28</td>\n",
       "      <td>a</td>\n",
       "      <td>2011-07-01</td>\n",
       "      <td>0</td>\n",
       "      <td>Bib hold, 45 attached items with 2 of 4 holds</td>\n",
       "      <td>45</td>\n",
       "      <td>1360750</td>\n",
       "      <td>t</td>\n",
       "      <td>\\N</td>\n",
       "      <td>30f07070f129d00577f554d5274d65a6</td>\n",
       "    </tr>\n",
       "    <tr>\n",
       "      <td>2</td>\n",
       "      <td>1376781</td>\n",
       "      <td>\\N</td>\n",
       "      <td>2011-06-28</td>\n",
       "      <td>g</td>\n",
       "      <td>2011-08-15</td>\n",
       "      <td>0</td>\n",
       "      <td>Bib hold, 2 attached items with 6 of 6 holds</td>\n",
       "      <td>2</td>\n",
       "      <td>1376781</td>\n",
       "      <td>d</td>\n",
       "      <td>\\N</td>\n",
       "      <td>a46b89cadb940379dc6be16b438c6172</td>\n",
       "    </tr>\n",
       "    <tr>\n",
       "      <td>3</td>\n",
       "      <td>1256631</td>\n",
       "      <td>\\N</td>\n",
       "      <td>2011-06-28</td>\n",
       "      <td>g</td>\n",
       "      <td>2011-08-22</td>\n",
       "      <td>0</td>\n",
       "      <td>Bib hold, 1 attached item with 3 of 3 holds</td>\n",
       "      <td>1</td>\n",
       "      <td>1256631</td>\n",
       "      <td>d</td>\n",
       "      <td>\\N</td>\n",
       "      <td>a46b89cadb940379dc6be16b438c6172</td>\n",
       "    </tr>\n",
       "    <tr>\n",
       "      <td>4</td>\n",
       "      <td>1385687</td>\n",
       "      <td>\\N</td>\n",
       "      <td>2011-06-28</td>\n",
       "      <td>i</td>\n",
       "      <td>2011-09-03</td>\n",
       "      <td>0</td>\n",
       "      <td>Bib hold, 2 attached items with 10 of 10 holds</td>\n",
       "      <td>2</td>\n",
       "      <td>1385687</td>\n",
       "      <td>d</td>\n",
       "      <td>\\N</td>\n",
       "      <td>a46b89cadb940379dc6be16b438c6172</td>\n",
       "    </tr>\n",
       "  </tbody>\n",
       "</table>\n",
       "</div>"
      ],
      "text/plain": [
       "       bib patron  dateplaced mat  datefilled  sw  \\\n",
       "0  1370952     \\N  2011-06-28   a  2011-06-29   0   \n",
       "1  1360750     \\N  2011-06-28   a  2011-07-01   0   \n",
       "2  1376781     \\N  2011-06-28   g  2011-08-15   0   \n",
       "3  1256631     \\N  2011-06-28   g  2011-08-22   0   \n",
       "4  1385687     \\N  2011-06-28   i  2011-09-03   0   \n",
       "\n",
       "                                            holds  cp  holdnum pickup  \\\n",
       "0   Bib hold, 40 attached items with 1 of 1 holds  40  1370952      t   \n",
       "1   Bib hold, 45 attached items with 2 of 4 holds  45  1360750      t   \n",
       "2    Bib hold, 2 attached items with 6 of 6 holds   2  1376781      d   \n",
       "3     Bib hold, 1 attached item with 3 of 3 holds   1  1256631      d   \n",
       "4  Bib hold, 2 attached items with 10 of 10 holds   2  1385687      d   \n",
       "\n",
       "  cancelled                       patron_hash  \n",
       "0        \\N  30f07070f129d00577f554d5274d65a6  \n",
       "1        \\N  30f07070f129d00577f554d5274d65a6  \n",
       "2        \\N  a46b89cadb940379dc6be16b438c6172  \n",
       "3        \\N  a46b89cadb940379dc6be16b438c6172  \n",
       "4        \\N  a46b89cadb940379dc6be16b438c6172  "
      ]
     },
     "execution_count": 39,
     "metadata": {},
     "output_type": "execute_result"
    }
   ],
   "source": [
    "aadl_df.head()"
   ]
  },
  {
   "cell_type": "code",
   "execution_count": 40,
   "metadata": {},
   "outputs": [
    {
     "data": {
      "text/plain": [
       "7863536"
      ]
     },
     "execution_count": 40,
     "metadata": {},
     "output_type": "execute_result"
    }
   ],
   "source": [
    "len(aadl_df)"
   ]
  },
  {
   "cell_type": "code",
   "execution_count": 41,
   "metadata": {},
   "outputs": [
    {
     "data": {
      "text/plain": [
       "346914"
      ]
     },
     "execution_count": 41,
     "metadata": {},
     "output_type": "execute_result"
    }
   ],
   "source": [
    "len(aadl_df['bib'].unique())"
   ]
  },
  {
   "cell_type": "markdown",
   "metadata": {},
   "source": [
    "In our dataframe, there are 346,914 unique materials."
   ]
  },
  {
   "cell_type": "code",
   "execution_count": 42,
   "metadata": {},
   "outputs": [
    {
     "data": {
      "text/plain": [
       "73817"
      ]
     },
     "execution_count": 42,
     "metadata": {},
     "output_type": "execute_result"
    }
   ],
   "source": [
    "len(aadl_df['patron_hash'].unique())"
   ]
  },
  {
   "cell_type": "markdown",
   "metadata": {},
   "source": [
    "In our dataframe, there are 73,817 unique patrons."
   ]
  },
  {
   "cell_type": "markdown",
   "metadata": {},
   "source": [
    "Idea: group by patron and bib, aggregate the holds data, can see which books/genres a patron group prefers"
   ]
  },
  {
   "cell_type": "markdown",
   "metadata": {},
   "source": [
    "## Cleaning data"
   ]
  },
  {
   "cell_type": "code",
   "execution_count": 9,
   "metadata": {},
   "outputs": [],
   "source": [
    "import re"
   ]
  },
  {
   "cell_type": "code",
   "execution_count": 10,
   "metadata": {},
   "outputs": [],
   "source": [
    "sample_holds = aadl_df['holds'].str\\\n",
    "                               .extract(r', (\\S+).+?(\\d+).+?(\\d+)')\\\n",
    "                               .rename(columns = {0: 'num_attached',\n",
    "                                                  1: 'waitlist_rank', \n",
    "                                                  2: 'holds_on_title'})"
   ]
  },
  {
   "cell_type": "code",
   "execution_count": 11,
   "metadata": {},
   "outputs": [
    {
     "data": {
      "text/html": [
       "<div>\n",
       "<style scoped>\n",
       "    .dataframe tbody tr th:only-of-type {\n",
       "        vertical-align: middle;\n",
       "    }\n",
       "\n",
       "    .dataframe tbody tr th {\n",
       "        vertical-align: top;\n",
       "    }\n",
       "\n",
       "    .dataframe thead th {\n",
       "        text-align: right;\n",
       "    }\n",
       "</style>\n",
       "<table border=\"1\" class=\"dataframe\">\n",
       "  <thead>\n",
       "    <tr style=\"text-align: right;\">\n",
       "      <th></th>\n",
       "      <th>num_attached</th>\n",
       "      <th>waitlist_rank</th>\n",
       "      <th>holds_on_title</th>\n",
       "    </tr>\n",
       "  </thead>\n",
       "  <tbody>\n",
       "    <tr>\n",
       "      <td>0</td>\n",
       "      <td>40</td>\n",
       "      <td>1</td>\n",
       "      <td>1</td>\n",
       "    </tr>\n",
       "    <tr>\n",
       "      <td>1</td>\n",
       "      <td>45</td>\n",
       "      <td>2</td>\n",
       "      <td>4</td>\n",
       "    </tr>\n",
       "    <tr>\n",
       "      <td>2</td>\n",
       "      <td>2</td>\n",
       "      <td>6</td>\n",
       "      <td>6</td>\n",
       "    </tr>\n",
       "    <tr>\n",
       "      <td>3</td>\n",
       "      <td>1</td>\n",
       "      <td>3</td>\n",
       "      <td>3</td>\n",
       "    </tr>\n",
       "    <tr>\n",
       "      <td>4</td>\n",
       "      <td>2</td>\n",
       "      <td>10</td>\n",
       "      <td>10</td>\n",
       "    </tr>\n",
       "  </tbody>\n",
       "</table>\n",
       "</div>"
      ],
      "text/plain": [
       "  num_attached waitlist_rank holds_on_title\n",
       "0           40             1              1\n",
       "1           45             2              4\n",
       "2            2             6              6\n",
       "3            1             3              3\n",
       "4            2            10             10"
      ]
     },
     "execution_count": 11,
     "metadata": {},
     "output_type": "execute_result"
    }
   ],
   "source": [
    "sample_holds.head()"
   ]
  },
  {
   "cell_type": "code",
   "execution_count": 12,
   "metadata": {},
   "outputs": [],
   "source": [
    "df_cleaned = aadl_df.copy()"
   ]
  },
  {
   "cell_type": "code",
   "execution_count": 13,
   "metadata": {},
   "outputs": [
    {
     "data": {
      "text/plain": [
       "0    40\n",
       "1    45\n",
       "2     2\n",
       "3     1\n",
       "4     2\n",
       "Name: num_attached, dtype: int32"
      ]
     },
     "execution_count": 13,
     "metadata": {},
     "output_type": "execute_result"
    }
   ],
   "source": [
    "def no_to_0 (s):\n",
    "  if s == 'no':\n",
    "    return 0\n",
    "  else:\n",
    "    return s\n",
    "sample_holds['num_attached'].apply(no_to_0).astype('int32').head()"
   ]
  },
  {
   "cell_type": "code",
   "execution_count": 14,
   "metadata": {},
   "outputs": [],
   "source": [
    "df_cleaned['holds_by_patron'] = sample_holds['num_attached'].apply(no_to_0)\\\n",
    "                                                            .astype('int32') + 1"
   ]
  },
  {
   "cell_type": "code",
   "execution_count": 15,
   "metadata": {},
   "outputs": [],
   "source": [
    "df_cleaned['waitlist_rank'] = sample_holds['waitlist_rank']"
   ]
  },
  {
   "cell_type": "code",
   "execution_count": 16,
   "metadata": {},
   "outputs": [],
   "source": [
    "df_cleaned['holds_on_title'] = sample_holds['holds_on_title']"
   ]
  },
  {
   "cell_type": "code",
   "execution_count": 17,
   "metadata": {},
   "outputs": [],
   "source": [
    "df_cleaned = df_cleaned.drop(columns = ['patron', 'sw', 'holdnum',\n",
    "                                        'cp', 'holds','cancelled'])"
   ]
  },
  {
   "cell_type": "code",
   "execution_count": 18,
   "metadata": {},
   "outputs": [],
   "source": [
    "#df_cleaned['cancelled'] = df_cleaned['cancelled'].str.len() > 0"
   ]
  },
  {
   "cell_type": "code",
   "execution_count": 19,
   "metadata": {},
   "outputs": [],
   "source": [
    "df_cleaned['count'] = 1"
   ]
  },
  {
   "cell_type": "markdown",
   "metadata": {},
   "source": [
    "Changing holds_on_title and waitlist_rank to integers"
   ]
  },
  {
   "cell_type": "code",
   "execution_count": 20,
   "metadata": {},
   "outputs": [],
   "source": [
    "df_cleaned['holds_on_title']=pd.to_numeric(df_cleaned['holds_on_title'])\n",
    "\n",
    "df_cleaned['waitlist_rank']=pd.to_numeric(df_cleaned['waitlist_rank'])"
   ]
  },
  {
   "cell_type": "code",
   "execution_count": 21,
   "metadata": {},
   "outputs": [
    {
     "data": {
      "text/plain": [
       "bib                 int64\n",
       "dateplaced         object\n",
       "mat                object\n",
       "datefilled         object\n",
       "pickup             object\n",
       "patron_hash        object\n",
       "holds_by_patron     int64\n",
       "waitlist_rank       int64\n",
       "holds_on_title      int64\n",
       "count               int64\n",
       "dtype: object"
      ]
     },
     "execution_count": 21,
     "metadata": {},
     "output_type": "execute_result"
    }
   ],
   "source": [
    "df_cleaned.dtypes"
   ]
  },
  {
   "cell_type": "code",
   "execution_count": 22,
   "metadata": {},
   "outputs": [
    {
     "data": {
      "text/html": [
       "<div>\n",
       "<style scoped>\n",
       "    .dataframe tbody tr th:only-of-type {\n",
       "        vertical-align: middle;\n",
       "    }\n",
       "\n",
       "    .dataframe tbody tr th {\n",
       "        vertical-align: top;\n",
       "    }\n",
       "\n",
       "    .dataframe thead th {\n",
       "        text-align: right;\n",
       "    }\n",
       "</style>\n",
       "<table border=\"1\" class=\"dataframe\">\n",
       "  <thead>\n",
       "    <tr style=\"text-align: right;\">\n",
       "      <th></th>\n",
       "      <th>bib</th>\n",
       "      <th>dateplaced</th>\n",
       "      <th>mat</th>\n",
       "      <th>datefilled</th>\n",
       "      <th>pickup</th>\n",
       "      <th>patron_hash</th>\n",
       "      <th>holds_by_patron</th>\n",
       "      <th>waitlist_rank</th>\n",
       "      <th>holds_on_title</th>\n",
       "      <th>count</th>\n",
       "    </tr>\n",
       "  </thead>\n",
       "  <tbody>\n",
       "    <tr>\n",
       "      <td>0</td>\n",
       "      <td>1370952</td>\n",
       "      <td>2011-06-28</td>\n",
       "      <td>a</td>\n",
       "      <td>2011-06-29</td>\n",
       "      <td>t</td>\n",
       "      <td>30f07070f129d00577f554d5274d65a6</td>\n",
       "      <td>41</td>\n",
       "      <td>1</td>\n",
       "      <td>1</td>\n",
       "      <td>1</td>\n",
       "    </tr>\n",
       "    <tr>\n",
       "      <td>1</td>\n",
       "      <td>1360750</td>\n",
       "      <td>2011-06-28</td>\n",
       "      <td>a</td>\n",
       "      <td>2011-07-01</td>\n",
       "      <td>t</td>\n",
       "      <td>30f07070f129d00577f554d5274d65a6</td>\n",
       "      <td>46</td>\n",
       "      <td>2</td>\n",
       "      <td>4</td>\n",
       "      <td>1</td>\n",
       "    </tr>\n",
       "    <tr>\n",
       "      <td>2</td>\n",
       "      <td>1376781</td>\n",
       "      <td>2011-06-28</td>\n",
       "      <td>g</td>\n",
       "      <td>2011-08-15</td>\n",
       "      <td>d</td>\n",
       "      <td>a46b89cadb940379dc6be16b438c6172</td>\n",
       "      <td>3</td>\n",
       "      <td>6</td>\n",
       "      <td>6</td>\n",
       "      <td>1</td>\n",
       "    </tr>\n",
       "    <tr>\n",
       "      <td>3</td>\n",
       "      <td>1256631</td>\n",
       "      <td>2011-06-28</td>\n",
       "      <td>g</td>\n",
       "      <td>2011-08-22</td>\n",
       "      <td>d</td>\n",
       "      <td>a46b89cadb940379dc6be16b438c6172</td>\n",
       "      <td>2</td>\n",
       "      <td>3</td>\n",
       "      <td>3</td>\n",
       "      <td>1</td>\n",
       "    </tr>\n",
       "    <tr>\n",
       "      <td>4</td>\n",
       "      <td>1385687</td>\n",
       "      <td>2011-06-28</td>\n",
       "      <td>i</td>\n",
       "      <td>2011-09-03</td>\n",
       "      <td>d</td>\n",
       "      <td>a46b89cadb940379dc6be16b438c6172</td>\n",
       "      <td>3</td>\n",
       "      <td>10</td>\n",
       "      <td>10</td>\n",
       "      <td>1</td>\n",
       "    </tr>\n",
       "  </tbody>\n",
       "</table>\n",
       "</div>"
      ],
      "text/plain": [
       "       bib  dateplaced mat  datefilled pickup  \\\n",
       "0  1370952  2011-06-28   a  2011-06-29      t   \n",
       "1  1360750  2011-06-28   a  2011-07-01      t   \n",
       "2  1376781  2011-06-28   g  2011-08-15      d   \n",
       "3  1256631  2011-06-28   g  2011-08-22      d   \n",
       "4  1385687  2011-06-28   i  2011-09-03      d   \n",
       "\n",
       "                        patron_hash  holds_by_patron  waitlist_rank  \\\n",
       "0  30f07070f129d00577f554d5274d65a6               41              1   \n",
       "1  30f07070f129d00577f554d5274d65a6               46              2   \n",
       "2  a46b89cadb940379dc6be16b438c6172                3              6   \n",
       "3  a46b89cadb940379dc6be16b438c6172                2              3   \n",
       "4  a46b89cadb940379dc6be16b438c6172                3             10   \n",
       "\n",
       "   holds_on_title  count  \n",
       "0               1      1  \n",
       "1               4      1  \n",
       "2               6      1  \n",
       "3               3      1  \n",
       "4              10      1  "
      ]
     },
     "execution_count": 22,
     "metadata": {},
     "output_type": "execute_result"
    }
   ],
   "source": [
    "df_cleaned.head()"
   ]
  },
  {
   "cell_type": "markdown",
   "metadata": {},
   "source": [
    "### Dropping row if holds_on_title is less than or equal to one\n",
    "This means the patron was the only person on the waitlist so they were assigned the material right away"
   ]
  },
  {
   "cell_type": "code",
   "execution_count": 23,
   "metadata": {},
   "outputs": [],
   "source": [
    "more_than_one_hold=df_cleaned[df_cleaned['holds_on_title']>1]"
   ]
  },
  {
   "cell_type": "code",
   "execution_count": 24,
   "metadata": {},
   "outputs": [
    {
     "data": {
      "text/html": [
       "<div>\n",
       "<style scoped>\n",
       "    .dataframe tbody tr th:only-of-type {\n",
       "        vertical-align: middle;\n",
       "    }\n",
       "\n",
       "    .dataframe tbody tr th {\n",
       "        vertical-align: top;\n",
       "    }\n",
       "\n",
       "    .dataframe thead th {\n",
       "        text-align: right;\n",
       "    }\n",
       "</style>\n",
       "<table border=\"1\" class=\"dataframe\">\n",
       "  <thead>\n",
       "    <tr style=\"text-align: right;\">\n",
       "      <th></th>\n",
       "      <th>bib</th>\n",
       "      <th>dateplaced</th>\n",
       "      <th>mat</th>\n",
       "      <th>datefilled</th>\n",
       "      <th>pickup</th>\n",
       "      <th>patron_hash</th>\n",
       "      <th>holds_by_patron</th>\n",
       "      <th>waitlist_rank</th>\n",
       "      <th>holds_on_title</th>\n",
       "      <th>count</th>\n",
       "    </tr>\n",
       "  </thead>\n",
       "  <tbody>\n",
       "    <tr>\n",
       "      <td>1</td>\n",
       "      <td>1360750</td>\n",
       "      <td>2011-06-28</td>\n",
       "      <td>a</td>\n",
       "      <td>2011-07-01</td>\n",
       "      <td>t</td>\n",
       "      <td>30f07070f129d00577f554d5274d65a6</td>\n",
       "      <td>46</td>\n",
       "      <td>2</td>\n",
       "      <td>4</td>\n",
       "      <td>1</td>\n",
       "    </tr>\n",
       "    <tr>\n",
       "      <td>2</td>\n",
       "      <td>1376781</td>\n",
       "      <td>2011-06-28</td>\n",
       "      <td>g</td>\n",
       "      <td>2011-08-15</td>\n",
       "      <td>d</td>\n",
       "      <td>a46b89cadb940379dc6be16b438c6172</td>\n",
       "      <td>3</td>\n",
       "      <td>6</td>\n",
       "      <td>6</td>\n",
       "      <td>1</td>\n",
       "    </tr>\n",
       "    <tr>\n",
       "      <td>3</td>\n",
       "      <td>1256631</td>\n",
       "      <td>2011-06-28</td>\n",
       "      <td>g</td>\n",
       "      <td>2011-08-22</td>\n",
       "      <td>d</td>\n",
       "      <td>a46b89cadb940379dc6be16b438c6172</td>\n",
       "      <td>2</td>\n",
       "      <td>3</td>\n",
       "      <td>3</td>\n",
       "      <td>1</td>\n",
       "    </tr>\n",
       "    <tr>\n",
       "      <td>4</td>\n",
       "      <td>1385687</td>\n",
       "      <td>2011-06-28</td>\n",
       "      <td>i</td>\n",
       "      <td>2011-09-03</td>\n",
       "      <td>d</td>\n",
       "      <td>a46b89cadb940379dc6be16b438c6172</td>\n",
       "      <td>3</td>\n",
       "      <td>10</td>\n",
       "      <td>10</td>\n",
       "      <td>1</td>\n",
       "    </tr>\n",
       "    <tr>\n",
       "      <td>8</td>\n",
       "      <td>1365258</td>\n",
       "      <td>2011-06-28</td>\n",
       "      <td>x</td>\n",
       "      <td>2011-08-08</td>\n",
       "      <td>d</td>\n",
       "      <td>dad9635fe3cacc6a7d13bcb6d33b75f2</td>\n",
       "      <td>4</td>\n",
       "      <td>7</td>\n",
       "      <td>7</td>\n",
       "      <td>1</td>\n",
       "    </tr>\n",
       "  </tbody>\n",
       "</table>\n",
       "</div>"
      ],
      "text/plain": [
       "       bib  dateplaced mat  datefilled pickup  \\\n",
       "1  1360750  2011-06-28   a  2011-07-01      t   \n",
       "2  1376781  2011-06-28   g  2011-08-15      d   \n",
       "3  1256631  2011-06-28   g  2011-08-22      d   \n",
       "4  1385687  2011-06-28   i  2011-09-03      d   \n",
       "8  1365258  2011-06-28   x  2011-08-08      d   \n",
       "\n",
       "                        patron_hash  holds_by_patron  waitlist_rank  \\\n",
       "1  30f07070f129d00577f554d5274d65a6               46              2   \n",
       "2  a46b89cadb940379dc6be16b438c6172                3              6   \n",
       "3  a46b89cadb940379dc6be16b438c6172                2              3   \n",
       "4  a46b89cadb940379dc6be16b438c6172                3             10   \n",
       "8  dad9635fe3cacc6a7d13bcb6d33b75f2                4              7   \n",
       "\n",
       "   holds_on_title  count  \n",
       "1               4      1  \n",
       "2               6      1  \n",
       "3               3      1  \n",
       "4              10      1  \n",
       "8               7      1  "
      ]
     },
     "execution_count": 24,
     "metadata": {},
     "output_type": "execute_result"
    }
   ],
   "source": [
    "more_than_one_hold.head()"
   ]
  },
  {
   "cell_type": "code",
   "execution_count": 25,
   "metadata": {},
   "outputs": [
    {
     "data": {
      "text/plain": [
       "3588484"
      ]
     },
     "execution_count": 25,
     "metadata": {},
     "output_type": "execute_result"
    }
   ],
   "source": [
    "len(more_than_one_hold)"
   ]
  },
  {
   "cell_type": "code",
   "execution_count": 26,
   "metadata": {},
   "outputs": [
    {
     "data": {
      "text/html": [
       "<div>\n",
       "<style scoped>\n",
       "    .dataframe tbody tr th:only-of-type {\n",
       "        vertical-align: middle;\n",
       "    }\n",
       "\n",
       "    .dataframe tbody tr th {\n",
       "        vertical-align: top;\n",
       "    }\n",
       "\n",
       "    .dataframe thead th {\n",
       "        text-align: right;\n",
       "    }\n",
       "</style>\n",
       "<table border=\"1\" class=\"dataframe\">\n",
       "  <thead>\n",
       "    <tr style=\"text-align: right;\">\n",
       "      <th></th>\n",
       "      <th>bib</th>\n",
       "      <th>dateplaced</th>\n",
       "      <th>mat</th>\n",
       "      <th>datefilled</th>\n",
       "      <th>pickup</th>\n",
       "      <th>patron_hash</th>\n",
       "      <th>holds_by_patron</th>\n",
       "      <th>waitlist_rank</th>\n",
       "      <th>holds_on_title</th>\n",
       "      <th>count</th>\n",
       "    </tr>\n",
       "  </thead>\n",
       "  <tbody>\n",
       "    <tr>\n",
       "      <td>28130</td>\n",
       "      <td>1186031</td>\n",
       "      <td>2006-05-09</td>\n",
       "      <td>l</td>\n",
       "      <td>2012-05-18</td>\n",
       "      <td>b</td>\n",
       "      <td>a8627dad0d6c90ffa318f734313fbac4</td>\n",
       "      <td>1</td>\n",
       "      <td>1</td>\n",
       "      <td>2</td>\n",
       "      <td>1</td>\n",
       "    </tr>\n",
       "    <tr>\n",
       "      <td>83971</td>\n",
       "      <td>1188249</td>\n",
       "      <td>2010-03-05</td>\n",
       "      <td>j</td>\n",
       "      <td>2010-03-22</td>\n",
       "      <td>-</td>\n",
       "      <td>d3f9eeba6729ead158be326d39704a42</td>\n",
       "      <td>5</td>\n",
       "      <td>1</td>\n",
       "      <td>6</td>\n",
       "      <td>1</td>\n",
       "    </tr>\n",
       "    <tr>\n",
       "      <td>31529</td>\n",
       "      <td>1205755</td>\n",
       "      <td>2010-03-05</td>\n",
       "      <td>a</td>\n",
       "      <td>2010-03-11</td>\n",
       "      <td>-</td>\n",
       "      <td>8b1fa47812eed3c911633c0e22e4327b</td>\n",
       "      <td>2</td>\n",
       "      <td>1</td>\n",
       "      <td>1</td>\n",
       "      <td>1</td>\n",
       "    </tr>\n",
       "    <tr>\n",
       "      <td>31530</td>\n",
       "      <td>1273931</td>\n",
       "      <td>2010-03-05</td>\n",
       "      <td>g</td>\n",
       "      <td>2010-03-06</td>\n",
       "      <td>-</td>\n",
       "      <td>f819e36607485f91641b1bc5a92cd4f5</td>\n",
       "      <td>4</td>\n",
       "      <td>1</td>\n",
       "      <td>1</td>\n",
       "      <td>1</td>\n",
       "    </tr>\n",
       "    <tr>\n",
       "      <td>31531</td>\n",
       "      <td>1312039</td>\n",
       "      <td>2010-03-05</td>\n",
       "      <td>g</td>\n",
       "      <td>2010-03-06</td>\n",
       "      <td>-</td>\n",
       "      <td>39c9a23e9546a893ad8cbef8dacf9baf</td>\n",
       "      <td>10</td>\n",
       "      <td>1</td>\n",
       "      <td>1</td>\n",
       "      <td>1</td>\n",
       "    </tr>\n",
       "    <tr>\n",
       "      <td>...</td>\n",
       "      <td>...</td>\n",
       "      <td>...</td>\n",
       "      <td>...</td>\n",
       "      <td>...</td>\n",
       "      <td>...</td>\n",
       "      <td>...</td>\n",
       "      <td>...</td>\n",
       "      <td>...</td>\n",
       "      <td>...</td>\n",
       "      <td>...</td>\n",
       "    </tr>\n",
       "    <tr>\n",
       "      <td>7862880</td>\n",
       "      <td>1416997</td>\n",
       "      <td>2017-12-29</td>\n",
       "      <td>g</td>\n",
       "      <td>\\N</td>\n",
       "      <td>w</td>\n",
       "      <td>6c919a255d2a761e1a21c30bbf31dbd2</td>\n",
       "      <td>3</td>\n",
       "      <td>1</td>\n",
       "      <td>1</td>\n",
       "      <td>1</td>\n",
       "    </tr>\n",
       "    <tr>\n",
       "      <td>7862885</td>\n",
       "      <td>1507221</td>\n",
       "      <td>2017-12-29</td>\n",
       "      <td>g</td>\n",
       "      <td>\\N</td>\n",
       "      <td>w</td>\n",
       "      <td>6c919a255d2a761e1a21c30bbf31dbd2</td>\n",
       "      <td>31</td>\n",
       "      <td>2</td>\n",
       "      <td>2</td>\n",
       "      <td>1</td>\n",
       "    </tr>\n",
       "    <tr>\n",
       "      <td>7863534</td>\n",
       "      <td>1016392</td>\n",
       "      <td>2017-12-30</td>\n",
       "      <td>a</td>\n",
       "      <td>\\N</td>\n",
       "      <td>t</td>\n",
       "      <td>b5290679166b3126c1ab96150633c912</td>\n",
       "      <td>2</td>\n",
       "      <td>1</td>\n",
       "      <td>1</td>\n",
       "      <td>1</td>\n",
       "    </tr>\n",
       "    <tr>\n",
       "      <td>7863533</td>\n",
       "      <td>1204760</td>\n",
       "      <td>2017-12-30</td>\n",
       "      <td>g</td>\n",
       "      <td>\\N</td>\n",
       "      <td>t</td>\n",
       "      <td>b5290679166b3126c1ab96150633c912</td>\n",
       "      <td>4</td>\n",
       "      <td>1</td>\n",
       "      <td>1</td>\n",
       "      <td>1</td>\n",
       "    </tr>\n",
       "    <tr>\n",
       "      <td>7863535</td>\n",
       "      <td>1509419</td>\n",
       "      <td>2017-12-30</td>\n",
       "      <td>a</td>\n",
       "      <td>\\N</td>\n",
       "      <td>m</td>\n",
       "      <td>0828af2b6f02980b5ec00f0c526d628d</td>\n",
       "      <td>8</td>\n",
       "      <td>1</td>\n",
       "      <td>1</td>\n",
       "      <td>1</td>\n",
       "    </tr>\n",
       "  </tbody>\n",
       "</table>\n",
       "<p>7863536 rows × 10 columns</p>\n",
       "</div>"
      ],
      "text/plain": [
       "             bib  dateplaced mat  datefilled pickup  \\\n",
       "28130    1186031  2006-05-09   l  2012-05-18      b   \n",
       "83971    1188249  2010-03-05   j  2010-03-22      -   \n",
       "31529    1205755  2010-03-05   a  2010-03-11      -   \n",
       "31530    1273931  2010-03-05   g  2010-03-06      -   \n",
       "31531    1312039  2010-03-05   g  2010-03-06      -   \n",
       "...          ...         ...  ..         ...    ...   \n",
       "7862880  1416997  2017-12-29   g          \\N      w   \n",
       "7862885  1507221  2017-12-29   g          \\N      w   \n",
       "7863534  1016392  2017-12-30   a          \\N      t   \n",
       "7863533  1204760  2017-12-30   g          \\N      t   \n",
       "7863535  1509419  2017-12-30   a          \\N      m   \n",
       "\n",
       "                              patron_hash  holds_by_patron  waitlist_rank  \\\n",
       "28130    a8627dad0d6c90ffa318f734313fbac4                1              1   \n",
       "83971    d3f9eeba6729ead158be326d39704a42                5              1   \n",
       "31529    8b1fa47812eed3c911633c0e22e4327b                2              1   \n",
       "31530    f819e36607485f91641b1bc5a92cd4f5                4              1   \n",
       "31531    39c9a23e9546a893ad8cbef8dacf9baf               10              1   \n",
       "...                                   ...              ...            ...   \n",
       "7862880  6c919a255d2a761e1a21c30bbf31dbd2                3              1   \n",
       "7862885  6c919a255d2a761e1a21c30bbf31dbd2               31              2   \n",
       "7863534  b5290679166b3126c1ab96150633c912                2              1   \n",
       "7863533  b5290679166b3126c1ab96150633c912                4              1   \n",
       "7863535  0828af2b6f02980b5ec00f0c526d628d                8              1   \n",
       "\n",
       "         holds_on_title  count  \n",
       "28130                 2      1  \n",
       "83971                 6      1  \n",
       "31529                 1      1  \n",
       "31530                 1      1  \n",
       "31531                 1      1  \n",
       "...                 ...    ...  \n",
       "7862880               1      1  \n",
       "7862885               2      1  \n",
       "7863534               1      1  \n",
       "7863533               1      1  \n",
       "7863535               1      1  \n",
       "\n",
       "[7863536 rows x 10 columns]"
      ]
     },
     "execution_count": 26,
     "metadata": {},
     "output_type": "execute_result"
    }
   ],
   "source": [
    "df_cleaned.sort_values('dateplaced',ascending=True)"
   ]
  },
  {
   "cell_type": "markdown",
   "metadata": {},
   "source": [
    "Sorting by materials that have the most holds placed on them"
   ]
  },
  {
   "cell_type": "code",
   "execution_count": 27,
   "metadata": {},
   "outputs": [
    {
     "data": {
      "text/html": [
       "<div>\n",
       "<style scoped>\n",
       "    .dataframe tbody tr th:only-of-type {\n",
       "        vertical-align: middle;\n",
       "    }\n",
       "\n",
       "    .dataframe tbody tr th {\n",
       "        vertical-align: top;\n",
       "    }\n",
       "\n",
       "    .dataframe thead th {\n",
       "        text-align: right;\n",
       "    }\n",
       "</style>\n",
       "<table border=\"1\" class=\"dataframe\">\n",
       "  <thead>\n",
       "    <tr style=\"text-align: right;\">\n",
       "      <th></th>\n",
       "      <th>bib</th>\n",
       "      <th>dateplaced</th>\n",
       "      <th>mat</th>\n",
       "      <th>datefilled</th>\n",
       "      <th>pickup</th>\n",
       "      <th>patron_hash</th>\n",
       "      <th>holds_by_patron</th>\n",
       "      <th>waitlist_rank</th>\n",
       "      <th>holds_on_title</th>\n",
       "      <th>count</th>\n",
       "    </tr>\n",
       "  </thead>\n",
       "  <tbody>\n",
       "    <tr>\n",
       "      <td>3498078</td>\n",
       "      <td>1424707</td>\n",
       "      <td>2013-03-25</td>\n",
       "      <td>g</td>\n",
       "      <td>2013-06-25</td>\n",
       "      <td>m</td>\n",
       "      <td>381f53c864ed84133b99fa1182ba9e10</td>\n",
       "      <td>1</td>\n",
       "      <td>794</td>\n",
       "      <td>796</td>\n",
       "      <td>1</td>\n",
       "    </tr>\n",
       "    <tr>\n",
       "      <td>3498584</td>\n",
       "      <td>1424707</td>\n",
       "      <td>2013-03-25</td>\n",
       "      <td>g</td>\n",
       "      <td>2013-06-25</td>\n",
       "      <td>p</td>\n",
       "      <td>e46625601de4f9cb69cf5a4ed4f900d0</td>\n",
       "      <td>1</td>\n",
       "      <td>792</td>\n",
       "      <td>796</td>\n",
       "      <td>1</td>\n",
       "    </tr>\n",
       "    <tr>\n",
       "      <td>3495124</td>\n",
       "      <td>1424707</td>\n",
       "      <td>2013-03-25</td>\n",
       "      <td>g</td>\n",
       "      <td>2013-06-25</td>\n",
       "      <td>d</td>\n",
       "      <td>7b6c8b0162f1342cb55655ca8c2ebc8e</td>\n",
       "      <td>1</td>\n",
       "      <td>786</td>\n",
       "      <td>796</td>\n",
       "      <td>1</td>\n",
       "    </tr>\n",
       "    <tr>\n",
       "      <td>3499910</td>\n",
       "      <td>1424707</td>\n",
       "      <td>2013-03-25</td>\n",
       "      <td>g</td>\n",
       "      <td>2013-06-25</td>\n",
       "      <td>m</td>\n",
       "      <td>c2e00d4c8b9125aa8501cbb0cbf0c9a2</td>\n",
       "      <td>1</td>\n",
       "      <td>788</td>\n",
       "      <td>796</td>\n",
       "      <td>1</td>\n",
       "    </tr>\n",
       "    <tr>\n",
       "      <td>3499597</td>\n",
       "      <td>1424707</td>\n",
       "      <td>2013-03-25</td>\n",
       "      <td>g</td>\n",
       "      <td>2013-06-26</td>\n",
       "      <td>t</td>\n",
       "      <td>2301e8f906665b4729f7a6d85d4f349e</td>\n",
       "      <td>1</td>\n",
       "      <td>795</td>\n",
       "      <td>796</td>\n",
       "      <td>1</td>\n",
       "    </tr>\n",
       "  </tbody>\n",
       "</table>\n",
       "</div>"
      ],
      "text/plain": [
       "             bib  dateplaced mat  datefilled pickup  \\\n",
       "3498078  1424707  2013-03-25   g  2013-06-25      m   \n",
       "3498584  1424707  2013-03-25   g  2013-06-25      p   \n",
       "3495124  1424707  2013-03-25   g  2013-06-25      d   \n",
       "3499910  1424707  2013-03-25   g  2013-06-25      m   \n",
       "3499597  1424707  2013-03-25   g  2013-06-26      t   \n",
       "\n",
       "                              patron_hash  holds_by_patron  waitlist_rank  \\\n",
       "3498078  381f53c864ed84133b99fa1182ba9e10                1            794   \n",
       "3498584  e46625601de4f9cb69cf5a4ed4f900d0                1            792   \n",
       "3495124  7b6c8b0162f1342cb55655ca8c2ebc8e                1            786   \n",
       "3499910  c2e00d4c8b9125aa8501cbb0cbf0c9a2                1            788   \n",
       "3499597  2301e8f906665b4729f7a6d85d4f349e                1            795   \n",
       "\n",
       "         holds_on_title  count  \n",
       "3498078             796      1  \n",
       "3498584             796      1  \n",
       "3495124             796      1  \n",
       "3499910             796      1  \n",
       "3499597             796      1  "
      ]
     },
     "execution_count": 27,
     "metadata": {},
     "output_type": "execute_result"
    }
   ],
   "source": [
    "df_cleaned.sort_values('holds_on_title',ascending=False).head()"
   ]
  },
  {
   "cell_type": "markdown",
   "metadata": {},
   "source": [
    "Sorting by date"
   ]
  },
  {
   "cell_type": "code",
   "execution_count": 28,
   "metadata": {},
   "outputs": [
    {
     "data": {
      "text/html": [
       "<div>\n",
       "<style scoped>\n",
       "    .dataframe tbody tr th:only-of-type {\n",
       "        vertical-align: middle;\n",
       "    }\n",
       "\n",
       "    .dataframe tbody tr th {\n",
       "        vertical-align: top;\n",
       "    }\n",
       "\n",
       "    .dataframe thead th {\n",
       "        text-align: right;\n",
       "    }\n",
       "</style>\n",
       "<table border=\"1\" class=\"dataframe\">\n",
       "  <thead>\n",
       "    <tr style=\"text-align: right;\">\n",
       "      <th></th>\n",
       "      <th>bib</th>\n",
       "      <th>dateplaced</th>\n",
       "      <th>mat</th>\n",
       "      <th>datefilled</th>\n",
       "      <th>pickup</th>\n",
       "      <th>patron_hash</th>\n",
       "      <th>holds_by_patron</th>\n",
       "      <th>waitlist_rank</th>\n",
       "      <th>holds_on_title</th>\n",
       "      <th>count</th>\n",
       "    </tr>\n",
       "  </thead>\n",
       "  <tbody>\n",
       "    <tr>\n",
       "      <td>28130</td>\n",
       "      <td>1186031</td>\n",
       "      <td>2006-05-09</td>\n",
       "      <td>l</td>\n",
       "      <td>2012-05-18</td>\n",
       "      <td>b</td>\n",
       "      <td>a8627dad0d6c90ffa318f734313fbac4</td>\n",
       "      <td>1</td>\n",
       "      <td>1</td>\n",
       "      <td>2</td>\n",
       "      <td>1</td>\n",
       "    </tr>\n",
       "    <tr>\n",
       "      <td>83971</td>\n",
       "      <td>1188249</td>\n",
       "      <td>2010-03-05</td>\n",
       "      <td>j</td>\n",
       "      <td>2010-03-22</td>\n",
       "      <td>-</td>\n",
       "      <td>d3f9eeba6729ead158be326d39704a42</td>\n",
       "      <td>5</td>\n",
       "      <td>1</td>\n",
       "      <td>6</td>\n",
       "      <td>1</td>\n",
       "    </tr>\n",
       "    <tr>\n",
       "      <td>31529</td>\n",
       "      <td>1205755</td>\n",
       "      <td>2010-03-05</td>\n",
       "      <td>a</td>\n",
       "      <td>2010-03-11</td>\n",
       "      <td>-</td>\n",
       "      <td>8b1fa47812eed3c911633c0e22e4327b</td>\n",
       "      <td>2</td>\n",
       "      <td>1</td>\n",
       "      <td>1</td>\n",
       "      <td>1</td>\n",
       "    </tr>\n",
       "    <tr>\n",
       "      <td>31530</td>\n",
       "      <td>1273931</td>\n",
       "      <td>2010-03-05</td>\n",
       "      <td>g</td>\n",
       "      <td>2010-03-06</td>\n",
       "      <td>-</td>\n",
       "      <td>f819e36607485f91641b1bc5a92cd4f5</td>\n",
       "      <td>4</td>\n",
       "      <td>1</td>\n",
       "      <td>1</td>\n",
       "      <td>1</td>\n",
       "    </tr>\n",
       "    <tr>\n",
       "      <td>31531</td>\n",
       "      <td>1312039</td>\n",
       "      <td>2010-03-05</td>\n",
       "      <td>g</td>\n",
       "      <td>2010-03-06</td>\n",
       "      <td>-</td>\n",
       "      <td>39c9a23e9546a893ad8cbef8dacf9baf</td>\n",
       "      <td>10</td>\n",
       "      <td>1</td>\n",
       "      <td>1</td>\n",
       "      <td>1</td>\n",
       "    </tr>\n",
       "  </tbody>\n",
       "</table>\n",
       "</div>"
      ],
      "text/plain": [
       "           bib  dateplaced mat  datefilled pickup  \\\n",
       "28130  1186031  2006-05-09   l  2012-05-18      b   \n",
       "83971  1188249  2010-03-05   j  2010-03-22      -   \n",
       "31529  1205755  2010-03-05   a  2010-03-11      -   \n",
       "31530  1273931  2010-03-05   g  2010-03-06      -   \n",
       "31531  1312039  2010-03-05   g  2010-03-06      -   \n",
       "\n",
       "                            patron_hash  holds_by_patron  waitlist_rank  \\\n",
       "28130  a8627dad0d6c90ffa318f734313fbac4                1              1   \n",
       "83971  d3f9eeba6729ead158be326d39704a42                5              1   \n",
       "31529  8b1fa47812eed3c911633c0e22e4327b                2              1   \n",
       "31530  f819e36607485f91641b1bc5a92cd4f5                4              1   \n",
       "31531  39c9a23e9546a893ad8cbef8dacf9baf               10              1   \n",
       "\n",
       "       holds_on_title  count  \n",
       "28130               2      1  \n",
       "83971               6      1  \n",
       "31529               1      1  \n",
       "31530               1      1  \n",
       "31531               1      1  "
      ]
     },
     "execution_count": 28,
     "metadata": {},
     "output_type": "execute_result"
    }
   ],
   "source": [
    "df_cleaned.sort_values('dateplaced',ascending=True).head()"
   ]
  },
  {
   "cell_type": "code",
   "execution_count": 29,
   "metadata": {},
   "outputs": [
    {
     "data": {
      "text/html": [
       "<div>\n",
       "<style scoped>\n",
       "    .dataframe tbody tr th:only-of-type {\n",
       "        vertical-align: middle;\n",
       "    }\n",
       "\n",
       "    .dataframe tbody tr th {\n",
       "        vertical-align: top;\n",
       "    }\n",
       "\n",
       "    .dataframe thead th {\n",
       "        text-align: right;\n",
       "    }\n",
       "</style>\n",
       "<table border=\"1\" class=\"dataframe\">\n",
       "  <thead>\n",
       "    <tr style=\"text-align: right;\">\n",
       "      <th></th>\n",
       "      <th>bib</th>\n",
       "      <th>dateplaced</th>\n",
       "      <th>mat</th>\n",
       "      <th>datefilled</th>\n",
       "      <th>pickup</th>\n",
       "      <th>patron_hash</th>\n",
       "      <th>holds_by_patron</th>\n",
       "      <th>waitlist_rank</th>\n",
       "      <th>holds_on_title</th>\n",
       "      <th>count</th>\n",
       "    </tr>\n",
       "  </thead>\n",
       "  <tbody>\n",
       "    <tr>\n",
       "      <td>7862880</td>\n",
       "      <td>1416997</td>\n",
       "      <td>2017-12-29</td>\n",
       "      <td>g</td>\n",
       "      <td>\\N</td>\n",
       "      <td>w</td>\n",
       "      <td>6c919a255d2a761e1a21c30bbf31dbd2</td>\n",
       "      <td>3</td>\n",
       "      <td>1</td>\n",
       "      <td>1</td>\n",
       "      <td>1</td>\n",
       "    </tr>\n",
       "    <tr>\n",
       "      <td>7862885</td>\n",
       "      <td>1507221</td>\n",
       "      <td>2017-12-29</td>\n",
       "      <td>g</td>\n",
       "      <td>\\N</td>\n",
       "      <td>w</td>\n",
       "      <td>6c919a255d2a761e1a21c30bbf31dbd2</td>\n",
       "      <td>31</td>\n",
       "      <td>2</td>\n",
       "      <td>2</td>\n",
       "      <td>1</td>\n",
       "    </tr>\n",
       "    <tr>\n",
       "      <td>7863534</td>\n",
       "      <td>1016392</td>\n",
       "      <td>2017-12-30</td>\n",
       "      <td>a</td>\n",
       "      <td>\\N</td>\n",
       "      <td>t</td>\n",
       "      <td>b5290679166b3126c1ab96150633c912</td>\n",
       "      <td>2</td>\n",
       "      <td>1</td>\n",
       "      <td>1</td>\n",
       "      <td>1</td>\n",
       "    </tr>\n",
       "    <tr>\n",
       "      <td>7863533</td>\n",
       "      <td>1204760</td>\n",
       "      <td>2017-12-30</td>\n",
       "      <td>g</td>\n",
       "      <td>\\N</td>\n",
       "      <td>t</td>\n",
       "      <td>b5290679166b3126c1ab96150633c912</td>\n",
       "      <td>4</td>\n",
       "      <td>1</td>\n",
       "      <td>1</td>\n",
       "      <td>1</td>\n",
       "    </tr>\n",
       "    <tr>\n",
       "      <td>7863535</td>\n",
       "      <td>1509419</td>\n",
       "      <td>2017-12-30</td>\n",
       "      <td>a</td>\n",
       "      <td>\\N</td>\n",
       "      <td>m</td>\n",
       "      <td>0828af2b6f02980b5ec00f0c526d628d</td>\n",
       "      <td>8</td>\n",
       "      <td>1</td>\n",
       "      <td>1</td>\n",
       "      <td>1</td>\n",
       "    </tr>\n",
       "  </tbody>\n",
       "</table>\n",
       "</div>"
      ],
      "text/plain": [
       "             bib  dateplaced mat datefilled pickup  \\\n",
       "7862880  1416997  2017-12-29   g         \\N      w   \n",
       "7862885  1507221  2017-12-29   g         \\N      w   \n",
       "7863534  1016392  2017-12-30   a         \\N      t   \n",
       "7863533  1204760  2017-12-30   g         \\N      t   \n",
       "7863535  1509419  2017-12-30   a         \\N      m   \n",
       "\n",
       "                              patron_hash  holds_by_patron  waitlist_rank  \\\n",
       "7862880  6c919a255d2a761e1a21c30bbf31dbd2                3              1   \n",
       "7862885  6c919a255d2a761e1a21c30bbf31dbd2               31              2   \n",
       "7863534  b5290679166b3126c1ab96150633c912                2              1   \n",
       "7863533  b5290679166b3126c1ab96150633c912                4              1   \n",
       "7863535  0828af2b6f02980b5ec00f0c526d628d                8              1   \n",
       "\n",
       "         holds_on_title  count  \n",
       "7862880               1      1  \n",
       "7862885               2      1  \n",
       "7863534               1      1  \n",
       "7863533               1      1  \n",
       "7863535               1      1  "
      ]
     },
     "execution_count": 29,
     "metadata": {},
     "output_type": "execute_result"
    }
   ],
   "source": [
    "df_cleaned.sort_values('dateplaced',ascending=True).tail()"
   ]
  },
  {
   "cell_type": "markdown",
   "metadata": {},
   "source": [
    "### Data starts 3/5/2010, ends in 12/30/2017"
   ]
  },
  {
   "cell_type": "markdown",
   "metadata": {},
   "source": [
    "Creating a dataframe for one unique material"
   ]
  },
  {
   "cell_type": "code",
   "execution_count": 30,
   "metadata": {},
   "outputs": [],
   "source": [
    "df_1473287=df_cleaned[df_cleaned.bib==1473287]"
   ]
  },
  {
   "cell_type": "code",
   "execution_count": 31,
   "metadata": {},
   "outputs": [
    {
     "data": {
      "text/plain": [
       "241"
      ]
     },
     "execution_count": 31,
     "metadata": {},
     "output_type": "execute_result"
    }
   ],
   "source": [
    "len(df_1473287)"
   ]
  },
  {
   "cell_type": "code",
   "execution_count": 32,
   "metadata": {},
   "outputs": [
    {
     "data": {
      "text/html": [
       "<div>\n",
       "<style scoped>\n",
       "    .dataframe tbody tr th:only-of-type {\n",
       "        vertical-align: middle;\n",
       "    }\n",
       "\n",
       "    .dataframe tbody tr th {\n",
       "        vertical-align: top;\n",
       "    }\n",
       "\n",
       "    .dataframe thead th {\n",
       "        text-align: right;\n",
       "    }\n",
       "</style>\n",
       "<table border=\"1\" class=\"dataframe\">\n",
       "  <thead>\n",
       "    <tr style=\"text-align: right;\">\n",
       "      <th></th>\n",
       "      <th>bib</th>\n",
       "      <th>dateplaced</th>\n",
       "      <th>mat</th>\n",
       "      <th>datefilled</th>\n",
       "      <th>pickup</th>\n",
       "      <th>patron_hash</th>\n",
       "      <th>holds_by_patron</th>\n",
       "      <th>waitlist_rank</th>\n",
       "      <th>holds_on_title</th>\n",
       "      <th>count</th>\n",
       "    </tr>\n",
       "  </thead>\n",
       "  <tbody>\n",
       "    <tr>\n",
       "      <td>5650932</td>\n",
       "      <td>1473287</td>\n",
       "      <td>2015-05-19</td>\n",
       "      <td>a</td>\n",
       "      <td>2015-09-30</td>\n",
       "      <td>p</td>\n",
       "      <td>31fd35b3e1736ff6782c10e8c54c576e</td>\n",
       "      <td>1</td>\n",
       "      <td>7</td>\n",
       "      <td>9</td>\n",
       "      <td>1</td>\n",
       "    </tr>\n",
       "    <tr>\n",
       "      <td>5734079</td>\n",
       "      <td>1473287</td>\n",
       "      <td>2015-05-19</td>\n",
       "      <td>a</td>\n",
       "      <td>2015-09-30</td>\n",
       "      <td>d</td>\n",
       "      <td>7c95ea7729a48d4e47055c4d6c388830</td>\n",
       "      <td>1</td>\n",
       "      <td>4</td>\n",
       "      <td>9</td>\n",
       "      <td>1</td>\n",
       "    </tr>\n",
       "    <tr>\n",
       "      <td>5718970</td>\n",
       "      <td>1473287</td>\n",
       "      <td>2015-05-19</td>\n",
       "      <td>a</td>\n",
       "      <td>2015-09-30</td>\n",
       "      <td>p</td>\n",
       "      <td>1335e0ad1dbd922d8e9e905f95e171ce</td>\n",
       "      <td>1</td>\n",
       "      <td>8</td>\n",
       "      <td>9</td>\n",
       "      <td>1</td>\n",
       "    </tr>\n",
       "    <tr>\n",
       "      <td>5715909</td>\n",
       "      <td>1473287</td>\n",
       "      <td>2015-05-19</td>\n",
       "      <td>a</td>\n",
       "      <td>2015-09-30</td>\n",
       "      <td>p</td>\n",
       "      <td>e3a983a29a37cf40e1d864eeb62de8c6</td>\n",
       "      <td>1</td>\n",
       "      <td>1</td>\n",
       "      <td>9</td>\n",
       "      <td>1</td>\n",
       "    </tr>\n",
       "    <tr>\n",
       "      <td>5717220</td>\n",
       "      <td>1473287</td>\n",
       "      <td>2015-05-19</td>\n",
       "      <td>a</td>\n",
       "      <td>2015-09-25</td>\n",
       "      <td>d</td>\n",
       "      <td>fec215ecba077d943e3907a0eb80be98</td>\n",
       "      <td>1</td>\n",
       "      <td>2</td>\n",
       "      <td>9</td>\n",
       "      <td>1</td>\n",
       "    </tr>\n",
       "    <tr>\n",
       "      <td>...</td>\n",
       "      <td>...</td>\n",
       "      <td>...</td>\n",
       "      <td>...</td>\n",
       "      <td>...</td>\n",
       "      <td>...</td>\n",
       "      <td>...</td>\n",
       "      <td>...</td>\n",
       "      <td>...</td>\n",
       "      <td>...</td>\n",
       "      <td>...</td>\n",
       "    </tr>\n",
       "    <tr>\n",
       "      <td>7696475</td>\n",
       "      <td>1473287</td>\n",
       "      <td>2017-10-02</td>\n",
       "      <td>a</td>\n",
       "      <td>2017-10-03</td>\n",
       "      <td>m</td>\n",
       "      <td>31a481030bbf090b3a4ad670aa1a1484</td>\n",
       "      <td>15</td>\n",
       "      <td>1</td>\n",
       "      <td>1</td>\n",
       "      <td>1</td>\n",
       "    </tr>\n",
       "    <tr>\n",
       "      <td>7716126</td>\n",
       "      <td>1473287</td>\n",
       "      <td>2017-10-11</td>\n",
       "      <td>a</td>\n",
       "      <td>2017-10-12</td>\n",
       "      <td>m</td>\n",
       "      <td>09b4809ff6206f1a7b3e595dfd7354cd</td>\n",
       "      <td>15</td>\n",
       "      <td>1</td>\n",
       "      <td>1</td>\n",
       "      <td>1</td>\n",
       "    </tr>\n",
       "    <tr>\n",
       "      <td>7786281</td>\n",
       "      <td>1473287</td>\n",
       "      <td>2017-11-14</td>\n",
       "      <td>a</td>\n",
       "      <td>2017-11-15</td>\n",
       "      <td>t</td>\n",
       "      <td>1adaf650f2d9bd302e1a0f3fe767df3a</td>\n",
       "      <td>15</td>\n",
       "      <td>1</td>\n",
       "      <td>1</td>\n",
       "      <td>1</td>\n",
       "    </tr>\n",
       "    <tr>\n",
       "      <td>7845269</td>\n",
       "      <td>1473287</td>\n",
       "      <td>2017-12-15</td>\n",
       "      <td>a</td>\n",
       "      <td>2017-12-16</td>\n",
       "      <td>t</td>\n",
       "      <td>ef478f17e90f8c45fa1e2bc9dceac0a9</td>\n",
       "      <td>15</td>\n",
       "      <td>1</td>\n",
       "      <td>1</td>\n",
       "      <td>1</td>\n",
       "    </tr>\n",
       "    <tr>\n",
       "      <td>7847115</td>\n",
       "      <td>1473287</td>\n",
       "      <td>2017-12-16</td>\n",
       "      <td>a</td>\n",
       "      <td>2017-12-17</td>\n",
       "      <td>t</td>\n",
       "      <td>f0999eff0d4a12b819c9a19f45b11e48</td>\n",
       "      <td>15</td>\n",
       "      <td>1</td>\n",
       "      <td>1</td>\n",
       "      <td>1</td>\n",
       "    </tr>\n",
       "  </tbody>\n",
       "</table>\n",
       "<p>241 rows × 10 columns</p>\n",
       "</div>"
      ],
      "text/plain": [
       "             bib  dateplaced mat  datefilled pickup  \\\n",
       "5650932  1473287  2015-05-19   a  2015-09-30      p   \n",
       "5734079  1473287  2015-05-19   a  2015-09-30      d   \n",
       "5718970  1473287  2015-05-19   a  2015-09-30      p   \n",
       "5715909  1473287  2015-05-19   a  2015-09-30      p   \n",
       "5717220  1473287  2015-05-19   a  2015-09-25      d   \n",
       "...          ...         ...  ..         ...    ...   \n",
       "7696475  1473287  2017-10-02   a  2017-10-03      m   \n",
       "7716126  1473287  2017-10-11   a  2017-10-12      m   \n",
       "7786281  1473287  2017-11-14   a  2017-11-15      t   \n",
       "7845269  1473287  2017-12-15   a  2017-12-16      t   \n",
       "7847115  1473287  2017-12-16   a  2017-12-17      t   \n",
       "\n",
       "                              patron_hash  holds_by_patron  waitlist_rank  \\\n",
       "5650932  31fd35b3e1736ff6782c10e8c54c576e                1              7   \n",
       "5734079  7c95ea7729a48d4e47055c4d6c388830                1              4   \n",
       "5718970  1335e0ad1dbd922d8e9e905f95e171ce                1              8   \n",
       "5715909  e3a983a29a37cf40e1d864eeb62de8c6                1              1   \n",
       "5717220  fec215ecba077d943e3907a0eb80be98                1              2   \n",
       "...                                   ...              ...            ...   \n",
       "7696475  31a481030bbf090b3a4ad670aa1a1484               15              1   \n",
       "7716126  09b4809ff6206f1a7b3e595dfd7354cd               15              1   \n",
       "7786281  1adaf650f2d9bd302e1a0f3fe767df3a               15              1   \n",
       "7845269  ef478f17e90f8c45fa1e2bc9dceac0a9               15              1   \n",
       "7847115  f0999eff0d4a12b819c9a19f45b11e48               15              1   \n",
       "\n",
       "         holds_on_title  count  \n",
       "5650932               9      1  \n",
       "5734079               9      1  \n",
       "5718970               9      1  \n",
       "5715909               9      1  \n",
       "5717220               9      1  \n",
       "...                 ...    ...  \n",
       "7696475               1      1  \n",
       "7716126               1      1  \n",
       "7786281               1      1  \n",
       "7845269               1      1  \n",
       "7847115               1      1  \n",
       "\n",
       "[241 rows x 10 columns]"
      ]
     },
     "execution_count": 32,
     "metadata": {},
     "output_type": "execute_result"
    }
   ],
   "source": [
    "df_1473287.sort_values('dateplaced',ascending=True)"
   ]
  },
  {
   "cell_type": "markdown",
   "metadata": {},
   "source": [
    "### Look at each patrons number of holds placed based on total products:"
   ]
  },
  {
   "cell_type": "code",
   "execution_count": 33,
   "metadata": {},
   "outputs": [],
   "source": [
    "list_of_bibs = df_cleaned.groupby(['patron_hash','bib'])\\\n",
    "                         .agg({'count':'sum'})\\\n",
    "                         .reset_index()"
   ]
  },
  {
   "cell_type": "code",
   "execution_count": 34,
   "metadata": {},
   "outputs": [
    {
     "data": {
      "text/html": [
       "<div>\n",
       "<style scoped>\n",
       "    .dataframe tbody tr th:only-of-type {\n",
       "        vertical-align: middle;\n",
       "    }\n",
       "\n",
       "    .dataframe tbody tr th {\n",
       "        vertical-align: top;\n",
       "    }\n",
       "\n",
       "    .dataframe thead th {\n",
       "        text-align: right;\n",
       "    }\n",
       "</style>\n",
       "<table border=\"1\" class=\"dataframe\">\n",
       "  <thead>\n",
       "    <tr style=\"text-align: right;\">\n",
       "      <th></th>\n",
       "      <th>count</th>\n",
       "    </tr>\n",
       "    <tr>\n",
       "      <th>patron_hash</th>\n",
       "      <th></th>\n",
       "    </tr>\n",
       "  </thead>\n",
       "  <tbody>\n",
       "    <tr>\n",
       "      <td>c8b1a508e211b187dbd5a5fc04d68e94</td>\n",
       "      <td>1</td>\n",
       "    </tr>\n",
       "    <tr>\n",
       "      <td>5631d2cb3fd960a164eaa3c1b720c81a</td>\n",
       "      <td>1</td>\n",
       "    </tr>\n",
       "    <tr>\n",
       "      <td>bda94d80cdba4eff129f2e2e5d02756c</td>\n",
       "      <td>1</td>\n",
       "    </tr>\n",
       "    <tr>\n",
       "      <td>bdaf4322ce4724f5f181ec1c6093e81c</td>\n",
       "      <td>1</td>\n",
       "    </tr>\n",
       "    <tr>\n",
       "      <td>561e88df14d4b2acfee15432db0375c6</td>\n",
       "      <td>1</td>\n",
       "    </tr>\n",
       "    <tr>\n",
       "      <td>...</td>\n",
       "      <td>...</td>\n",
       "    </tr>\n",
       "    <tr>\n",
       "      <td>7eeeeaaa2dedb8939a02afe52c19717a</td>\n",
       "      <td>15895</td>\n",
       "    </tr>\n",
       "    <tr>\n",
       "      <td>b3d7ac776dfa48abb07798df594920ad</td>\n",
       "      <td>18976</td>\n",
       "    </tr>\n",
       "    <tr>\n",
       "      <td>aabc6de324dbc232975ebc5917fb0022</td>\n",
       "      <td>23165</td>\n",
       "    </tr>\n",
       "    <tr>\n",
       "      <td>ebc9d4edb43c41b6ab76610deeb47c3d</td>\n",
       "      <td>24502</td>\n",
       "    </tr>\n",
       "    <tr>\n",
       "      <td>be01f6a64d5f7336513c85ad6decf4e5</td>\n",
       "      <td>25390</td>\n",
       "    </tr>\n",
       "  </tbody>\n",
       "</table>\n",
       "<p>73817 rows × 1 columns</p>\n",
       "</div>"
      ],
      "text/plain": [
       "                                  count\n",
       "patron_hash                            \n",
       "c8b1a508e211b187dbd5a5fc04d68e94      1\n",
       "5631d2cb3fd960a164eaa3c1b720c81a      1\n",
       "bda94d80cdba4eff129f2e2e5d02756c      1\n",
       "bdaf4322ce4724f5f181ec1c6093e81c      1\n",
       "561e88df14d4b2acfee15432db0375c6      1\n",
       "...                                 ...\n",
       "7eeeeaaa2dedb8939a02afe52c19717a  15895\n",
       "b3d7ac776dfa48abb07798df594920ad  18976\n",
       "aabc6de324dbc232975ebc5917fb0022  23165\n",
       "ebc9d4edb43c41b6ab76610deeb47c3d  24502\n",
       "be01f6a64d5f7336513c85ad6decf4e5  25390\n",
       "\n",
       "[73817 rows x 1 columns]"
      ]
     },
     "execution_count": 34,
     "metadata": {},
     "output_type": "execute_result"
    }
   ],
   "source": [
    "list_of_bibs.groupby('patron_hash')\\\n",
    "            .sum()\\\n",
    "            .sort_values('count', ascending = 'True')\\\n",
    "            .drop(columns = 'bib')"
   ]
  },
  {
   "cell_type": "markdown",
   "metadata": {},
   "source": [
    "Look at the patrons who received their products (add a time elapsed column):"
   ]
  },
  {
   "cell_type": "markdown",
   "metadata": {},
   "source": [
    "### Dataframe with only holds that were fulfilled (i.e. had a date placed and a date fulfilled)"
   ]
  },
  {
   "cell_type": "code",
   "execution_count": 35,
   "metadata": {},
   "outputs": [],
   "source": [
    "#dateframe with only holds that were fulfilled\n",
    "df_only_holds_fulfilled=df_cleaned.dropna(subset=['datefilled'])"
   ]
  },
  {
   "cell_type": "code",
   "execution_count": 36,
   "metadata": {},
   "outputs": [],
   "source": [
    "import numpy as np"
   ]
  },
  {
   "cell_type": "code",
   "execution_count": 37,
   "metadata": {},
   "outputs": [],
   "source": [
    "df_cleaned['datefilled'] = pd.to_datetime(df_cleaned['datefilled'].replace('\\\\N',np.nan))\n",
    "df_cleaned['dateplaced'] = pd.to_datetime(df_cleaned['dateplaced'].replace('\\\\N',np.nan))"
   ]
  },
  {
   "cell_type": "code",
   "execution_count": 38,
   "metadata": {},
   "outputs": [],
   "source": [
    "df_only_holds_fulfilled['datefilled'] = pd.to_datetime(df_only_holds_fulfilled['datefilled'].replace('\\\\N',np.nan))\n",
    "df_only_holds_fulfilled['dateplaced'] = pd.to_datetime(df_only_holds_fulfilled['dateplaced'].replace('\\\\N',np.nan))"
   ]
  },
  {
   "cell_type": "code",
   "execution_count": 39,
   "metadata": {},
   "outputs": [],
   "source": [
    "df_only_holds_fulfilled['time_elapsed'] = df_only_holds_fulfilled['datefilled']-df_only_holds_fulfilled['dateplaced']"
   ]
  },
  {
   "cell_type": "code",
   "execution_count": 40,
   "metadata": {},
   "outputs": [
    {
     "data": {
      "text/html": [
       "<div>\n",
       "<style scoped>\n",
       "    .dataframe tbody tr th:only-of-type {\n",
       "        vertical-align: middle;\n",
       "    }\n",
       "\n",
       "    .dataframe tbody tr th {\n",
       "        vertical-align: top;\n",
       "    }\n",
       "\n",
       "    .dataframe thead th {\n",
       "        text-align: right;\n",
       "    }\n",
       "</style>\n",
       "<table border=\"1\" class=\"dataframe\">\n",
       "  <thead>\n",
       "    <tr style=\"text-align: right;\">\n",
       "      <th></th>\n",
       "      <th>bib</th>\n",
       "      <th>dateplaced</th>\n",
       "      <th>mat</th>\n",
       "      <th>datefilled</th>\n",
       "      <th>pickup</th>\n",
       "      <th>patron_hash</th>\n",
       "      <th>holds_by_patron</th>\n",
       "      <th>waitlist_rank</th>\n",
       "      <th>holds_on_title</th>\n",
       "      <th>count</th>\n",
       "      <th>time_elapsed</th>\n",
       "    </tr>\n",
       "  </thead>\n",
       "  <tbody>\n",
       "    <tr>\n",
       "      <td>4</td>\n",
       "      <td>1385687</td>\n",
       "      <td>2011-06-28</td>\n",
       "      <td>i</td>\n",
       "      <td>2011-09-03</td>\n",
       "      <td>d</td>\n",
       "      <td>a46b89cadb940379dc6be16b438c6172</td>\n",
       "      <td>3</td>\n",
       "      <td>10</td>\n",
       "      <td>10</td>\n",
       "      <td>1</td>\n",
       "      <td>67 days</td>\n",
       "    </tr>\n",
       "    <tr>\n",
       "      <td>3</td>\n",
       "      <td>1256631</td>\n",
       "      <td>2011-06-28</td>\n",
       "      <td>g</td>\n",
       "      <td>2011-08-22</td>\n",
       "      <td>d</td>\n",
       "      <td>a46b89cadb940379dc6be16b438c6172</td>\n",
       "      <td>2</td>\n",
       "      <td>3</td>\n",
       "      <td>3</td>\n",
       "      <td>1</td>\n",
       "      <td>55 days</td>\n",
       "    </tr>\n",
       "    <tr>\n",
       "      <td>2</td>\n",
       "      <td>1376781</td>\n",
       "      <td>2011-06-28</td>\n",
       "      <td>g</td>\n",
       "      <td>2011-08-15</td>\n",
       "      <td>d</td>\n",
       "      <td>a46b89cadb940379dc6be16b438c6172</td>\n",
       "      <td>3</td>\n",
       "      <td>6</td>\n",
       "      <td>6</td>\n",
       "      <td>1</td>\n",
       "      <td>48 days</td>\n",
       "    </tr>\n",
       "    <tr>\n",
       "      <td>1</td>\n",
       "      <td>1360750</td>\n",
       "      <td>2011-06-28</td>\n",
       "      <td>a</td>\n",
       "      <td>2011-07-01</td>\n",
       "      <td>t</td>\n",
       "      <td>30f07070f129d00577f554d5274d65a6</td>\n",
       "      <td>46</td>\n",
       "      <td>2</td>\n",
       "      <td>4</td>\n",
       "      <td>1</td>\n",
       "      <td>3 days</td>\n",
       "    </tr>\n",
       "    <tr>\n",
       "      <td>0</td>\n",
       "      <td>1370952</td>\n",
       "      <td>2011-06-28</td>\n",
       "      <td>a</td>\n",
       "      <td>2011-06-29</td>\n",
       "      <td>t</td>\n",
       "      <td>30f07070f129d00577f554d5274d65a6</td>\n",
       "      <td>41</td>\n",
       "      <td>1</td>\n",
       "      <td>1</td>\n",
       "      <td>1</td>\n",
       "      <td>1 days</td>\n",
       "    </tr>\n",
       "  </tbody>\n",
       "</table>\n",
       "</div>"
      ],
      "text/plain": [
       "       bib dateplaced mat datefilled pickup                       patron_hash  \\\n",
       "4  1385687 2011-06-28   i 2011-09-03      d  a46b89cadb940379dc6be16b438c6172   \n",
       "3  1256631 2011-06-28   g 2011-08-22      d  a46b89cadb940379dc6be16b438c6172   \n",
       "2  1376781 2011-06-28   g 2011-08-15      d  a46b89cadb940379dc6be16b438c6172   \n",
       "1  1360750 2011-06-28   a 2011-07-01      t  30f07070f129d00577f554d5274d65a6   \n",
       "0  1370952 2011-06-28   a 2011-06-29      t  30f07070f129d00577f554d5274d65a6   \n",
       "\n",
       "   holds_by_patron  waitlist_rank  holds_on_title  count time_elapsed  \n",
       "4                3             10              10      1      67 days  \n",
       "3                2              3               3      1      55 days  \n",
       "2                3              6               6      1      48 days  \n",
       "1               46              2               4      1       3 days  \n",
       "0               41              1               1      1       1 days  "
      ]
     },
     "execution_count": 40,
     "metadata": {},
     "output_type": "execute_result"
    }
   ],
   "source": [
    "df_only_holds_fulfilled.head().sort_values('time_elapsed',ascending=False)"
   ]
  },
  {
   "cell_type": "code",
   "execution_count": 41,
   "metadata": {},
   "outputs": [],
   "source": [
    "df_only_holds_fulfilled['month'] = df_only_holds_fulfilled['dateplaced'].dt.month\n",
    "df_only_holds_fulfilled['year'] = df_only_holds_fulfilled['dateplaced'].dt.year"
   ]
  },
  {
   "cell_type": "code",
   "execution_count": 42,
   "metadata": {},
   "outputs": [
    {
     "data": {
      "text/html": [
       "<div>\n",
       "<style scoped>\n",
       "    .dataframe tbody tr th:only-of-type {\n",
       "        vertical-align: middle;\n",
       "    }\n",
       "\n",
       "    .dataframe tbody tr th {\n",
       "        vertical-align: top;\n",
       "    }\n",
       "\n",
       "    .dataframe thead th {\n",
       "        text-align: right;\n",
       "    }\n",
       "</style>\n",
       "<table border=\"1\" class=\"dataframe\">\n",
       "  <thead>\n",
       "    <tr style=\"text-align: right;\">\n",
       "      <th></th>\n",
       "      <th>bib</th>\n",
       "      <th>dateplaced</th>\n",
       "      <th>mat</th>\n",
       "      <th>datefilled</th>\n",
       "      <th>pickup</th>\n",
       "      <th>patron_hash</th>\n",
       "      <th>holds_by_patron</th>\n",
       "      <th>waitlist_rank</th>\n",
       "      <th>holds_on_title</th>\n",
       "      <th>count</th>\n",
       "      <th>time_elapsed</th>\n",
       "      <th>month</th>\n",
       "      <th>year</th>\n",
       "    </tr>\n",
       "  </thead>\n",
       "  <tbody>\n",
       "    <tr>\n",
       "      <td>0</td>\n",
       "      <td>1370952</td>\n",
       "      <td>2011-06-28</td>\n",
       "      <td>a</td>\n",
       "      <td>2011-06-29</td>\n",
       "      <td>t</td>\n",
       "      <td>30f07070f129d00577f554d5274d65a6</td>\n",
       "      <td>41</td>\n",
       "      <td>1</td>\n",
       "      <td>1</td>\n",
       "      <td>1</td>\n",
       "      <td>1 days</td>\n",
       "      <td>6</td>\n",
       "      <td>2011</td>\n",
       "    </tr>\n",
       "    <tr>\n",
       "      <td>1</td>\n",
       "      <td>1360750</td>\n",
       "      <td>2011-06-28</td>\n",
       "      <td>a</td>\n",
       "      <td>2011-07-01</td>\n",
       "      <td>t</td>\n",
       "      <td>30f07070f129d00577f554d5274d65a6</td>\n",
       "      <td>46</td>\n",
       "      <td>2</td>\n",
       "      <td>4</td>\n",
       "      <td>1</td>\n",
       "      <td>3 days</td>\n",
       "      <td>6</td>\n",
       "      <td>2011</td>\n",
       "    </tr>\n",
       "    <tr>\n",
       "      <td>2</td>\n",
       "      <td>1376781</td>\n",
       "      <td>2011-06-28</td>\n",
       "      <td>g</td>\n",
       "      <td>2011-08-15</td>\n",
       "      <td>d</td>\n",
       "      <td>a46b89cadb940379dc6be16b438c6172</td>\n",
       "      <td>3</td>\n",
       "      <td>6</td>\n",
       "      <td>6</td>\n",
       "      <td>1</td>\n",
       "      <td>48 days</td>\n",
       "      <td>6</td>\n",
       "      <td>2011</td>\n",
       "    </tr>\n",
       "    <tr>\n",
       "      <td>3</td>\n",
       "      <td>1256631</td>\n",
       "      <td>2011-06-28</td>\n",
       "      <td>g</td>\n",
       "      <td>2011-08-22</td>\n",
       "      <td>d</td>\n",
       "      <td>a46b89cadb940379dc6be16b438c6172</td>\n",
       "      <td>2</td>\n",
       "      <td>3</td>\n",
       "      <td>3</td>\n",
       "      <td>1</td>\n",
       "      <td>55 days</td>\n",
       "      <td>6</td>\n",
       "      <td>2011</td>\n",
       "    </tr>\n",
       "    <tr>\n",
       "      <td>4</td>\n",
       "      <td>1385687</td>\n",
       "      <td>2011-06-28</td>\n",
       "      <td>i</td>\n",
       "      <td>2011-09-03</td>\n",
       "      <td>d</td>\n",
       "      <td>a46b89cadb940379dc6be16b438c6172</td>\n",
       "      <td>3</td>\n",
       "      <td>10</td>\n",
       "      <td>10</td>\n",
       "      <td>1</td>\n",
       "      <td>67 days</td>\n",
       "      <td>6</td>\n",
       "      <td>2011</td>\n",
       "    </tr>\n",
       "    <tr>\n",
       "      <td>...</td>\n",
       "      <td>...</td>\n",
       "      <td>...</td>\n",
       "      <td>...</td>\n",
       "      <td>...</td>\n",
       "      <td>...</td>\n",
       "      <td>...</td>\n",
       "      <td>...</td>\n",
       "      <td>...</td>\n",
       "      <td>...</td>\n",
       "      <td>...</td>\n",
       "      <td>...</td>\n",
       "      <td>...</td>\n",
       "      <td>...</td>\n",
       "    </tr>\n",
       "    <tr>\n",
       "      <td>7862308</td>\n",
       "      <td>1486537</td>\n",
       "      <td>2017-12-28</td>\n",
       "      <td>g</td>\n",
       "      <td>2017-12-29</td>\n",
       "      <td>d</td>\n",
       "      <td>b4038a4113888009acb764f8d72a2a07</td>\n",
       "      <td>14</td>\n",
       "      <td>2</td>\n",
       "      <td>2</td>\n",
       "      <td>1</td>\n",
       "      <td>1 days</td>\n",
       "      <td>12</td>\n",
       "      <td>2017</td>\n",
       "    </tr>\n",
       "    <tr>\n",
       "      <td>7862408</td>\n",
       "      <td>1458193</td>\n",
       "      <td>2017-12-28</td>\n",
       "      <td>i</td>\n",
       "      <td>2017-12-29</td>\n",
       "      <td>m</td>\n",
       "      <td>e97c2736abd03bba706c3513c079ba6c</td>\n",
       "      <td>9</td>\n",
       "      <td>1</td>\n",
       "      <td>1</td>\n",
       "      <td>1</td>\n",
       "      <td>1 days</td>\n",
       "      <td>12</td>\n",
       "      <td>2017</td>\n",
       "    </tr>\n",
       "    <tr>\n",
       "      <td>7862525</td>\n",
       "      <td>1174132</td>\n",
       "      <td>2017-12-28</td>\n",
       "      <td>a</td>\n",
       "      <td>2017-12-29</td>\n",
       "      <td>d</td>\n",
       "      <td>cddda251cbbae5ea94061425e4e2ef91</td>\n",
       "      <td>4</td>\n",
       "      <td>2</td>\n",
       "      <td>2</td>\n",
       "      <td>1</td>\n",
       "      <td>1 days</td>\n",
       "      <td>12</td>\n",
       "      <td>2017</td>\n",
       "    </tr>\n",
       "    <tr>\n",
       "      <td>7862538</td>\n",
       "      <td>1508895</td>\n",
       "      <td>2017-12-28</td>\n",
       "      <td>g</td>\n",
       "      <td>2017-12-29</td>\n",
       "      <td>m</td>\n",
       "      <td>145920971b8416a97cb3a9021e21334d</td>\n",
       "      <td>15</td>\n",
       "      <td>1</td>\n",
       "      <td>1</td>\n",
       "      <td>1</td>\n",
       "      <td>1 days</td>\n",
       "      <td>12</td>\n",
       "      <td>2017</td>\n",
       "    </tr>\n",
       "    <tr>\n",
       "      <td>7862676</td>\n",
       "      <td>1520449</td>\n",
       "      <td>2017-12-29</td>\n",
       "      <td>g</td>\n",
       "      <td>2018-01-03</td>\n",
       "      <td>d</td>\n",
       "      <td>7c652e99dfc2d42e97df4ebe28e303c9</td>\n",
       "      <td>3</td>\n",
       "      <td>8</td>\n",
       "      <td>8</td>\n",
       "      <td>1</td>\n",
       "      <td>5 days</td>\n",
       "      <td>12</td>\n",
       "      <td>2017</td>\n",
       "    </tr>\n",
       "  </tbody>\n",
       "</table>\n",
       "<p>7803387 rows × 13 columns</p>\n",
       "</div>"
      ],
      "text/plain": [
       "             bib dateplaced mat datefilled pickup  \\\n",
       "0        1370952 2011-06-28   a 2011-06-29      t   \n",
       "1        1360750 2011-06-28   a 2011-07-01      t   \n",
       "2        1376781 2011-06-28   g 2011-08-15      d   \n",
       "3        1256631 2011-06-28   g 2011-08-22      d   \n",
       "4        1385687 2011-06-28   i 2011-09-03      d   \n",
       "...          ...        ...  ..        ...    ...   \n",
       "7862308  1486537 2017-12-28   g 2017-12-29      d   \n",
       "7862408  1458193 2017-12-28   i 2017-12-29      m   \n",
       "7862525  1174132 2017-12-28   a 2017-12-29      d   \n",
       "7862538  1508895 2017-12-28   g 2017-12-29      m   \n",
       "7862676  1520449 2017-12-29   g 2018-01-03      d   \n",
       "\n",
       "                              patron_hash  holds_by_patron  waitlist_rank  \\\n",
       "0        30f07070f129d00577f554d5274d65a6               41              1   \n",
       "1        30f07070f129d00577f554d5274d65a6               46              2   \n",
       "2        a46b89cadb940379dc6be16b438c6172                3              6   \n",
       "3        a46b89cadb940379dc6be16b438c6172                2              3   \n",
       "4        a46b89cadb940379dc6be16b438c6172                3             10   \n",
       "...                                   ...              ...            ...   \n",
       "7862308  b4038a4113888009acb764f8d72a2a07               14              2   \n",
       "7862408  e97c2736abd03bba706c3513c079ba6c                9              1   \n",
       "7862525  cddda251cbbae5ea94061425e4e2ef91                4              2   \n",
       "7862538  145920971b8416a97cb3a9021e21334d               15              1   \n",
       "7862676  7c652e99dfc2d42e97df4ebe28e303c9                3              8   \n",
       "\n",
       "         holds_on_title  count time_elapsed  month  year  \n",
       "0                     1      1       1 days      6  2011  \n",
       "1                     4      1       3 days      6  2011  \n",
       "2                     6      1      48 days      6  2011  \n",
       "3                     3      1      55 days      6  2011  \n",
       "4                    10      1      67 days      6  2011  \n",
       "...                 ...    ...          ...    ...   ...  \n",
       "7862308               2      1       1 days     12  2017  \n",
       "7862408               1      1       1 days     12  2017  \n",
       "7862525               2      1       1 days     12  2017  \n",
       "7862538               1      1       1 days     12  2017  \n",
       "7862676               8      1       5 days     12  2017  \n",
       "\n",
       "[7803387 rows x 13 columns]"
      ]
     },
     "execution_count": 42,
     "metadata": {},
     "output_type": "execute_result"
    }
   ],
   "source": [
    "#dateframe with only holds that were fulfilled\n",
    "df_only_holds_fulfilled=df_only_holds_fulfilled.dropna(subset=['time_elapsed'])\n",
    "df_only_holds_fulfilled"
   ]
  },
  {
   "cell_type": "markdown",
   "metadata": {},
   "source": [
    "How long did patrons wait on a monthly basis over time :"
   ]
  },
  {
   "cell_type": "code",
   "execution_count": 43,
   "metadata": {},
   "outputs": [],
   "source": [
    "# df_only_holds_fulfilled.groupby(['year','month']).sum()\n",
    "x = df_only_holds_fulfilled.groupby(['year','month'])['time_elapsed'].apply(lambda x: np.mean(x)).reset_index()\\\n",
    "                       .sort_values(['year','month'], ascending = 'True')"
   ]
  },
  {
   "cell_type": "code",
   "execution_count": 48,
   "metadata": {},
   "outputs": [
    {
     "data": {
      "text/html": [
       "<div>\n",
       "<style scoped>\n",
       "    .dataframe tbody tr th:only-of-type {\n",
       "        vertical-align: middle;\n",
       "    }\n",
       "\n",
       "    .dataframe tbody tr th {\n",
       "        vertical-align: top;\n",
       "    }\n",
       "\n",
       "    .dataframe thead th {\n",
       "        text-align: right;\n",
       "    }\n",
       "</style>\n",
       "<table border=\"1\" class=\"dataframe\">\n",
       "  <thead>\n",
       "    <tr style=\"text-align: right;\">\n",
       "      <th></th>\n",
       "      <th>year</th>\n",
       "      <th>month</th>\n",
       "      <th>time_elapsed</th>\n",
       "    </tr>\n",
       "  </thead>\n",
       "  <tbody>\n",
       "    <tr>\n",
       "      <td>0</td>\n",
       "      <td>2006</td>\n",
       "      <td>5</td>\n",
       "      <td>2201 days 00:00:00</td>\n",
       "    </tr>\n",
       "    <tr>\n",
       "      <td>1</td>\n",
       "      <td>2010</td>\n",
       "      <td>3</td>\n",
       "      <td>27 days 19:38:31.415639</td>\n",
       "    </tr>\n",
       "    <tr>\n",
       "      <td>2</td>\n",
       "      <td>2010</td>\n",
       "      <td>4</td>\n",
       "      <td>24 days 02:02:44.461381</td>\n",
       "    </tr>\n",
       "    <tr>\n",
       "      <td>3</td>\n",
       "      <td>2010</td>\n",
       "      <td>5</td>\n",
       "      <td>22 days 10:11:31.676458</td>\n",
       "    </tr>\n",
       "    <tr>\n",
       "      <td>4</td>\n",
       "      <td>2010</td>\n",
       "      <td>6</td>\n",
       "      <td>20 days 04:21:52.040705</td>\n",
       "    </tr>\n",
       "  </tbody>\n",
       "</table>\n",
       "</div>"
      ],
      "text/plain": [
       "   year  month            time_elapsed\n",
       "0  2006      5      2201 days 00:00:00\n",
       "1  2010      3 27 days 19:38:31.415639\n",
       "2  2010      4 24 days 02:02:44.461381\n",
       "3  2010      5 22 days 10:11:31.676458\n",
       "4  2010      6 20 days 04:21:52.040705"
      ]
     },
     "execution_count": 48,
     "metadata": {},
     "output_type": "execute_result"
    }
   ],
   "source": [
    "x.head()"
   ]
  },
  {
   "cell_type": "code",
   "execution_count": 49,
   "metadata": {},
   "outputs": [],
   "source": [
    "x['yearmon'] = x['year'].astype(str) + x['month'].astype(str)"
   ]
  },
  {
   "cell_type": "code",
   "execution_count": 50,
   "metadata": {},
   "outputs": [
    {
     "data": {
      "text/html": [
       "<div>\n",
       "<style scoped>\n",
       "    .dataframe tbody tr th:only-of-type {\n",
       "        vertical-align: middle;\n",
       "    }\n",
       "\n",
       "    .dataframe tbody tr th {\n",
       "        vertical-align: top;\n",
       "    }\n",
       "\n",
       "    .dataframe thead th {\n",
       "        text-align: right;\n",
       "    }\n",
       "</style>\n",
       "<table border=\"1\" class=\"dataframe\">\n",
       "  <thead>\n",
       "    <tr style=\"text-align: right;\">\n",
       "      <th></th>\n",
       "      <th>year</th>\n",
       "      <th>month</th>\n",
       "      <th>time_elapsed</th>\n",
       "      <th>yearmon</th>\n",
       "    </tr>\n",
       "  </thead>\n",
       "  <tbody>\n",
       "    <tr>\n",
       "      <td>0</td>\n",
       "      <td>2006</td>\n",
       "      <td>5</td>\n",
       "      <td>2201 days 00:00:00</td>\n",
       "      <td>20065</td>\n",
       "    </tr>\n",
       "    <tr>\n",
       "      <td>1</td>\n",
       "      <td>2010</td>\n",
       "      <td>3</td>\n",
       "      <td>27 days 19:38:31.415639</td>\n",
       "      <td>20103</td>\n",
       "    </tr>\n",
       "    <tr>\n",
       "      <td>2</td>\n",
       "      <td>2010</td>\n",
       "      <td>4</td>\n",
       "      <td>24 days 02:02:44.461381</td>\n",
       "      <td>20104</td>\n",
       "    </tr>\n",
       "    <tr>\n",
       "      <td>3</td>\n",
       "      <td>2010</td>\n",
       "      <td>5</td>\n",
       "      <td>22 days 10:11:31.676458</td>\n",
       "      <td>20105</td>\n",
       "    </tr>\n",
       "    <tr>\n",
       "      <td>4</td>\n",
       "      <td>2010</td>\n",
       "      <td>6</td>\n",
       "      <td>20 days 04:21:52.040705</td>\n",
       "      <td>20106</td>\n",
       "    </tr>\n",
       "    <tr>\n",
       "      <td>...</td>\n",
       "      <td>...</td>\n",
       "      <td>...</td>\n",
       "      <td>...</td>\n",
       "      <td>...</td>\n",
       "    </tr>\n",
       "    <tr>\n",
       "      <td>90</td>\n",
       "      <td>2017</td>\n",
       "      <td>8</td>\n",
       "      <td>17 days 01:20:57.745078</td>\n",
       "      <td>20178</td>\n",
       "    </tr>\n",
       "    <tr>\n",
       "      <td>91</td>\n",
       "      <td>2017</td>\n",
       "      <td>9</td>\n",
       "      <td>18 days 01:16:09.074591</td>\n",
       "      <td>20179</td>\n",
       "    </tr>\n",
       "    <tr>\n",
       "      <td>92</td>\n",
       "      <td>2017</td>\n",
       "      <td>10</td>\n",
       "      <td>11 days 23:40:14.086766</td>\n",
       "      <td>201710</td>\n",
       "    </tr>\n",
       "    <tr>\n",
       "      <td>93</td>\n",
       "      <td>2017</td>\n",
       "      <td>11</td>\n",
       "      <td>5 days 17:05:06.546035</td>\n",
       "      <td>201711</td>\n",
       "    </tr>\n",
       "    <tr>\n",
       "      <td>94</td>\n",
       "      <td>2017</td>\n",
       "      <td>12</td>\n",
       "      <td>2 days 03:56:45.386485</td>\n",
       "      <td>201712</td>\n",
       "    </tr>\n",
       "  </tbody>\n",
       "</table>\n",
       "<p>95 rows × 4 columns</p>\n",
       "</div>"
      ],
      "text/plain": [
       "    year  month            time_elapsed yearmon\n",
       "0   2006      5      2201 days 00:00:00   20065\n",
       "1   2010      3 27 days 19:38:31.415639   20103\n",
       "2   2010      4 24 days 02:02:44.461381   20104\n",
       "3   2010      5 22 days 10:11:31.676458   20105\n",
       "4   2010      6 20 days 04:21:52.040705   20106\n",
       "..   ...    ...                     ...     ...\n",
       "90  2017      8 17 days 01:20:57.745078   20178\n",
       "91  2017      9 18 days 01:16:09.074591   20179\n",
       "92  2017     10 11 days 23:40:14.086766  201710\n",
       "93  2017     11  5 days 17:05:06.546035  201711\n",
       "94  2017     12  2 days 03:56:45.386485  201712\n",
       "\n",
       "[95 rows x 4 columns]"
      ]
     },
     "execution_count": 50,
     "metadata": {},
     "output_type": "execute_result"
    }
   ],
   "source": [
    "x"
   ]
  },
  {
   "cell_type": "markdown",
   "metadata": {},
   "source": [
    "Yearmon needs to be fixed so we can look at trends: "
   ]
  },
  {
   "cell_type": "code",
   "execution_count": 51,
   "metadata": {},
   "outputs": [],
   "source": [
    "x['yearmon'] = x['yearmon'].astype(int)"
   ]
  },
  {
   "cell_type": "code",
   "execution_count": 52,
   "metadata": {},
   "outputs": [],
   "source": [
    "x['time_elapsed'] = x['time_elapsed'].dt.days.astype(int)"
   ]
  },
  {
   "cell_type": "code",
   "execution_count": 53,
   "metadata": {},
   "outputs": [
    {
     "data": {
      "text/html": [
       "<div>\n",
       "<style scoped>\n",
       "    .dataframe tbody tr th:only-of-type {\n",
       "        vertical-align: middle;\n",
       "    }\n",
       "\n",
       "    .dataframe tbody tr th {\n",
       "        vertical-align: top;\n",
       "    }\n",
       "\n",
       "    .dataframe thead th {\n",
       "        text-align: right;\n",
       "    }\n",
       "</style>\n",
       "<table border=\"1\" class=\"dataframe\">\n",
       "  <thead>\n",
       "    <tr style=\"text-align: right;\">\n",
       "      <th></th>\n",
       "      <th>year</th>\n",
       "      <th>month</th>\n",
       "      <th>time_elapsed</th>\n",
       "      <th>yearmon</th>\n",
       "    </tr>\n",
       "  </thead>\n",
       "  <tbody>\n",
       "    <tr>\n",
       "      <td>0</td>\n",
       "      <td>2006</td>\n",
       "      <td>5</td>\n",
       "      <td>2201</td>\n",
       "      <td>20065</td>\n",
       "    </tr>\n",
       "    <tr>\n",
       "      <td>1</td>\n",
       "      <td>2010</td>\n",
       "      <td>3</td>\n",
       "      <td>27</td>\n",
       "      <td>20103</td>\n",
       "    </tr>\n",
       "    <tr>\n",
       "      <td>2</td>\n",
       "      <td>2010</td>\n",
       "      <td>4</td>\n",
       "      <td>24</td>\n",
       "      <td>20104</td>\n",
       "    </tr>\n",
       "    <tr>\n",
       "      <td>3</td>\n",
       "      <td>2010</td>\n",
       "      <td>5</td>\n",
       "      <td>22</td>\n",
       "      <td>20105</td>\n",
       "    </tr>\n",
       "    <tr>\n",
       "      <td>4</td>\n",
       "      <td>2010</td>\n",
       "      <td>6</td>\n",
       "      <td>20</td>\n",
       "      <td>20106</td>\n",
       "    </tr>\n",
       "    <tr>\n",
       "      <td>...</td>\n",
       "      <td>...</td>\n",
       "      <td>...</td>\n",
       "      <td>...</td>\n",
       "      <td>...</td>\n",
       "    </tr>\n",
       "    <tr>\n",
       "      <td>90</td>\n",
       "      <td>2017</td>\n",
       "      <td>8</td>\n",
       "      <td>17</td>\n",
       "      <td>20178</td>\n",
       "    </tr>\n",
       "    <tr>\n",
       "      <td>91</td>\n",
       "      <td>2017</td>\n",
       "      <td>9</td>\n",
       "      <td>18</td>\n",
       "      <td>20179</td>\n",
       "    </tr>\n",
       "    <tr>\n",
       "      <td>92</td>\n",
       "      <td>2017</td>\n",
       "      <td>10</td>\n",
       "      <td>11</td>\n",
       "      <td>201710</td>\n",
       "    </tr>\n",
       "    <tr>\n",
       "      <td>93</td>\n",
       "      <td>2017</td>\n",
       "      <td>11</td>\n",
       "      <td>5</td>\n",
       "      <td>201711</td>\n",
       "    </tr>\n",
       "    <tr>\n",
       "      <td>94</td>\n",
       "      <td>2017</td>\n",
       "      <td>12</td>\n",
       "      <td>2</td>\n",
       "      <td>201712</td>\n",
       "    </tr>\n",
       "  </tbody>\n",
       "</table>\n",
       "<p>95 rows × 4 columns</p>\n",
       "</div>"
      ],
      "text/plain": [
       "    year  month  time_elapsed  yearmon\n",
       "0   2006      5          2201    20065\n",
       "1   2010      3            27    20103\n",
       "2   2010      4            24    20104\n",
       "3   2010      5            22    20105\n",
       "4   2010      6            20    20106\n",
       "..   ...    ...           ...      ...\n",
       "90  2017      8            17    20178\n",
       "91  2017      9            18    20179\n",
       "92  2017     10            11   201710\n",
       "93  2017     11             5   201711\n",
       "94  2017     12             2   201712\n",
       "\n",
       "[95 rows x 4 columns]"
      ]
     },
     "execution_count": 53,
     "metadata": {},
     "output_type": "execute_result"
    }
   ],
   "source": [
    "x"
   ]
  },
  {
   "cell_type": "code",
   "execution_count": 54,
   "metadata": {},
   "outputs": [],
   "source": [
    "import seaborn as sns\n",
    "import matplotlib as plt"
   ]
  },
  {
   "cell_type": "code",
   "execution_count": 55,
   "metadata": {},
   "outputs": [
    {
     "data": {
      "text/plain": [
       "<matplotlib.axes._subplots.AxesSubplot at 0x18da60e10>"
      ]
     },
     "execution_count": 55,
     "metadata": {},
     "output_type": "execute_result"
    },
    {
     "data": {
      "image/png": "[encoded data removed]",
      "text/plain": [
       "<Figure size 432x288 with 1 Axes>"
      ]
     },
     "metadata": {
      "needs_background": "light"
     },
     "output_type": "display_data"
    }
   ],
   "source": [
    "sns.lineplot(x = 'yearmon', y ='time_elapsed', data = x)"
   ]
  },
  {
   "cell_type": "code",
   "execution_count": 56,
   "metadata": {},
   "outputs": [],
   "source": [
    "#df_1473287['holds_on_title'] = df_1473287['holds_on_title'].astype(int)\n",
    "#df_1473287['dateplaced'] = pd.to_datetime(df_1473287['dateplaced'])"
   ]
  },
  {
   "cell_type": "markdown",
   "metadata": {},
   "source": [
    "Plotting hold demand over time for bib 1473287"
   ]
  },
  {
   "cell_type": "code",
   "execution_count": 57,
   "metadata": {},
   "outputs": [],
   "source": [
    "import seaborn as sns\n",
    "import matplotlib as plt"
   ]
  },
  {
   "cell_type": "code",
   "execution_count": 58,
   "metadata": {},
   "outputs": [],
   "source": [
    "df_hunger_games=df_only_holds_fulfilled[df_only_holds_fulfilled['bib']==1319099]"
   ]
  },
  {
   "cell_type": "code",
   "execution_count": 59,
   "metadata": {},
   "outputs": [
    {
     "data": {
      "text/html": [
       "<div>\n",
       "<style scoped>\n",
       "    .dataframe tbody tr th:only-of-type {\n",
       "        vertical-align: middle;\n",
       "    }\n",
       "\n",
       "    .dataframe tbody tr th {\n",
       "        vertical-align: top;\n",
       "    }\n",
       "\n",
       "    .dataframe thead th {\n",
       "        text-align: right;\n",
       "    }\n",
       "</style>\n",
       "<table border=\"1\" class=\"dataframe\">\n",
       "  <thead>\n",
       "    <tr style=\"text-align: right;\">\n",
       "      <th></th>\n",
       "      <th>bib</th>\n",
       "      <th>dateplaced</th>\n",
       "      <th>mat</th>\n",
       "      <th>datefilled</th>\n",
       "      <th>pickup</th>\n",
       "      <th>patron_hash</th>\n",
       "      <th>holds_by_patron</th>\n",
       "      <th>waitlist_rank</th>\n",
       "      <th>holds_on_title</th>\n",
       "      <th>count</th>\n",
       "      <th>time_elapsed</th>\n",
       "      <th>month</th>\n",
       "      <th>year</th>\n",
       "    </tr>\n",
       "  </thead>\n",
       "  <tbody>\n",
       "    <tr>\n",
       "      <td>1241</td>\n",
       "      <td>1319099</td>\n",
       "      <td>2011-06-28</td>\n",
       "      <td>a</td>\n",
       "      <td>2011-07-30</td>\n",
       "      <td>p</td>\n",
       "      <td>ae272b5d5ee0844b87f521f4ace6c05b</td>\n",
       "      <td>59</td>\n",
       "      <td>104</td>\n",
       "      <td>105</td>\n",
       "      <td>1</td>\n",
       "      <td>32 days</td>\n",
       "      <td>6</td>\n",
       "      <td>2011</td>\n",
       "    </tr>\n",
       "    <tr>\n",
       "      <td>1641</td>\n",
       "      <td>1319099</td>\n",
       "      <td>2011-06-28</td>\n",
       "      <td>a</td>\n",
       "      <td>2011-07-30</td>\n",
       "      <td>t</td>\n",
       "      <td>0cd62db4df7249b678670796267ae4ec</td>\n",
       "      <td>59</td>\n",
       "      <td>105</td>\n",
       "      <td>105</td>\n",
       "      <td>1</td>\n",
       "      <td>32 days</td>\n",
       "      <td>6</td>\n",
       "      <td>2011</td>\n",
       "    </tr>\n",
       "    <tr>\n",
       "      <td>2020</td>\n",
       "      <td>1319099</td>\n",
       "      <td>2011-06-28</td>\n",
       "      <td>a</td>\n",
       "      <td>2011-07-29</td>\n",
       "      <td>w</td>\n",
       "      <td>8663a3d01f9755799094c907dc0da735</td>\n",
       "      <td>59</td>\n",
       "      <td>102</td>\n",
       "      <td>105</td>\n",
       "      <td>1</td>\n",
       "      <td>31 days</td>\n",
       "      <td>6</td>\n",
       "      <td>2011</td>\n",
       "    </tr>\n",
       "    <tr>\n",
       "      <td>3312</td>\n",
       "      <td>1319099</td>\n",
       "      <td>2011-06-27</td>\n",
       "      <td>a</td>\n",
       "      <td>2011-07-27</td>\n",
       "      <td>m</td>\n",
       "      <td>d8c47a66140164faaa5913f72f4aa9c5</td>\n",
       "      <td>59</td>\n",
       "      <td>104</td>\n",
       "      <td>105</td>\n",
       "      <td>1</td>\n",
       "      <td>30 days</td>\n",
       "      <td>6</td>\n",
       "      <td>2011</td>\n",
       "    </tr>\n",
       "    <tr>\n",
       "      <td>3546</td>\n",
       "      <td>1319099</td>\n",
       "      <td>2011-06-27</td>\n",
       "      <td>a</td>\n",
       "      <td>2011-07-29</td>\n",
       "      <td>d</td>\n",
       "      <td>990e5a5ddae119746f8a67ec1e0d0560</td>\n",
       "      <td>59</td>\n",
       "      <td>105</td>\n",
       "      <td>105</td>\n",
       "      <td>1</td>\n",
       "      <td>32 days</td>\n",
       "      <td>6</td>\n",
       "      <td>2011</td>\n",
       "    </tr>\n",
       "  </tbody>\n",
       "</table>\n",
       "</div>"
      ],
      "text/plain": [
       "          bib dateplaced mat datefilled pickup  \\\n",
       "1241  1319099 2011-06-28   a 2011-07-30      p   \n",
       "1641  1319099 2011-06-28   a 2011-07-30      t   \n",
       "2020  1319099 2011-06-28   a 2011-07-29      w   \n",
       "3312  1319099 2011-06-27   a 2011-07-27      m   \n",
       "3546  1319099 2011-06-27   a 2011-07-29      d   \n",
       "\n",
       "                           patron_hash  holds_by_patron  waitlist_rank  \\\n",
       "1241  ae272b5d5ee0844b87f521f4ace6c05b               59            104   \n",
       "1641  0cd62db4df7249b678670796267ae4ec               59            105   \n",
       "2020  8663a3d01f9755799094c907dc0da735               59            102   \n",
       "3312  d8c47a66140164faaa5913f72f4aa9c5               59            104   \n",
       "3546  990e5a5ddae119746f8a67ec1e0d0560               59            105   \n",
       "\n",
       "      holds_on_title  count time_elapsed  month  year  \n",
       "1241             105      1      32 days      6  2011  \n",
       "1641             105      1      32 days      6  2011  \n",
       "2020             105      1      31 days      6  2011  \n",
       "3312             105      1      30 days      6  2011  \n",
       "3546             105      1      32 days      6  2011  "
      ]
     },
     "execution_count": 59,
     "metadata": {},
     "output_type": "execute_result"
    }
   ],
   "source": [
    "df_hunger_games.head()"
   ]
  },
  {
   "cell_type": "code",
   "execution_count": 60,
   "metadata": {},
   "outputs": [
    {
     "data": {
      "image/png": "[encoded data removed]",
      "text/plain": [
       "<Figure size 432x288 with 1 Axes>"
      ]
     },
     "metadata": {
      "needs_background": "light"
     },
     "output_type": "display_data"
    }
   ],
   "source": [
    "ax = sns.lineplot(x=\"time_elapsed\", y=\"holds_on_title\", data=df_hunger_games);\n",
    "ax.set_title('Holds Demand over Time for Hunger Games (Book-Only)');"
   ]
  },
  {
   "cell_type": "markdown",
   "metadata": {},
   "source": [
    "## Introducing the bib data (Analysis & Results to be used for Midterm Progress Report & Presentation)"
   ]
  },
  {
   "cell_type": "code",
   "execution_count": 61,
   "metadata": {},
   "outputs": [],
   "source": [
    "bib_df=pd.read_csv('isbns.csv')"
   ]
  },
  {
   "cell_type": "code",
   "execution_count": 62,
   "metadata": {},
   "outputs": [],
   "source": [
    "bib_df=bib_df.rename({'old record id':'old_record_id',\n",
    "                      'new record id':'new_record_id'},\n",
    "                      axis=1)"
   ]
  },
  {
   "cell_type": "code",
   "execution_count": 63,
   "metadata": {},
   "outputs": [],
   "source": [
    "bib_df['old_record_id']=pd.to_numeric(bib_df['old_record_id'])"
   ]
  },
  {
   "cell_type": "code",
   "execution_count": 64,
   "metadata": {},
   "outputs": [
    {
     "data": {
      "text/html": [
       "<div>\n",
       "<style scoped>\n",
       "    .dataframe tbody tr th:only-of-type {\n",
       "        vertical-align: middle;\n",
       "    }\n",
       "\n",
       "    .dataframe tbody tr th {\n",
       "        vertical-align: top;\n",
       "    }\n",
       "\n",
       "    .dataframe thead th {\n",
       "        text-align: right;\n",
       "    }\n",
       "</style>\n",
       "<table border=\"1\" class=\"dataframe\">\n",
       "  <thead>\n",
       "    <tr style=\"text-align: right;\">\n",
       "      <th></th>\n",
       "      <th>old_record_id</th>\n",
       "      <th>new_record_id</th>\n",
       "      <th>title</th>\n",
       "      <th>isbns</th>\n",
       "      <th>catalog link</th>\n",
       "    </tr>\n",
       "  </thead>\n",
       "  <tbody>\n",
       "    <tr>\n",
       "      <td>0</td>\n",
       "      <td>1000002</td>\n",
       "      <td>10255461</td>\n",
       "      <td>The 1980's British invasion</td>\n",
       "      <td>NaN</td>\n",
       "      <td>https://aadl.org/catalog/record/10255461</td>\n",
       "    </tr>\n",
       "    <tr>\n",
       "      <td>1</td>\n",
       "      <td>1000003</td>\n",
       "      <td>10255469</td>\n",
       "      <td>100 best songs of the 20's and 30's.</td>\n",
       "      <td>0517503689</td>\n",
       "      <td>https://aadl.org/catalog/record/10255469</td>\n",
       "    </tr>\n",
       "    <tr>\n",
       "      <td>2</td>\n",
       "      <td>1000004</td>\n",
       "      <td>10252502</td>\n",
       "      <td>1990 census of population and housing : Summar...</td>\n",
       "      <td>0160346525 :</td>\n",
       "      <td>https://aadl.org/catalog/record/10252502</td>\n",
       "    </tr>\n",
       "    <tr>\n",
       "      <td>3</td>\n",
       "      <td>1000005</td>\n",
       "      <td>10000001</td>\n",
       "      <td>1980 census of population.</td>\n",
       "      <td>NaN</td>\n",
       "      <td>https://aadl.org/catalog/record/10000001</td>\n",
       "    </tr>\n",
       "    <tr>\n",
       "      <td>4</td>\n",
       "      <td>1000007</td>\n",
       "      <td>10255476</td>\n",
       "      <td>120 Christmas songs : : the world's greatest c...</td>\n",
       "      <td>NaN</td>\n",
       "      <td>https://aadl.org/catalog/record/10255476</td>\n",
       "    </tr>\n",
       "  </tbody>\n",
       "</table>\n",
       "</div>"
      ],
      "text/plain": [
       "   old_record_id  new_record_id  \\\n",
       "0        1000002       10255461   \n",
       "1        1000003       10255469   \n",
       "2        1000004       10252502   \n",
       "3        1000005       10000001   \n",
       "4        1000007       10255476   \n",
       "\n",
       "                                               title         isbns  \\\n",
       "0                        The 1980's British invasion           NaN   \n",
       "1               100 best songs of the 20's and 30's.    0517503689   \n",
       "2  1990 census of population and housing : Summar...  0160346525 :   \n",
       "3                         1980 census of population.           NaN   \n",
       "4  120 Christmas songs : : the world's greatest c...           NaN   \n",
       "\n",
       "                               catalog link  \n",
       "0  https://aadl.org/catalog/record/10255461  \n",
       "1  https://aadl.org/catalog/record/10255469  \n",
       "2  https://aadl.org/catalog/record/10252502  \n",
       "3  https://aadl.org/catalog/record/10000001  \n",
       "4  https://aadl.org/catalog/record/10255476  "
      ]
     },
     "execution_count": 64,
     "metadata": {},
     "output_type": "execute_result"
    }
   ],
   "source": [
    "bib_df.head()\n",
    "#'old_record_id' corresponds with \"bib\" in df_cleaned"
   ]
  },
  {
   "cell_type": "code",
   "execution_count": 65,
   "metadata": {},
   "outputs": [
    {
     "data": {
      "text/plain": [
       "old_record_id     int64\n",
       "new_record_id     int64\n",
       "title            object\n",
       "isbns            object\n",
       "catalog link     object\n",
       "dtype: object"
      ]
     },
     "execution_count": 65,
     "metadata": {},
     "output_type": "execute_result"
    }
   ],
   "source": [
    "bib_df.dtypes"
   ]
  },
  {
   "cell_type": "code",
   "execution_count": 66,
   "metadata": {},
   "outputs": [
    {
     "data": {
      "text/plain": [
       "376756"
      ]
     },
     "execution_count": 66,
     "metadata": {},
     "output_type": "execute_result"
    }
   ],
   "source": [
    "len(bib_df)"
   ]
  },
  {
   "cell_type": "code",
   "execution_count": 67,
   "metadata": {},
   "outputs": [
    {
     "data": {
      "text/plain": [
       "7863536"
      ]
     },
     "execution_count": 67,
     "metadata": {},
     "output_type": "execute_result"
    }
   ],
   "source": [
    "len(df_cleaned)"
   ]
  },
  {
   "cell_type": "code",
   "execution_count": 68,
   "metadata": {},
   "outputs": [
    {
     "data": {
      "text/plain": [
       "346914"
      ]
     },
     "execution_count": 68,
     "metadata": {},
     "output_type": "execute_result"
    }
   ],
   "source": [
    "#unique bibs:\n",
    "len(df_cleaned['bib'].unique())"
   ]
  },
  {
   "cell_type": "code",
   "execution_count": 69,
   "metadata": {},
   "outputs": [
    {
     "data": {
      "text/html": [
       "<div>\n",
       "<style scoped>\n",
       "    .dataframe tbody tr th:only-of-type {\n",
       "        vertical-align: middle;\n",
       "    }\n",
       "\n",
       "    .dataframe tbody tr th {\n",
       "        vertical-align: top;\n",
       "    }\n",
       "\n",
       "    .dataframe thead th {\n",
       "        text-align: right;\n",
       "    }\n",
       "</style>\n",
       "<table border=\"1\" class=\"dataframe\">\n",
       "  <thead>\n",
       "    <tr style=\"text-align: right;\">\n",
       "      <th></th>\n",
       "      <th>old_record_id</th>\n",
       "      <th>new_record_id</th>\n",
       "      <th>title</th>\n",
       "      <th>isbns</th>\n",
       "      <th>catalog link</th>\n",
       "    </tr>\n",
       "  </thead>\n",
       "  <tbody>\n",
       "    <tr>\n",
       "      <td>0</td>\n",
       "      <td>1000002</td>\n",
       "      <td>10255461</td>\n",
       "      <td>The 1980's British invasion</td>\n",
       "      <td>NaN</td>\n",
       "      <td>https://aadl.org/catalog/record/10255461</td>\n",
       "    </tr>\n",
       "    <tr>\n",
       "      <td>1</td>\n",
       "      <td>1000003</td>\n",
       "      <td>10255469</td>\n",
       "      <td>100 best songs of the 20's and 30's.</td>\n",
       "      <td>0517503689</td>\n",
       "      <td>https://aadl.org/catalog/record/10255469</td>\n",
       "    </tr>\n",
       "    <tr>\n",
       "      <td>2</td>\n",
       "      <td>1000004</td>\n",
       "      <td>10252502</td>\n",
       "      <td>1990 census of population and housing : Summar...</td>\n",
       "      <td>0160346525 :</td>\n",
       "      <td>https://aadl.org/catalog/record/10252502</td>\n",
       "    </tr>\n",
       "    <tr>\n",
       "      <td>3</td>\n",
       "      <td>1000005</td>\n",
       "      <td>10000001</td>\n",
       "      <td>1980 census of population.</td>\n",
       "      <td>NaN</td>\n",
       "      <td>https://aadl.org/catalog/record/10000001</td>\n",
       "    </tr>\n",
       "    <tr>\n",
       "      <td>4</td>\n",
       "      <td>1000007</td>\n",
       "      <td>10255476</td>\n",
       "      <td>120 Christmas songs : : the world's greatest c...</td>\n",
       "      <td>NaN</td>\n",
       "      <td>https://aadl.org/catalog/record/10255476</td>\n",
       "    </tr>\n",
       "    <tr>\n",
       "      <td>5</td>\n",
       "      <td>1000008</td>\n",
       "      <td>10362439</td>\n",
       "      <td>101 dalmatians</td>\n",
       "      <td>0763401021 :</td>\n",
       "      <td>https://aadl.org/catalog/record/10362439</td>\n",
       "    </tr>\n",
       "    <tr>\n",
       "      <td>6</td>\n",
       "      <td>1000009</td>\n",
       "      <td>10255482</td>\n",
       "      <td>125 great movie songs</td>\n",
       "      <td>NaN</td>\n",
       "      <td>https://aadl.org/catalog/record/10255482</td>\n",
       "    </tr>\n",
       "    <tr>\n",
       "      <td>7</td>\n",
       "      <td>1000011</td>\n",
       "      <td>10289291</td>\n",
       "      <td>16 most requested songs of the 1950s.</td>\n",
       "      <td>NaN</td>\n",
       "      <td>https://aadl.org/catalog/record/10289291</td>\n",
       "    </tr>\n",
       "    <tr>\n",
       "      <td>8</td>\n",
       "      <td>1000012</td>\n",
       "      <td>10289297</td>\n",
       "      <td>16 most requested songs of the 1940s.</td>\n",
       "      <td>NaN</td>\n",
       "      <td>https://aadl.org/catalog/record/10289297</td>\n",
       "    </tr>\n",
       "    <tr>\n",
       "      <td>9</td>\n",
       "      <td>1000013</td>\n",
       "      <td>10000002</td>\n",
       "      <td>1984 revisited : : totalitarianism in our century</td>\n",
       "      <td>0060151587 :,0060806605 (pbk.) :</td>\n",
       "      <td>https://aadl.org/catalog/record/10000002</td>\n",
       "    </tr>\n",
       "  </tbody>\n",
       "</table>\n",
       "</div>"
      ],
      "text/plain": [
       "   old_record_id  new_record_id  \\\n",
       "0        1000002       10255461   \n",
       "1        1000003       10255469   \n",
       "2        1000004       10252502   \n",
       "3        1000005       10000001   \n",
       "4        1000007       10255476   \n",
       "5        1000008       10362439   \n",
       "6        1000009       10255482   \n",
       "7        1000011       10289291   \n",
       "8        1000012       10289297   \n",
       "9        1000013       10000002   \n",
       "\n",
       "                                               title  \\\n",
       "0                        The 1980's British invasion   \n",
       "1               100 best songs of the 20's and 30's.   \n",
       "2  1990 census of population and housing : Summar...   \n",
       "3                         1980 census of population.   \n",
       "4  120 Christmas songs : : the world's greatest c...   \n",
       "5                                     101 dalmatians   \n",
       "6                              125 great movie songs   \n",
       "7              16 most requested songs of the 1950s.   \n",
       "8              16 most requested songs of the 1940s.   \n",
       "9  1984 revisited : : totalitarianism in our century   \n",
       "\n",
       "                              isbns                              catalog link  \n",
       "0                               NaN  https://aadl.org/catalog/record/10255461  \n",
       "1                        0517503689  https://aadl.org/catalog/record/10255469  \n",
       "2                      0160346525 :  https://aadl.org/catalog/record/10252502  \n",
       "3                               NaN  https://aadl.org/catalog/record/10000001  \n",
       "4                               NaN  https://aadl.org/catalog/record/10255476  \n",
       "5                      0763401021 :  https://aadl.org/catalog/record/10362439  \n",
       "6                               NaN  https://aadl.org/catalog/record/10255482  \n",
       "7                               NaN  https://aadl.org/catalog/record/10289291  \n",
       "8                               NaN  https://aadl.org/catalog/record/10289297  \n",
       "9  0060151587 :,0060806605 (pbk.) :  https://aadl.org/catalog/record/10000002  "
      ]
     },
     "execution_count": 69,
     "metadata": {},
     "output_type": "execute_result"
    }
   ],
   "source": [
    "bib_df_sorted=bib_df.sort_values('old_record_id')\n",
    "bib_df_sorted.head(10)"
   ]
  },
  {
   "cell_type": "code",
   "execution_count": 70,
   "metadata": {},
   "outputs": [
    {
     "data": {
      "text/html": [
       "<div>\n",
       "<style scoped>\n",
       "    .dataframe tbody tr th:only-of-type {\n",
       "        vertical-align: middle;\n",
       "    }\n",
       "\n",
       "    .dataframe tbody tr th {\n",
       "        vertical-align: top;\n",
       "    }\n",
       "\n",
       "    .dataframe thead th {\n",
       "        text-align: right;\n",
       "    }\n",
       "</style>\n",
       "<table border=\"1\" class=\"dataframe\">\n",
       "  <thead>\n",
       "    <tr style=\"text-align: right;\">\n",
       "      <th></th>\n",
       "      <th>bib</th>\n",
       "      <th>dateplaced</th>\n",
       "      <th>mat</th>\n",
       "      <th>datefilled</th>\n",
       "      <th>pickup</th>\n",
       "      <th>patron_hash</th>\n",
       "      <th>holds_by_patron</th>\n",
       "      <th>waitlist_rank</th>\n",
       "      <th>holds_on_title</th>\n",
       "      <th>count</th>\n",
       "      <th>time_elapsed</th>\n",
       "      <th>month</th>\n",
       "      <th>year</th>\n",
       "    </tr>\n",
       "  </thead>\n",
       "  <tbody>\n",
       "    <tr>\n",
       "      <td>5578672</td>\n",
       "      <td>1000002</td>\n",
       "      <td>2015-03-22</td>\n",
       "      <td>c</td>\n",
       "      <td>2015-03-23</td>\n",
       "      <td>m</td>\n",
       "      <td>956343647effd9c280fde2aa821ba5be</td>\n",
       "      <td>2</td>\n",
       "      <td>1</td>\n",
       "      <td>1</td>\n",
       "      <td>1</td>\n",
       "      <td>1 days</td>\n",
       "      <td>3</td>\n",
       "      <td>2015</td>\n",
       "    </tr>\n",
       "    <tr>\n",
       "      <td>6888673</td>\n",
       "      <td>1000003</td>\n",
       "      <td>2016-09-27</td>\n",
       "      <td>c</td>\n",
       "      <td>2016-09-28</td>\n",
       "      <td>m</td>\n",
       "      <td>06516cc86f159ad0b38401043063b7bd</td>\n",
       "      <td>3</td>\n",
       "      <td>1</td>\n",
       "      <td>1</td>\n",
       "      <td>1</td>\n",
       "      <td>1 days</td>\n",
       "      <td>9</td>\n",
       "      <td>2016</td>\n",
       "    </tr>\n",
       "    <tr>\n",
       "      <td>7228079</td>\n",
       "      <td>1000003</td>\n",
       "      <td>2017-02-26</td>\n",
       "      <td>c</td>\n",
       "      <td>2017-02-27</td>\n",
       "      <td>t</td>\n",
       "      <td>c9f08d54a76ddfbc61a92f6591fbbe51</td>\n",
       "      <td>3</td>\n",
       "      <td>1</td>\n",
       "      <td>1</td>\n",
       "      <td>1</td>\n",
       "      <td>1 days</td>\n",
       "      <td>2</td>\n",
       "      <td>2017</td>\n",
       "    </tr>\n",
       "    <tr>\n",
       "      <td>2430775</td>\n",
       "      <td>1000003</td>\n",
       "      <td>2012-04-25</td>\n",
       "      <td>c</td>\n",
       "      <td>2012-05-19</td>\n",
       "      <td>p</td>\n",
       "      <td>e25b1fd0545854a2f6ae7a36c03c45e4</td>\n",
       "      <td>3</td>\n",
       "      <td>1</td>\n",
       "      <td>1</td>\n",
       "      <td>1</td>\n",
       "      <td>24 days</td>\n",
       "      <td>4</td>\n",
       "      <td>2012</td>\n",
       "    </tr>\n",
       "    <tr>\n",
       "      <td>4285324</td>\n",
       "      <td>1000007</td>\n",
       "      <td>2013-12-14</td>\n",
       "      <td>c</td>\n",
       "      <td>2013-12-19</td>\n",
       "      <td>p</td>\n",
       "      <td>8fb0e3e4b5c92764e7388fd53d85fc37</td>\n",
       "      <td>2</td>\n",
       "      <td>1</td>\n",
       "      <td>1</td>\n",
       "      <td>1</td>\n",
       "      <td>5 days</td>\n",
       "      <td>12</td>\n",
       "      <td>2013</td>\n",
       "    </tr>\n",
       "    <tr>\n",
       "      <td>5310613</td>\n",
       "      <td>1000007</td>\n",
       "      <td>2014-12-17</td>\n",
       "      <td>c</td>\n",
       "      <td>2014-12-31</td>\n",
       "      <td>t</td>\n",
       "      <td>bd64038b0855ab8c2a8b7d5c27c7317a</td>\n",
       "      <td>2</td>\n",
       "      <td>1</td>\n",
       "      <td>1</td>\n",
       "      <td>1</td>\n",
       "      <td>14 days</td>\n",
       "      <td>12</td>\n",
       "      <td>2014</td>\n",
       "    </tr>\n",
       "    <tr>\n",
       "      <td>4241045</td>\n",
       "      <td>1000007</td>\n",
       "      <td>2013-11-29</td>\n",
       "      <td>c</td>\n",
       "      <td>2013-12-01</td>\n",
       "      <td>t</td>\n",
       "      <td>e1385f50a44fb29f4d37d1bf0b986ede</td>\n",
       "      <td>2</td>\n",
       "      <td>1</td>\n",
       "      <td>1</td>\n",
       "      <td>1</td>\n",
       "      <td>2 days</td>\n",
       "      <td>11</td>\n",
       "      <td>2013</td>\n",
       "    </tr>\n",
       "    <tr>\n",
       "      <td>6086475</td>\n",
       "      <td>1000007</td>\n",
       "      <td>2015-10-15</td>\n",
       "      <td>c</td>\n",
       "      <td>2015-10-21</td>\n",
       "      <td>m</td>\n",
       "      <td>c25ebc963704afadf3bf710c15960581</td>\n",
       "      <td>2</td>\n",
       "      <td>1</td>\n",
       "      <td>1</td>\n",
       "      <td>1</td>\n",
       "      <td>6 days</td>\n",
       "      <td>10</td>\n",
       "      <td>2015</td>\n",
       "    </tr>\n",
       "    <tr>\n",
       "      <td>4165562</td>\n",
       "      <td>1000009</td>\n",
       "      <td>2013-11-04</td>\n",
       "      <td>c</td>\n",
       "      <td>2013-11-05</td>\n",
       "      <td>p</td>\n",
       "      <td>16bacf4a80802f2436f308412f4c2b58</td>\n",
       "      <td>2</td>\n",
       "      <td>1</td>\n",
       "      <td>1</td>\n",
       "      <td>1</td>\n",
       "      <td>1 days</td>\n",
       "      <td>11</td>\n",
       "      <td>2013</td>\n",
       "    </tr>\n",
       "    <tr>\n",
       "      <td>2052923</td>\n",
       "      <td>1000009</td>\n",
       "      <td>2011-12-30</td>\n",
       "      <td>c</td>\n",
       "      <td>2012-01-09</td>\n",
       "      <td>w</td>\n",
       "      <td>ee91d5522b0b58672d661eb330e88b55</td>\n",
       "      <td>2</td>\n",
       "      <td>1</td>\n",
       "      <td>1</td>\n",
       "      <td>1</td>\n",
       "      <td>10 days</td>\n",
       "      <td>12</td>\n",
       "      <td>2011</td>\n",
       "    </tr>\n",
       "  </tbody>\n",
       "</table>\n",
       "</div>"
      ],
      "text/plain": [
       "             bib dateplaced mat datefilled pickup  \\\n",
       "5578672  1000002 2015-03-22   c 2015-03-23      m   \n",
       "6888673  1000003 2016-09-27   c 2016-09-28      m   \n",
       "7228079  1000003 2017-02-26   c 2017-02-27      t   \n",
       "2430775  1000003 2012-04-25   c 2012-05-19      p   \n",
       "4285324  1000007 2013-12-14   c 2013-12-19      p   \n",
       "5310613  1000007 2014-12-17   c 2014-12-31      t   \n",
       "4241045  1000007 2013-11-29   c 2013-12-01      t   \n",
       "6086475  1000007 2015-10-15   c 2015-10-21      m   \n",
       "4165562  1000009 2013-11-04   c 2013-11-05      p   \n",
       "2052923  1000009 2011-12-30   c 2012-01-09      w   \n",
       "\n",
       "                              patron_hash  holds_by_patron  waitlist_rank  \\\n",
       "5578672  956343647effd9c280fde2aa821ba5be                2              1   \n",
       "6888673  06516cc86f159ad0b38401043063b7bd                3              1   \n",
       "7228079  c9f08d54a76ddfbc61a92f6591fbbe51                3              1   \n",
       "2430775  e25b1fd0545854a2f6ae7a36c03c45e4                3              1   \n",
       "4285324  8fb0e3e4b5c92764e7388fd53d85fc37                2              1   \n",
       "5310613  bd64038b0855ab8c2a8b7d5c27c7317a                2              1   \n",
       "4241045  e1385f50a44fb29f4d37d1bf0b986ede                2              1   \n",
       "6086475  c25ebc963704afadf3bf710c15960581                2              1   \n",
       "4165562  16bacf4a80802f2436f308412f4c2b58                2              1   \n",
       "2052923  ee91d5522b0b58672d661eb330e88b55                2              1   \n",
       "\n",
       "         holds_on_title  count time_elapsed  month  year  \n",
       "5578672               1      1       1 days      3  2015  \n",
       "6888673               1      1       1 days      9  2016  \n",
       "7228079               1      1       1 days      2  2017  \n",
       "2430775               1      1      24 days      4  2012  \n",
       "4285324               1      1       5 days     12  2013  \n",
       "5310613               1      1      14 days     12  2014  \n",
       "4241045               1      1       2 days     11  2013  \n",
       "6086475               1      1       6 days     10  2015  \n",
       "4165562               1      1       1 days     11  2013  \n",
       "2052923               1      1      10 days     12  2011  "
      ]
     },
     "execution_count": 70,
     "metadata": {},
     "output_type": "execute_result"
    }
   ],
   "source": [
    "df_only_holds_fulfilled_sorted=df_only_holds_fulfilled.sort_values('bib')\n",
    "\n",
    "\n",
    "df_only_holds_fulfilled_sorted.head(10)"
   ]
  },
  {
   "cell_type": "markdown",
   "metadata": {},
   "source": [
    "### How many total holds does each material have over this time period"
   ]
  },
  {
   "cell_type": "code",
   "execution_count": 101,
   "metadata": {},
   "outputs": [
    {
     "data": {
      "text/plain": [
       "bib\n",
       "1319099    3582\n",
       "1343156    3236\n",
       "1407981    2998\n",
       "1366509    2949\n",
       "1325639    2848\n",
       "           ... \n",
       "1161455       1\n",
       "1403447       1\n",
       "1403451       1\n",
       "1403452       1\n",
       "1000002       1\n",
       "Name: count, Length: 346914, dtype: int64"
      ]
     },
     "execution_count": 101,
     "metadata": {},
     "output_type": "execute_result"
    }
   ],
   "source": [
    "df_cleaned.groupby('bib')['count']\\\n",
    "          .sum()\\\n",
    "          .sort_values(ascending=False)"
   ]
  },
  {
   "cell_type": "markdown",
   "metadata": {},
   "source": [
    "### Bib 1319099 (The hunger games) has the most total holds placed on it over the time period of the data."
   ]
  },
  {
   "cell_type": "code",
   "execution_count": 102,
   "metadata": {},
   "outputs": [
    {
     "data": {
      "text/html": [
       "<div>\n",
       "<style scoped>\n",
       "    .dataframe tbody tr th:only-of-type {\n",
       "        vertical-align: middle;\n",
       "    }\n",
       "\n",
       "    .dataframe tbody tr th {\n",
       "        vertical-align: top;\n",
       "    }\n",
       "\n",
       "    .dataframe thead th {\n",
       "        text-align: right;\n",
       "    }\n",
       "</style>\n",
       "<table border=\"1\" class=\"dataframe\">\n",
       "  <thead>\n",
       "    <tr style=\"text-align: right;\">\n",
       "      <th></th>\n",
       "      <th>old_record_id</th>\n",
       "      <th>new_record_id</th>\n",
       "      <th>title</th>\n",
       "      <th>isbns</th>\n",
       "      <th>catalog link</th>\n",
       "    </tr>\n",
       "  </thead>\n",
       "  <tbody>\n",
       "    <tr>\n",
       "      <td>179623</td>\n",
       "      <td>1319099</td>\n",
       "      <td>10076965</td>\n",
       "      <td>The hunger games</td>\n",
       "      <td>9780439023481,0439023483,054531058X,0439023521...</td>\n",
       "      <td>https://aadl.org/catalog/record/10076965</td>\n",
       "    </tr>\n",
       "  </tbody>\n",
       "</table>\n",
       "</div>"
      ],
      "text/plain": [
       "        old_record_id  new_record_id             title  \\\n",
       "179623        1319099       10076965  The hunger games   \n",
       "\n",
       "                                                    isbns  \\\n",
       "179623  9780439023481,0439023483,054531058X,0439023521...   \n",
       "\n",
       "                                    catalog link  \n",
       "179623  https://aadl.org/catalog/record/10076965  "
      ]
     },
     "execution_count": 102,
     "metadata": {},
     "output_type": "execute_result"
    }
   ],
   "source": [
    "bib_df[bib_df['old_record_id']==1319099]"
   ]
  },
  {
   "cell_type": "markdown",
   "metadata": {},
   "source": [
    "## Merging the two data sets"
   ]
  },
  {
   "cell_type": "code",
   "execution_count": 71,
   "metadata": {},
   "outputs": [],
   "source": [
    "#new_df = pd.merge(A_df, B_df,  how='left', left_on=['A_c1','c2'], right_on = ['B_c1','c2'])\n",
    "merged_dfs=pd.merge(df_only_holds_fulfilled_sorted, \n",
    "                    bib_df_sorted, \n",
    "                    how='left',\n",
    "                    left_on='bib',\n",
    "                    right_on='old_record_id' )"
   ]
  },
  {
   "cell_type": "code",
   "execution_count": 72,
   "metadata": {},
   "outputs": [
    {
     "data": {
      "text/html": [
       "<div>\n",
       "<style scoped>\n",
       "    .dataframe tbody tr th:only-of-type {\n",
       "        vertical-align: middle;\n",
       "    }\n",
       "\n",
       "    .dataframe tbody tr th {\n",
       "        vertical-align: top;\n",
       "    }\n",
       "\n",
       "    .dataframe thead th {\n",
       "        text-align: right;\n",
       "    }\n",
       "</style>\n",
       "<table border=\"1\" class=\"dataframe\">\n",
       "  <thead>\n",
       "    <tr style=\"text-align: right;\">\n",
       "      <th></th>\n",
       "      <th>bib</th>\n",
       "      <th>dateplaced</th>\n",
       "      <th>mat</th>\n",
       "      <th>datefilled</th>\n",
       "      <th>pickup</th>\n",
       "      <th>patron_hash</th>\n",
       "      <th>holds_by_patron</th>\n",
       "      <th>waitlist_rank</th>\n",
       "      <th>holds_on_title</th>\n",
       "      <th>count</th>\n",
       "      <th>time_elapsed</th>\n",
       "      <th>month</th>\n",
       "      <th>year</th>\n",
       "      <th>old_record_id</th>\n",
       "      <th>new_record_id</th>\n",
       "      <th>title</th>\n",
       "      <th>isbns</th>\n",
       "      <th>catalog link</th>\n",
       "    </tr>\n",
       "  </thead>\n",
       "  <tbody>\n",
       "    <tr>\n",
       "      <td>0</td>\n",
       "      <td>1000002</td>\n",
       "      <td>2015-03-22</td>\n",
       "      <td>c</td>\n",
       "      <td>2015-03-23</td>\n",
       "      <td>m</td>\n",
       "      <td>956343647effd9c280fde2aa821ba5be</td>\n",
       "      <td>2</td>\n",
       "      <td>1</td>\n",
       "      <td>1</td>\n",
       "      <td>1</td>\n",
       "      <td>1 days</td>\n",
       "      <td>3</td>\n",
       "      <td>2015</td>\n",
       "      <td>1000002.0</td>\n",
       "      <td>10255461.0</td>\n",
       "      <td>The 1980's British invasion</td>\n",
       "      <td>NaN</td>\n",
       "      <td>https://aadl.org/catalog/record/10255461</td>\n",
       "    </tr>\n",
       "    <tr>\n",
       "      <td>1</td>\n",
       "      <td>1000003</td>\n",
       "      <td>2016-09-27</td>\n",
       "      <td>c</td>\n",
       "      <td>2016-09-28</td>\n",
       "      <td>m</td>\n",
       "      <td>06516cc86f159ad0b38401043063b7bd</td>\n",
       "      <td>3</td>\n",
       "      <td>1</td>\n",
       "      <td>1</td>\n",
       "      <td>1</td>\n",
       "      <td>1 days</td>\n",
       "      <td>9</td>\n",
       "      <td>2016</td>\n",
       "      <td>1000003.0</td>\n",
       "      <td>10255469.0</td>\n",
       "      <td>100 best songs of the 20's and 30's.</td>\n",
       "      <td>0517503689</td>\n",
       "      <td>https://aadl.org/catalog/record/10255469</td>\n",
       "    </tr>\n",
       "    <tr>\n",
       "      <td>2</td>\n",
       "      <td>1000003</td>\n",
       "      <td>2017-02-26</td>\n",
       "      <td>c</td>\n",
       "      <td>2017-02-27</td>\n",
       "      <td>t</td>\n",
       "      <td>c9f08d54a76ddfbc61a92f6591fbbe51</td>\n",
       "      <td>3</td>\n",
       "      <td>1</td>\n",
       "      <td>1</td>\n",
       "      <td>1</td>\n",
       "      <td>1 days</td>\n",
       "      <td>2</td>\n",
       "      <td>2017</td>\n",
       "      <td>1000003.0</td>\n",
       "      <td>10255469.0</td>\n",
       "      <td>100 best songs of the 20's and 30's.</td>\n",
       "      <td>0517503689</td>\n",
       "      <td>https://aadl.org/catalog/record/10255469</td>\n",
       "    </tr>\n",
       "    <tr>\n",
       "      <td>3</td>\n",
       "      <td>1000003</td>\n",
       "      <td>2012-04-25</td>\n",
       "      <td>c</td>\n",
       "      <td>2012-05-19</td>\n",
       "      <td>p</td>\n",
       "      <td>e25b1fd0545854a2f6ae7a36c03c45e4</td>\n",
       "      <td>3</td>\n",
       "      <td>1</td>\n",
       "      <td>1</td>\n",
       "      <td>1</td>\n",
       "      <td>24 days</td>\n",
       "      <td>4</td>\n",
       "      <td>2012</td>\n",
       "      <td>1000003.0</td>\n",
       "      <td>10255469.0</td>\n",
       "      <td>100 best songs of the 20's and 30's.</td>\n",
       "      <td>0517503689</td>\n",
       "      <td>https://aadl.org/catalog/record/10255469</td>\n",
       "    </tr>\n",
       "    <tr>\n",
       "      <td>4</td>\n",
       "      <td>1000007</td>\n",
       "      <td>2013-12-14</td>\n",
       "      <td>c</td>\n",
       "      <td>2013-12-19</td>\n",
       "      <td>p</td>\n",
       "      <td>8fb0e3e4b5c92764e7388fd53d85fc37</td>\n",
       "      <td>2</td>\n",
       "      <td>1</td>\n",
       "      <td>1</td>\n",
       "      <td>1</td>\n",
       "      <td>5 days</td>\n",
       "      <td>12</td>\n",
       "      <td>2013</td>\n",
       "      <td>1000007.0</td>\n",
       "      <td>10255476.0</td>\n",
       "      <td>120 Christmas songs : : the world's greatest c...</td>\n",
       "      <td>NaN</td>\n",
       "      <td>https://aadl.org/catalog/record/10255476</td>\n",
       "    </tr>\n",
       "  </tbody>\n",
       "</table>\n",
       "</div>"
      ],
      "text/plain": [
       "       bib dateplaced mat datefilled pickup                       patron_hash  \\\n",
       "0  1000002 2015-03-22   c 2015-03-23      m  956343647effd9c280fde2aa821ba5be   \n",
       "1  1000003 2016-09-27   c 2016-09-28      m  06516cc86f159ad0b38401043063b7bd   \n",
       "2  1000003 2017-02-26   c 2017-02-27      t  c9f08d54a76ddfbc61a92f6591fbbe51   \n",
       "3  1000003 2012-04-25   c 2012-05-19      p  e25b1fd0545854a2f6ae7a36c03c45e4   \n",
       "4  1000007 2013-12-14   c 2013-12-19      p  8fb0e3e4b5c92764e7388fd53d85fc37   \n",
       "\n",
       "   holds_by_patron  waitlist_rank  holds_on_title  count time_elapsed  month  \\\n",
       "0                2              1               1      1       1 days      3   \n",
       "1                3              1               1      1       1 days      9   \n",
       "2                3              1               1      1       1 days      2   \n",
       "3                3              1               1      1      24 days      4   \n",
       "4                2              1               1      1       5 days     12   \n",
       "\n",
       "   year  old_record_id  new_record_id  \\\n",
       "0  2015      1000002.0     10255461.0   \n",
       "1  2016      1000003.0     10255469.0   \n",
       "2  2017      1000003.0     10255469.0   \n",
       "3  2012      1000003.0     10255469.0   \n",
       "4  2013      1000007.0     10255476.0   \n",
       "\n",
       "                                               title       isbns  \\\n",
       "0                        The 1980's British invasion         NaN   \n",
       "1               100 best songs of the 20's and 30's.  0517503689   \n",
       "2               100 best songs of the 20's and 30's.  0517503689   \n",
       "3               100 best songs of the 20's and 30's.  0517503689   \n",
       "4  120 Christmas songs : : the world's greatest c...         NaN   \n",
       "\n",
       "                               catalog link  \n",
       "0  https://aadl.org/catalog/record/10255461  \n",
       "1  https://aadl.org/catalog/record/10255469  \n",
       "2  https://aadl.org/catalog/record/10255469  \n",
       "3  https://aadl.org/catalog/record/10255469  \n",
       "4  https://aadl.org/catalog/record/10255476  "
      ]
     },
     "execution_count": 72,
     "metadata": {},
     "output_type": "execute_result"
    }
   ],
   "source": [
    "merged_dfs.head()"
   ]
  },
  {
   "cell_type": "code",
   "execution_count": 73,
   "metadata": {},
   "outputs": [
    {
     "data": {
      "text/plain": [
       "7803387"
      ]
     },
     "execution_count": 73,
     "metadata": {},
     "output_type": "execute_result"
    }
   ],
   "source": [
    "len(merged_dfs)"
   ]
  },
  {
   "cell_type": "markdown",
   "metadata": {},
   "source": [
    "## Top holds"
   ]
  },
  {
   "cell_type": "markdown",
   "metadata": {},
   "source": [
    "What is the top held item? Bar Graph"
   ]
  },
  {
   "cell_type": "code",
   "execution_count": 106,
   "metadata": {},
   "outputs": [],
   "source": [
    "top_holds=merged_dfs.groupby(['title','bib','mat'])['count']\\\n",
    "                    .sum()\\\n",
    "                    .sort_values(ascending=False)\\\n",
    "                    .to_frame()"
   ]
  },
  {
   "cell_type": "code",
   "execution_count": 107,
   "metadata": {},
   "outputs": [
    {
     "data": {
      "text/html": [
       "<div>\n",
       "<style scoped>\n",
       "    .dataframe tbody tr th:only-of-type {\n",
       "        vertical-align: middle;\n",
       "    }\n",
       "\n",
       "    .dataframe tbody tr th {\n",
       "        vertical-align: top;\n",
       "    }\n",
       "\n",
       "    .dataframe thead th {\n",
       "        text-align: right;\n",
       "    }\n",
       "</style>\n",
       "<table border=\"1\" class=\"dataframe\">\n",
       "  <thead>\n",
       "    <tr style=\"text-align: right;\">\n",
       "      <th></th>\n",
       "      <th></th>\n",
       "      <th></th>\n",
       "      <th>count</th>\n",
       "    </tr>\n",
       "    <tr>\n",
       "      <th>title</th>\n",
       "      <th>bib</th>\n",
       "      <th>mat</th>\n",
       "      <th></th>\n",
       "    </tr>\n",
       "  </thead>\n",
       "  <tbody>\n",
       "    <tr>\n",
       "      <td>The hunger games</td>\n",
       "      <td>1319099</td>\n",
       "      <td>a</td>\n",
       "      <td>3581</td>\n",
       "    </tr>\n",
       "    <tr>\n",
       "      <td>Catching fire</td>\n",
       "      <td>1343156</td>\n",
       "      <td>a</td>\n",
       "      <td>3235</td>\n",
       "    </tr>\n",
       "    <tr>\n",
       "      <td>Gone girl</td>\n",
       "      <td>1407981</td>\n",
       "      <td>a</td>\n",
       "      <td>2998</td>\n",
       "    </tr>\n",
       "    <tr>\n",
       "      <td>Mockingjay</td>\n",
       "      <td>1366509</td>\n",
       "      <td>a</td>\n",
       "      <td>2947</td>\n",
       "    </tr>\n",
       "    <tr>\n",
       "      <td>The help</td>\n",
       "      <td>1325639</td>\n",
       "      <td>a</td>\n",
       "      <td>2847</td>\n",
       "    </tr>\n",
       "    <tr>\n",
       "      <td>All the light we cannot see</td>\n",
       "      <td>1448793</td>\n",
       "      <td>a</td>\n",
       "      <td>2817</td>\n",
       "    </tr>\n",
       "    <tr>\n",
       "      <td>The book thief</td>\n",
       "      <td>1266614</td>\n",
       "      <td>a</td>\n",
       "      <td>2359</td>\n",
       "    </tr>\n",
       "    <tr>\n",
       "      <td>The fault in our stars</td>\n",
       "      <td>1399206</td>\n",
       "      <td>a</td>\n",
       "      <td>2290</td>\n",
       "    </tr>\n",
       "    <tr>\n",
       "      <td>Divergent</td>\n",
       "      <td>1383862</td>\n",
       "      <td>a</td>\n",
       "      <td>2208</td>\n",
       "    </tr>\n",
       "    <tr>\n",
       "      <td>The girl on the train</td>\n",
       "      <td>1463701</td>\n",
       "      <td>a</td>\n",
       "      <td>2184</td>\n",
       "    </tr>\n",
       "    <tr>\n",
       "      <td>The girl with the dragon tattoo</td>\n",
       "      <td>1314566</td>\n",
       "      <td>a</td>\n",
       "      <td>2097</td>\n",
       "    </tr>\n",
       "    <tr>\n",
       "      <td>Quiet : : the power of introverts in a world that can't stop talking</td>\n",
       "      <td>1400756</td>\n",
       "      <td>a</td>\n",
       "      <td>2003</td>\n",
       "    </tr>\n",
       "    <tr>\n",
       "      <td>Despicable me</td>\n",
       "      <td>1373726</td>\n",
       "      <td>g</td>\n",
       "      <td>1983</td>\n",
       "    </tr>\n",
       "    <tr>\n",
       "      <td>Inception</td>\n",
       "      <td>1373624</td>\n",
       "      <td>g</td>\n",
       "      <td>1979</td>\n",
       "    </tr>\n",
       "    <tr>\n",
       "      <td>The social network</td>\n",
       "      <td>1375686</td>\n",
       "      <td>g</td>\n",
       "      <td>1949</td>\n",
       "    </tr>\n",
       "    <tr>\n",
       "      <td>A game of thrones</td>\n",
       "      <td>1112660</td>\n",
       "      <td>a</td>\n",
       "      <td>1947</td>\n",
       "    </tr>\n",
       "    <tr>\n",
       "      <td>Downton Abbey.</td>\n",
       "      <td>1379893</td>\n",
       "      <td>g</td>\n",
       "      <td>1883</td>\n",
       "    </tr>\n",
       "    <tr>\n",
       "      <td>The immortal life of Henrietta Lacks</td>\n",
       "      <td>1352021</td>\n",
       "      <td>a</td>\n",
       "      <td>1870</td>\n",
       "    </tr>\n",
       "    <tr>\n",
       "      <td>The goldfinch</td>\n",
       "      <td>1431791</td>\n",
       "      <td>a</td>\n",
       "      <td>1859</td>\n",
       "    </tr>\n",
       "    <tr>\n",
       "      <td>Unbroken : : a World War II airman's story of survival, resilience, and redemption</td>\n",
       "      <td>1371367</td>\n",
       "      <td>a</td>\n",
       "      <td>1842</td>\n",
       "    </tr>\n",
       "  </tbody>\n",
       "</table>\n",
       "</div>"
      ],
      "text/plain": [
       "                                                                count\n",
       "title                                              bib     mat       \n",
       "The hunger games                                   1319099 a     3581\n",
       "Catching fire                                      1343156 a     3235\n",
       "Gone girl                                          1407981 a     2998\n",
       "Mockingjay                                         1366509 a     2947\n",
       "The help                                           1325639 a     2847\n",
       "All the light we cannot see                        1448793 a     2817\n",
       "The book thief                                     1266614 a     2359\n",
       "The fault in our stars                             1399206 a     2290\n",
       "Divergent                                          1383862 a     2208\n",
       "The girl on the train                              1463701 a     2184\n",
       "The girl with the dragon tattoo                    1314566 a     2097\n",
       "Quiet : : the power of introverts in a world th... 1400756 a     2003\n",
       "Despicable me                                      1373726 g     1983\n",
       "Inception                                          1373624 g     1979\n",
       "The social network                                 1375686 g     1949\n",
       "A game of thrones                                  1112660 a     1947\n",
       "Downton Abbey.                                     1379893 g     1883\n",
       "The immortal life of Henrietta Lacks               1352021 a     1870\n",
       "The goldfinch                                      1431791 a     1859\n",
       "Unbroken : : a World War II airman's story of s... 1371367 a     1842"
      ]
     },
     "execution_count": 107,
     "metadata": {},
     "output_type": "execute_result"
    }
   ],
   "source": [
    "top_holds.head(20)"
   ]
  },
  {
   "cell_type": "code",
   "execution_count": 108,
   "metadata": {},
   "outputs": [],
   "source": [
    "top_holds=top_holds.reset_index(level=['title', 'bib','mat'])"
   ]
  },
  {
   "cell_type": "code",
   "execution_count": 109,
   "metadata": {},
   "outputs": [
    {
     "data": {
      "text/plain": [
       "[Text(0, 0.5, 'Holds Placed'), Text(0.5, 0, 'Title')]"
      ]
     },
     "execution_count": 109,
     "metadata": {},
     "output_type": "execute_result"
    },
    {
     "data": {
      "image/png": "[encoded data removed]",
      "text/plain": [
       "<Figure size 432x288 with 1 Axes>"
      ]
     },
     "metadata": {
      "needs_background": "light"
     },
     "output_type": "display_data"
    }
   ],
   "source": [
    "#fig, ax = plt.subplots(figsize=(12,8))\n",
    "ax=sns.barplot(x='title',y='count',\n",
    "               data=top_holds.head(10))\n",
    "ax.set_xticklabels(ax.get_xticklabels(), \n",
    "                   rotation=40, \n",
    "                   ha=\"right\")\n",
    "ax.set_title('Materials with most number of holds placed (2010-2017)');\n",
    "ax.set(xlabel='Title',\n",
    "       ylabel='Holds Placed')"
   ]
  },
  {
   "cell_type": "markdown",
   "metadata": {},
   "source": [
    "### Compare to different material types, books and music scores: \n",
    "\n",
    "Note: we decided to compare both books and music scores because one commonly relates books to libraries and we believe that music scores would be a less-demanded item."
   ]
  },
  {
   "cell_type": "code",
   "execution_count": 110,
   "metadata": {},
   "outputs": [],
   "source": [
    "book_materials = merged_dfs[merged_dfs['mat'] == 'a']\n",
    "c_materials =merged_dfs[merged_dfs['mat'] == 'c']"
   ]
  },
  {
   "cell_type": "code",
   "execution_count": 111,
   "metadata": {},
   "outputs": [
    {
     "data": {
      "image/png": "[encoded data removed]",
      "text/plain": [
       "<Figure size 432x288 with 1 Axes>"
      ]
     },
     "metadata": {
      "needs_background": "light"
     },
     "output_type": "display_data"
    }
   ],
   "source": [
    "ax = sns.lineplot(x=\"time_elapsed\", y=\"holds_on_title\", data=book_materials);\n",
    "ax.set_title('Holds Demand over Time for Books Only');"
   ]
  },
  {
   "cell_type": "code",
   "execution_count": 112,
   "metadata": {},
   "outputs": [
    {
     "data": {
      "image/png": "[encoded data removed]",
      "text/plain": [
       "<Figure size 432x288 with 1 Axes>"
      ]
     },
     "metadata": {
      "needs_background": "light"
     },
     "output_type": "display_data"
    }
   ],
   "source": [
    "ax = sns.lineplot(x=\"time_elapsed\", y=\"holds_on_title\", data=c_materials);\n",
    "ax.set_title('Holds Demand over Time for C Mats Only');"
   ]
  },
  {
   "cell_type": "markdown",
   "metadata": {},
   "source": [
    "How does the spread for each material change based on the number of aggregated holds on such a material:"
   ]
  },
  {
   "cell_type": "code",
   "execution_count": 113,
   "metadata": {},
   "outputs": [
    {
     "data": {
      "text/plain": [
       "<matplotlib.axes._subplots.AxesSubplot at 0x13764f810>"
      ]
     },
     "execution_count": 113,
     "metadata": {},
     "output_type": "execute_result"
    },
    {
     "data": {
      "image/png": "[encoded data removed]",
      "text/plain": [
       "<Figure size 432x288 with 1 Axes>"
      ]
     },
     "metadata": {
      "needs_background": "light"
     },
     "output_type": "display_data"
    }
   ],
   "source": [
    "sns.boxplot(x = 'mat', y ='holds_on_title', data = merged_dfs)"
   ]
  },
  {
   "cell_type": "markdown",
   "metadata": {},
   "source": [
    "Since DVD's, Blu-Ray, and Tools are the most popular...what are their distributions?"
   ]
  },
  {
   "cell_type": "code",
   "execution_count": 114,
   "metadata": {},
   "outputs": [],
   "source": [
    "dvds = merged_dfs[(merged_dfs['mat']== 'g')]\n",
    "tools = merged_dfs[(merged_dfs['mat']== 'r')]\n",
    "bluray = merged_dfs[(merged_dfs['mat']== 'u')]"
   ]
  },
  {
   "cell_type": "code",
   "execution_count": 115,
   "metadata": {},
   "outputs": [
    {
     "data": {
      "image/png": "[encoded data removed]",
      "text/plain": [
       "<Figure size 432x288 with 1 Axes>"
      ]
     },
     "metadata": {
      "needs_background": "light"
     },
     "output_type": "display_data"
    }
   ],
   "source": [
    "sns.distplot(dvds['holds_on_title']);"
   ]
  },
  {
   "cell_type": "code",
   "execution_count": 116,
   "metadata": {},
   "outputs": [
    {
     "data": {
      "image/png": "[encoded data removed]",
      "text/plain": [
       "<Figure size 432x288 with 1 Axes>"
      ]
     },
     "metadata": {
      "needs_background": "light"
     },
     "output_type": "display_data"
    }
   ],
   "source": [
    "sns.distplot(tools['holds_on_title']);"
   ]
  },
  {
   "cell_type": "code",
   "execution_count": 117,
   "metadata": {},
   "outputs": [
    {
     "data": {
      "image/png": "[encoded data removed]",
      "text/plain": [
       "<Figure size 432x288 with 1 Axes>"
      ]
     },
     "metadata": {
      "needs_background": "light"
     },
     "output_type": "display_data"
    }
   ],
   "source": [
    "sns.distplot(bluray['holds_on_title']);"
   ]
  },
  {
   "cell_type": "code",
   "execution_count": 118,
   "metadata": {},
   "outputs": [],
   "source": [
    "merged_granular = merged_dfs[(merged_dfs['mat']!= 'g') &\\\n",
    "                             (merged_dfs['mat']!= 'r') &\\\n",
    "                             (merged_dfs['mat']!= 'u')]"
   ]
  },
  {
   "cell_type": "code",
   "execution_count": 119,
   "metadata": {},
   "outputs": [],
   "source": [
    "books = merged_dfs[(merged_dfs['mat']== 'a')]"
   ]
  },
  {
   "cell_type": "code",
   "execution_count": 120,
   "metadata": {},
   "outputs": [
    {
     "data": {
      "text/plain": [
       "count    3.403976e+06\n",
       "mean     1.111391e+01\n",
       "std      3.600593e+01\n",
       "min      0.000000e+00\n",
       "25%      1.000000e+00\n",
       "50%      1.000000e+00\n",
       "75%      3.000000e+00\n",
       "max      6.010000e+02\n",
       "Name: holds_on_title, dtype: float64"
      ]
     },
     "execution_count": 120,
     "metadata": {},
     "output_type": "execute_result"
    }
   ],
   "source": [
    "books['holds_on_title'].describe()"
   ]
  },
  {
   "cell_type": "code",
   "execution_count": 121,
   "metadata": {},
   "outputs": [],
   "source": [
    "iqr = 3-1 \n",
    "outlier = 3 + (1.5*iqr)"
   ]
  },
  {
   "cell_type": "code",
   "execution_count": 122,
   "metadata": {},
   "outputs": [],
   "source": [
    "books_outliers = books[books['holds_on_title'] >= outlier]"
   ]
  },
  {
   "cell_type": "code",
   "execution_count": 123,
   "metadata": {},
   "outputs": [
    {
     "data": {
      "text/plain": [
       "<matplotlib.axes._subplots.AxesSubplot at 0x1581540d0>"
      ]
     },
     "execution_count": 123,
     "metadata": {},
     "output_type": "execute_result"
    },
    {
     "data": {
      "image/png": "[encoded data removed]",
      "text/plain": [
       "<Figure size 432x288 with 1 Axes>"
      ]
     },
     "metadata": {
      "needs_background": "light"
     },
     "output_type": "display_data"
    }
   ],
   "source": [
    "sns.boxplot(y = 'holds_on_title', data = books_outliers)"
   ]
  },
  {
   "cell_type": "code",
   "execution_count": 124,
   "metadata": {},
   "outputs": [
    {
     "data": {
      "text/html": [
       "<div>\n",
       "<style scoped>\n",
       "    .dataframe tbody tr th:only-of-type {\n",
       "        vertical-align: middle;\n",
       "    }\n",
       "\n",
       "    .dataframe tbody tr th {\n",
       "        vertical-align: top;\n",
       "    }\n",
       "\n",
       "    .dataframe thead th {\n",
       "        text-align: right;\n",
       "    }\n",
       "</style>\n",
       "<table border=\"1\" class=\"dataframe\">\n",
       "  <thead>\n",
       "    <tr style=\"text-align: right;\">\n",
       "      <th></th>\n",
       "      <th>bib</th>\n",
       "      <th>dateplaced</th>\n",
       "      <th>mat</th>\n",
       "      <th>datefilled</th>\n",
       "      <th>pickup</th>\n",
       "      <th>patron_hash</th>\n",
       "      <th>holds_by_patron</th>\n",
       "      <th>waitlist_rank</th>\n",
       "      <th>holds_on_title</th>\n",
       "      <th>count</th>\n",
       "      <th>time_elapsed</th>\n",
       "      <th>month</th>\n",
       "      <th>year</th>\n",
       "      <th>old_record_id</th>\n",
       "      <th>new_record_id</th>\n",
       "      <th>title</th>\n",
       "      <th>isbns</th>\n",
       "      <th>catalog link</th>\n",
       "    </tr>\n",
       "  </thead>\n",
       "  <tbody>\n",
       "    <tr>\n",
       "      <td>2379</td>\n",
       "      <td>1001864</td>\n",
       "      <td>2011-06-26</td>\n",
       "      <td>a</td>\n",
       "      <td>2011-08-14</td>\n",
       "      <td>p</td>\n",
       "      <td>8514a5d05f43b69808066f9c55ef87e0</td>\n",
       "      <td>11</td>\n",
       "      <td>6</td>\n",
       "      <td>6</td>\n",
       "      <td>1</td>\n",
       "      <td>49 days</td>\n",
       "      <td>6</td>\n",
       "      <td>2011</td>\n",
       "      <td>1001864.0</td>\n",
       "      <td>10004506.0</td>\n",
       "      <td>Go ask Alice</td>\n",
       "      <td>1416914633,9781416914631,9780671664589</td>\n",
       "      <td>https://aadl.org/catalog/record/10004506</td>\n",
       "    </tr>\n",
       "    <tr>\n",
       "      <td>3594</td>\n",
       "      <td>1003075</td>\n",
       "      <td>2011-12-05</td>\n",
       "      <td>a</td>\n",
       "      <td>2012-02-23</td>\n",
       "      <td>w</td>\n",
       "      <td>9ed6dc4610248bc166b8333197927cac</td>\n",
       "      <td>2</td>\n",
       "      <td>6</td>\n",
       "      <td>6</td>\n",
       "      <td>1</td>\n",
       "      <td>80 days</td>\n",
       "      <td>12</td>\n",
       "      <td>2011</td>\n",
       "      <td>NaN</td>\n",
       "      <td>NaN</td>\n",
       "      <td>NaN</td>\n",
       "      <td>NaN</td>\n",
       "      <td>NaN</td>\n",
       "    </tr>\n",
       "    <tr>\n",
       "      <td>5932</td>\n",
       "      <td>1004941</td>\n",
       "      <td>2013-03-23</td>\n",
       "      <td>a</td>\n",
       "      <td>2013-04-08</td>\n",
       "      <td>w</td>\n",
       "      <td>7337e2ec8524b5a54c30be6e0819af1b</td>\n",
       "      <td>10</td>\n",
       "      <td>5</td>\n",
       "      <td>10</td>\n",
       "      <td>1</td>\n",
       "      <td>16 days</td>\n",
       "      <td>3</td>\n",
       "      <td>2013</td>\n",
       "      <td>1004941.0</td>\n",
       "      <td>10011602.0</td>\n",
       "      <td>Things fall apart</td>\n",
       "      <td>0072435186,9780385474542,9780435905255,0385474547</td>\n",
       "      <td>https://aadl.org/catalog/record/10011602</td>\n",
       "    </tr>\n",
       "    <tr>\n",
       "      <td>5935</td>\n",
       "      <td>1004941</td>\n",
       "      <td>2016-04-10</td>\n",
       "      <td>a</td>\n",
       "      <td>2016-04-25</td>\n",
       "      <td>t</td>\n",
       "      <td>3c42d727edee91093743ef62b11892d0</td>\n",
       "      <td>10</td>\n",
       "      <td>5</td>\n",
       "      <td>6</td>\n",
       "      <td>1</td>\n",
       "      <td>15 days</td>\n",
       "      <td>4</td>\n",
       "      <td>2016</td>\n",
       "      <td>1004941.0</td>\n",
       "      <td>10011602.0</td>\n",
       "      <td>Things fall apart</td>\n",
       "      <td>0072435186,9780385474542,9780435905255,0385474547</td>\n",
       "      <td>https://aadl.org/catalog/record/10011602</td>\n",
       "    </tr>\n",
       "    <tr>\n",
       "      <td>5941</td>\n",
       "      <td>1004941</td>\n",
       "      <td>2013-04-03</td>\n",
       "      <td>a</td>\n",
       "      <td>2013-05-08</td>\n",
       "      <td>t</td>\n",
       "      <td>365889d2a4bc6864a9cdbfa019e93bca</td>\n",
       "      <td>10</td>\n",
       "      <td>17</td>\n",
       "      <td>17</td>\n",
       "      <td>1</td>\n",
       "      <td>35 days</td>\n",
       "      <td>4</td>\n",
       "      <td>2013</td>\n",
       "      <td>1004941.0</td>\n",
       "      <td>10011602.0</td>\n",
       "      <td>Things fall apart</td>\n",
       "      <td>0072435186,9780385474542,9780435905255,0385474547</td>\n",
       "      <td>https://aadl.org/catalog/record/10011602</td>\n",
       "    </tr>\n",
       "    <tr>\n",
       "      <td>...</td>\n",
       "      <td>...</td>\n",
       "      <td>...</td>\n",
       "      <td>...</td>\n",
       "      <td>...</td>\n",
       "      <td>...</td>\n",
       "      <td>...</td>\n",
       "      <td>...</td>\n",
       "      <td>...</td>\n",
       "      <td>...</td>\n",
       "      <td>...</td>\n",
       "      <td>...</td>\n",
       "      <td>...</td>\n",
       "      <td>...</td>\n",
       "      <td>...</td>\n",
       "      <td>...</td>\n",
       "      <td>...</td>\n",
       "      <td>...</td>\n",
       "      <td>...</td>\n",
       "    </tr>\n",
       "    <tr>\n",
       "      <td>7802851</td>\n",
       "      <td>1520041</td>\n",
       "      <td>2017-12-10</td>\n",
       "      <td>a</td>\n",
       "      <td>2017-12-15</td>\n",
       "      <td>m</td>\n",
       "      <td>6d5e8667341b2f64cc74101ff50bd4ba</td>\n",
       "      <td>1</td>\n",
       "      <td>5</td>\n",
       "      <td>6</td>\n",
       "      <td>1</td>\n",
       "      <td>5 days</td>\n",
       "      <td>12</td>\n",
       "      <td>2017</td>\n",
       "      <td>1520041.0</td>\n",
       "      <td>10252221.0</td>\n",
       "      <td>Star Wars.</td>\n",
       "      <td>9781484780763,1484780760</td>\n",
       "      <td>https://aadl.org/catalog/record/10252221</td>\n",
       "    </tr>\n",
       "    <tr>\n",
       "      <td>7802853</td>\n",
       "      <td>1520041</td>\n",
       "      <td>2017-12-11</td>\n",
       "      <td>a</td>\n",
       "      <td>2017-12-15</td>\n",
       "      <td>d</td>\n",
       "      <td>830b2625d5f815a01da0d3182ef3d21b</td>\n",
       "      <td>1</td>\n",
       "      <td>7</td>\n",
       "      <td>8</td>\n",
       "      <td>1</td>\n",
       "      <td>4 days</td>\n",
       "      <td>12</td>\n",
       "      <td>2017</td>\n",
       "      <td>1520041.0</td>\n",
       "      <td>10252221.0</td>\n",
       "      <td>Star Wars.</td>\n",
       "      <td>9781484780763,1484780760</td>\n",
       "      <td>https://aadl.org/catalog/record/10252221</td>\n",
       "    </tr>\n",
       "    <tr>\n",
       "      <td>7802854</td>\n",
       "      <td>1520041</td>\n",
       "      <td>2017-12-10</td>\n",
       "      <td>a</td>\n",
       "      <td>2017-12-15</td>\n",
       "      <td>t</td>\n",
       "      <td>69ce0183a416cd2a948727e97b0392f9</td>\n",
       "      <td>1</td>\n",
       "      <td>6</td>\n",
       "      <td>6</td>\n",
       "      <td>1</td>\n",
       "      <td>5 days</td>\n",
       "      <td>12</td>\n",
       "      <td>2017</td>\n",
       "      <td>1520041.0</td>\n",
       "      <td>10252221.0</td>\n",
       "      <td>Star Wars.</td>\n",
       "      <td>9781484780763,1484780760</td>\n",
       "      <td>https://aadl.org/catalog/record/10252221</td>\n",
       "    </tr>\n",
       "    <tr>\n",
       "      <td>7802857</td>\n",
       "      <td>1520041</td>\n",
       "      <td>2017-12-12</td>\n",
       "      <td>a</td>\n",
       "      <td>2017-12-15</td>\n",
       "      <td>w</td>\n",
       "      <td>78d3d041af9e341241d5ad060ffa4985</td>\n",
       "      <td>1</td>\n",
       "      <td>9</td>\n",
       "      <td>9</td>\n",
       "      <td>1</td>\n",
       "      <td>3 days</td>\n",
       "      <td>12</td>\n",
       "      <td>2017</td>\n",
       "      <td>1520041.0</td>\n",
       "      <td>10252221.0</td>\n",
       "      <td>Star Wars.</td>\n",
       "      <td>9781484780763,1484780760</td>\n",
       "      <td>https://aadl.org/catalog/record/10252221</td>\n",
       "    </tr>\n",
       "    <tr>\n",
       "      <td>7802858</td>\n",
       "      <td>1520041</td>\n",
       "      <td>2017-12-11</td>\n",
       "      <td>a</td>\n",
       "      <td>2017-12-15</td>\n",
       "      <td>d</td>\n",
       "      <td>30d2cf9317b0826f80445924f824f77b</td>\n",
       "      <td>1</td>\n",
       "      <td>8</td>\n",
       "      <td>8</td>\n",
       "      <td>1</td>\n",
       "      <td>4 days</td>\n",
       "      <td>12</td>\n",
       "      <td>2017</td>\n",
       "      <td>1520041.0</td>\n",
       "      <td>10252221.0</td>\n",
       "      <td>Star Wars.</td>\n",
       "      <td>9781484780763,1484780760</td>\n",
       "      <td>https://aadl.org/catalog/record/10252221</td>\n",
       "    </tr>\n",
       "  </tbody>\n",
       "</table>\n",
       "<p>683020 rows × 18 columns</p>\n",
       "</div>"
      ],
      "text/plain": [
       "             bib dateplaced mat datefilled pickup  \\\n",
       "2379     1001864 2011-06-26   a 2011-08-14      p   \n",
       "3594     1003075 2011-12-05   a 2012-02-23      w   \n",
       "5932     1004941 2013-03-23   a 2013-04-08      w   \n",
       "5935     1004941 2016-04-10   a 2016-04-25      t   \n",
       "5941     1004941 2013-04-03   a 2013-05-08      t   \n",
       "...          ...        ...  ..        ...    ...   \n",
       "7802851  1520041 2017-12-10   a 2017-12-15      m   \n",
       "7802853  1520041 2017-12-11   a 2017-12-15      d   \n",
       "7802854  1520041 2017-12-10   a 2017-12-15      t   \n",
       "7802857  1520041 2017-12-12   a 2017-12-15      w   \n",
       "7802858  1520041 2017-12-11   a 2017-12-15      d   \n",
       "\n",
       "                              patron_hash  holds_by_patron  waitlist_rank  \\\n",
       "2379     8514a5d05f43b69808066f9c55ef87e0               11              6   \n",
       "3594     9ed6dc4610248bc166b8333197927cac                2              6   \n",
       "5932     7337e2ec8524b5a54c30be6e0819af1b               10              5   \n",
       "5935     3c42d727edee91093743ef62b11892d0               10              5   \n",
       "5941     365889d2a4bc6864a9cdbfa019e93bca               10             17   \n",
       "...                                   ...              ...            ...   \n",
       "7802851  6d5e8667341b2f64cc74101ff50bd4ba                1              5   \n",
       "7802853  830b2625d5f815a01da0d3182ef3d21b                1              7   \n",
       "7802854  69ce0183a416cd2a948727e97b0392f9                1              6   \n",
       "7802857  78d3d041af9e341241d5ad060ffa4985                1              9   \n",
       "7802858  30d2cf9317b0826f80445924f824f77b                1              8   \n",
       "\n",
       "         holds_on_title  count time_elapsed  month  year  old_record_id  \\\n",
       "2379                  6      1      49 days      6  2011      1001864.0   \n",
       "3594                  6      1      80 days     12  2011            NaN   \n",
       "5932                 10      1      16 days      3  2013      1004941.0   \n",
       "5935                  6      1      15 days      4  2016      1004941.0   \n",
       "5941                 17      1      35 days      4  2013      1004941.0   \n",
       "...                 ...    ...          ...    ...   ...            ...   \n",
       "7802851               6      1       5 days     12  2017      1520041.0   \n",
       "7802853               8      1       4 days     12  2017      1520041.0   \n",
       "7802854               6      1       5 days     12  2017      1520041.0   \n",
       "7802857               9      1       3 days     12  2017      1520041.0   \n",
       "7802858               8      1       4 days     12  2017      1520041.0   \n",
       "\n",
       "         new_record_id              title  \\\n",
       "2379        10004506.0       Go ask Alice   \n",
       "3594               NaN                NaN   \n",
       "5932        10011602.0  Things fall apart   \n",
       "5935        10011602.0  Things fall apart   \n",
       "5941        10011602.0  Things fall apart   \n",
       "...                ...                ...   \n",
       "7802851     10252221.0         Star Wars.   \n",
       "7802853     10252221.0         Star Wars.   \n",
       "7802854     10252221.0         Star Wars.   \n",
       "7802857     10252221.0         Star Wars.   \n",
       "7802858     10252221.0         Star Wars.   \n",
       "\n",
       "                                                     isbns  \\\n",
       "2379                1416914633,9781416914631,9780671664589   \n",
       "3594                                                   NaN   \n",
       "5932     0072435186,9780385474542,9780435905255,0385474547   \n",
       "5935     0072435186,9780385474542,9780435905255,0385474547   \n",
       "5941     0072435186,9780385474542,9780435905255,0385474547   \n",
       "...                                                    ...   \n",
       "7802851                           9781484780763,1484780760   \n",
       "7802853                           9781484780763,1484780760   \n",
       "7802854                           9781484780763,1484780760   \n",
       "7802857                           9781484780763,1484780760   \n",
       "7802858                           9781484780763,1484780760   \n",
       "\n",
       "                                     catalog link  \n",
       "2379     https://aadl.org/catalog/record/10004506  \n",
       "3594                                          NaN  \n",
       "5932     https://aadl.org/catalog/record/10011602  \n",
       "5935     https://aadl.org/catalog/record/10011602  \n",
       "5941     https://aadl.org/catalog/record/10011602  \n",
       "...                                           ...  \n",
       "7802851  https://aadl.org/catalog/record/10252221  \n",
       "7802853  https://aadl.org/catalog/record/10252221  \n",
       "7802854  https://aadl.org/catalog/record/10252221  \n",
       "7802857  https://aadl.org/catalog/record/10252221  \n",
       "7802858  https://aadl.org/catalog/record/10252221  \n",
       "\n",
       "[683020 rows x 18 columns]"
      ]
     },
     "execution_count": 124,
     "metadata": {},
     "output_type": "execute_result"
    }
   ],
   "source": [
    "books_outliers"
   ]
  },
  {
   "cell_type": "markdown",
   "metadata": {},
   "source": [
    "## Making a function to determine overall time elapsed since first hold for an individual material"
   ]
  },
  {
   "cell_type": "code",
   "execution_count": 125,
   "metadata": {},
   "outputs": [
    {
     "data": {
      "text/plain": [
       "346565"
      ]
     },
     "execution_count": 125,
     "metadata": {},
     "output_type": "execute_result"
    }
   ],
   "source": [
    "unique_materials_list=merged_dfs['bib'].unique()\\\n",
    "                                       .tolist()\n",
    "len(unique_materials_list)"
   ]
  },
  {
   "cell_type": "code",
   "execution_count": 126,
   "metadata": {},
   "outputs": [
    {
     "data": {
      "text/html": [
       "<div>\n",
       "<style scoped>\n",
       "    .dataframe tbody tr th:only-of-type {\n",
       "        vertical-align: middle;\n",
       "    }\n",
       "\n",
       "    .dataframe tbody tr th {\n",
       "        vertical-align: top;\n",
       "    }\n",
       "\n",
       "    .dataframe thead th {\n",
       "        text-align: right;\n",
       "    }\n",
       "</style>\n",
       "<table border=\"1\" class=\"dataframe\">\n",
       "  <thead>\n",
       "    <tr style=\"text-align: right;\">\n",
       "      <th></th>\n",
       "      <th>bib</th>\n",
       "      <th>dateplaced</th>\n",
       "      <th>mat</th>\n",
       "      <th>datefilled</th>\n",
       "      <th>pickup</th>\n",
       "      <th>patron_hash</th>\n",
       "      <th>holds_by_patron</th>\n",
       "      <th>waitlist_rank</th>\n",
       "      <th>holds_on_title</th>\n",
       "      <th>count</th>\n",
       "      <th>time_elapsed</th>\n",
       "      <th>month</th>\n",
       "      <th>year</th>\n",
       "      <th>old_record_id</th>\n",
       "      <th>new_record_id</th>\n",
       "      <th>title</th>\n",
       "      <th>isbns</th>\n",
       "      <th>catalog link</th>\n",
       "    </tr>\n",
       "  </thead>\n",
       "  <tbody>\n",
       "    <tr>\n",
       "      <td>2455755</td>\n",
       "      <td>1319099</td>\n",
       "      <td>2010-03-05</td>\n",
       "      <td>a</td>\n",
       "      <td>2010-03-15</td>\n",
       "      <td>-</td>\n",
       "      <td>aab15ce91b7342ab8ff1854aac1fdf89</td>\n",
       "      <td>29</td>\n",
       "      <td>17</td>\n",
       "      <td>17</td>\n",
       "      <td>1</td>\n",
       "      <td>10 days</td>\n",
       "      <td>3</td>\n",
       "      <td>2010</td>\n",
       "      <td>1319099.0</td>\n",
       "      <td>10076965.0</td>\n",
       "      <td>The hunger games</td>\n",
       "      <td>9780439023481,0439023483,054531058X,0439023521...</td>\n",
       "      <td>https://aadl.org/catalog/record/10076965</td>\n",
       "    </tr>\n",
       "  </tbody>\n",
       "</table>\n",
       "</div>"
      ],
      "text/plain": [
       "             bib dateplaced mat datefilled pickup  \\\n",
       "2455755  1319099 2010-03-05   a 2010-03-15      -   \n",
       "\n",
       "                              patron_hash  holds_by_patron  waitlist_rank  \\\n",
       "2455755  aab15ce91b7342ab8ff1854aac1fdf89               29             17   \n",
       "\n",
       "         holds_on_title  count time_elapsed  month  year  old_record_id  \\\n",
       "2455755              17      1      10 days      3  2010      1319099.0   \n",
       "\n",
       "         new_record_id             title  \\\n",
       "2455755     10076965.0  The hunger games   \n",
       "\n",
       "                                                     isbns  \\\n",
       "2455755  9780439023481,0439023483,054531058X,0439023521...   \n",
       "\n",
       "                                     catalog link  \n",
       "2455755  https://aadl.org/catalog/record/10076965  "
      ]
     },
     "execution_count": 126,
     "metadata": {},
     "output_type": "execute_result"
    }
   ],
   "source": [
    "#make a df for individual material\n",
    "\n",
    "material_df=merged_dfs[merged_dfs['bib']==1319099] #unique_materials_list[i]\n",
    "\n",
    "first_hold=material_df.sort_values('dateplaced',ascending=True).head(1)\n",
    "\n",
    "first_hold"
   ]
  },
  {
   "cell_type": "code",
   "execution_count": 127,
   "metadata": {},
   "outputs": [
    {
     "data": {
      "text/plain": [
       "2455755"
      ]
     },
     "execution_count": 127,
     "metadata": {},
     "output_type": "execute_result"
    }
   ],
   "source": [
    "index=first_hold.index.to_list()[0]\n",
    "index"
   ]
  },
  {
   "cell_type": "code",
   "execution_count": 128,
   "metadata": {},
   "outputs": [
    {
     "data": {
      "text/plain": [
       "Timestamp('2010-03-05 00:00:00')"
      ]
     },
     "execution_count": 128,
     "metadata": {},
     "output_type": "execute_result"
    }
   ],
   "source": [
    "material_df.loc[index]['dateplaced']\n"
   ]
  },
  {
   "cell_type": "markdown",
   "metadata": {},
   "source": [
    "Comment this out so it doesn't have to run again:"
   ]
  },
  {
   "cell_type": "code",
   "execution_count": 140,
   "metadata": {},
   "outputs": [],
   "source": [
    "first_hold_dates_list=[]\n",
    "def first_hold(lst):\n",
    "    for i in lst: #1000002\n",
    "        material_df=merged_dfs[merged_dfs['bib']==i]\n",
    "        \n",
    "        first_hold=material_df.sort_values('dateplaced',\n",
    "                                           ascending=True)\\\n",
    "                              .head(1)\n",
    "        \n",
    "        index=first_hold.index.to_list()[0]\n",
    "        \n",
    "        first_hold_date=material_df.loc[index]['dateplaced']\n",
    "        \n",
    "        first_hold_dates_list.append(first_hold_date)\n",
    "\n",
    "\n",
    "        \n",
    "first_hold(unique_materials_list)"
   ]
  },
  {
   "cell_type": "code",
   "execution_count": 131,
   "metadata": {},
   "outputs": [
    {
     "data": {
      "text/plain": [
       "226570"
      ]
     },
     "execution_count": 131,
     "metadata": {},
     "output_type": "execute_result"
    }
   ],
   "source": [
    "#don't run again, list after first run of function\n",
    "len(first_hold_dates_list)"
   ]
  },
  {
   "cell_type": "code",
   "execution_count": 132,
   "metadata": {},
   "outputs": [
    {
     "data": {
      "text/plain": [
       "119995"
      ]
     },
     "execution_count": 132,
     "metadata": {},
     "output_type": "execute_result"
    }
   ],
   "source": [
    "346565-len(first_hold_dates_list)"
   ]
  },
  {
   "cell_type": "code",
   "execution_count": 112,
   "metadata": {},
   "outputs": [],
   "source": [
    "#don't run again, list after first run of function\n",
    "\n",
    "#first_hold_dates_list"
   ]
  },
  {
   "cell_type": "code",
   "execution_count": 133,
   "metadata": {},
   "outputs": [
    {
     "data": {
      "text/plain": [
       "226570"
      ]
     },
     "execution_count": 133,
     "metadata": {},
     "output_type": "execute_result"
    }
   ],
   "source": [
    "len(first_hold_dates_list)"
   ]
  },
  {
   "cell_type": "code",
   "execution_count": 134,
   "metadata": {},
   "outputs": [
    {
     "data": {
      "text/plain": [
       "Timestamp('2012-02-15 00:00:00')"
      ]
     },
     "execution_count": 134,
     "metadata": {},
     "output_type": "execute_result"
    }
   ],
   "source": [
    "first_hold_dates_list.pop(119996)"
   ]
  },
  {
   "cell_type": "code",
   "execution_count": 135,
   "metadata": {},
   "outputs": [
    {
     "data": {
      "text/plain": [
       "226569"
      ]
     },
     "execution_count": 135,
     "metadata": {},
     "output_type": "execute_result"
    }
   ],
   "source": [
    "len(first_hold_dates_list)"
   ]
  },
  {
   "cell_type": "markdown",
   "metadata": {},
   "source": [
    "## Dataframe with unique bib number and the first time it appears in the holds dataset"
   ]
  },
  {
   "cell_type": "code",
   "execution_count": 141,
   "metadata": {},
   "outputs": [],
   "source": [
    "dict1={'bib':unique_materials_list,\n",
    "       'first_hold_placed':first_hold_dates_list}\n",
    "\n",
    "hold_first_dates_df=pd.DataFrame(dict1)"
   ]
  },
  {
   "cell_type": "code",
   "execution_count": 142,
   "metadata": {},
   "outputs": [
    {
     "data": {
      "text/html": [
       "<div>\n",
       "<style scoped>\n",
       "    .dataframe tbody tr th:only-of-type {\n",
       "        vertical-align: middle;\n",
       "    }\n",
       "\n",
       "    .dataframe tbody tr th {\n",
       "        vertical-align: top;\n",
       "    }\n",
       "\n",
       "    .dataframe thead th {\n",
       "        text-align: right;\n",
       "    }\n",
       "</style>\n",
       "<table border=\"1\" class=\"dataframe\">\n",
       "  <thead>\n",
       "    <tr style=\"text-align: right;\">\n",
       "      <th></th>\n",
       "      <th>bib</th>\n",
       "      <th>first_hold_placed</th>\n",
       "    </tr>\n",
       "  </thead>\n",
       "  <tbody>\n",
       "    <tr>\n",
       "      <td>0</td>\n",
       "      <td>1000002</td>\n",
       "      <td>2015-03-22</td>\n",
       "    </tr>\n",
       "    <tr>\n",
       "      <td>1</td>\n",
       "      <td>1000003</td>\n",
       "      <td>2012-04-25</td>\n",
       "    </tr>\n",
       "    <tr>\n",
       "      <td>2</td>\n",
       "      <td>1000007</td>\n",
       "      <td>2013-11-29</td>\n",
       "    </tr>\n",
       "    <tr>\n",
       "      <td>3</td>\n",
       "      <td>1000009</td>\n",
       "      <td>2010-04-19</td>\n",
       "    </tr>\n",
       "    <tr>\n",
       "      <td>4</td>\n",
       "      <td>1000010</td>\n",
       "      <td>2011-01-06</td>\n",
       "    </tr>\n",
       "    <tr>\n",
       "      <td>...</td>\n",
       "      <td>...</td>\n",
       "      <td>...</td>\n",
       "    </tr>\n",
       "    <tr>\n",
       "      <td>346560</td>\n",
       "      <td>1520540</td>\n",
       "      <td>2017-12-15</td>\n",
       "    </tr>\n",
       "    <tr>\n",
       "      <td>346561</td>\n",
       "      <td>1520550</td>\n",
       "      <td>2017-12-16</td>\n",
       "    </tr>\n",
       "    <tr>\n",
       "      <td>346562</td>\n",
       "      <td>1520568</td>\n",
       "      <td>2017-12-16</td>\n",
       "    </tr>\n",
       "    <tr>\n",
       "      <td>346563</td>\n",
       "      <td>1520590</td>\n",
       "      <td>2017-12-20</td>\n",
       "    </tr>\n",
       "    <tr>\n",
       "      <td>346564</td>\n",
       "      <td>1520593</td>\n",
       "      <td>2017-12-20</td>\n",
       "    </tr>\n",
       "  </tbody>\n",
       "</table>\n",
       "<p>346565 rows × 2 columns</p>\n",
       "</div>"
      ],
      "text/plain": [
       "            bib first_hold_placed\n",
       "0       1000002        2015-03-22\n",
       "1       1000003        2012-04-25\n",
       "2       1000007        2013-11-29\n",
       "3       1000009        2010-04-19\n",
       "4       1000010        2011-01-06\n",
       "...         ...               ...\n",
       "346560  1520540        2017-12-15\n",
       "346561  1520550        2017-12-16\n",
       "346562  1520568        2017-12-16\n",
       "346563  1520590        2017-12-20\n",
       "346564  1520593        2017-12-20\n",
       "\n",
       "[346565 rows x 2 columns]"
      ]
     },
     "execution_count": 142,
     "metadata": {},
     "output_type": "execute_result"
    }
   ],
   "source": [
    "hold_first_dates_df"
   ]
  },
  {
   "cell_type": "markdown",
   "metadata": {},
   "source": [
    "## Adding first_hold_placed column to merged dataframe"
   ]
  },
  {
   "cell_type": "code",
   "execution_count": 143,
   "metadata": {},
   "outputs": [],
   "source": [
    "copy_merged_dfs=merged_dfs.copy()"
   ]
  },
  {
   "cell_type": "code",
   "execution_count": 144,
   "metadata": {},
   "outputs": [
    {
     "data": {
      "text/html": [
       "<div>\n",
       "<style scoped>\n",
       "    .dataframe tbody tr th:only-of-type {\n",
       "        vertical-align: middle;\n",
       "    }\n",
       "\n",
       "    .dataframe tbody tr th {\n",
       "        vertical-align: top;\n",
       "    }\n",
       "\n",
       "    .dataframe thead th {\n",
       "        text-align: right;\n",
       "    }\n",
       "</style>\n",
       "<table border=\"1\" class=\"dataframe\">\n",
       "  <thead>\n",
       "    <tr style=\"text-align: right;\">\n",
       "      <th></th>\n",
       "      <th>bib</th>\n",
       "      <th>dateplaced</th>\n",
       "      <th>mat</th>\n",
       "      <th>datefilled</th>\n",
       "      <th>pickup</th>\n",
       "      <th>patron_hash</th>\n",
       "      <th>holds_by_patron</th>\n",
       "      <th>waitlist_rank</th>\n",
       "      <th>holds_on_title</th>\n",
       "      <th>count</th>\n",
       "      <th>time_elapsed</th>\n",
       "      <th>month</th>\n",
       "      <th>year</th>\n",
       "      <th>old_record_id</th>\n",
       "      <th>new_record_id</th>\n",
       "      <th>title</th>\n",
       "      <th>isbns</th>\n",
       "      <th>catalog link</th>\n",
       "    </tr>\n",
       "  </thead>\n",
       "  <tbody>\n",
       "    <tr>\n",
       "      <td>0</td>\n",
       "      <td>1000002</td>\n",
       "      <td>2015-03-22</td>\n",
       "      <td>c</td>\n",
       "      <td>2015-03-23</td>\n",
       "      <td>m</td>\n",
       "      <td>956343647effd9c280fde2aa821ba5be</td>\n",
       "      <td>2</td>\n",
       "      <td>1</td>\n",
       "      <td>1</td>\n",
       "      <td>1</td>\n",
       "      <td>1 days</td>\n",
       "      <td>3</td>\n",
       "      <td>2015</td>\n",
       "      <td>1000002.0</td>\n",
       "      <td>10255461.0</td>\n",
       "      <td>The 1980's British invasion</td>\n",
       "      <td>NaN</td>\n",
       "      <td>https://aadl.org/catalog/record/10255461</td>\n",
       "    </tr>\n",
       "    <tr>\n",
       "      <td>1</td>\n",
       "      <td>1000003</td>\n",
       "      <td>2016-09-27</td>\n",
       "      <td>c</td>\n",
       "      <td>2016-09-28</td>\n",
       "      <td>m</td>\n",
       "      <td>06516cc86f159ad0b38401043063b7bd</td>\n",
       "      <td>3</td>\n",
       "      <td>1</td>\n",
       "      <td>1</td>\n",
       "      <td>1</td>\n",
       "      <td>1 days</td>\n",
       "      <td>9</td>\n",
       "      <td>2016</td>\n",
       "      <td>1000003.0</td>\n",
       "      <td>10255469.0</td>\n",
       "      <td>100 best songs of the 20's and 30's.</td>\n",
       "      <td>0517503689</td>\n",
       "      <td>https://aadl.org/catalog/record/10255469</td>\n",
       "    </tr>\n",
       "    <tr>\n",
       "      <td>2</td>\n",
       "      <td>1000003</td>\n",
       "      <td>2017-02-26</td>\n",
       "      <td>c</td>\n",
       "      <td>2017-02-27</td>\n",
       "      <td>t</td>\n",
       "      <td>c9f08d54a76ddfbc61a92f6591fbbe51</td>\n",
       "      <td>3</td>\n",
       "      <td>1</td>\n",
       "      <td>1</td>\n",
       "      <td>1</td>\n",
       "      <td>1 days</td>\n",
       "      <td>2</td>\n",
       "      <td>2017</td>\n",
       "      <td>1000003.0</td>\n",
       "      <td>10255469.0</td>\n",
       "      <td>100 best songs of the 20's and 30's.</td>\n",
       "      <td>0517503689</td>\n",
       "      <td>https://aadl.org/catalog/record/10255469</td>\n",
       "    </tr>\n",
       "    <tr>\n",
       "      <td>3</td>\n",
       "      <td>1000003</td>\n",
       "      <td>2012-04-25</td>\n",
       "      <td>c</td>\n",
       "      <td>2012-05-19</td>\n",
       "      <td>p</td>\n",
       "      <td>e25b1fd0545854a2f6ae7a36c03c45e4</td>\n",
       "      <td>3</td>\n",
       "      <td>1</td>\n",
       "      <td>1</td>\n",
       "      <td>1</td>\n",
       "      <td>24 days</td>\n",
       "      <td>4</td>\n",
       "      <td>2012</td>\n",
       "      <td>1000003.0</td>\n",
       "      <td>10255469.0</td>\n",
       "      <td>100 best songs of the 20's and 30's.</td>\n",
       "      <td>0517503689</td>\n",
       "      <td>https://aadl.org/catalog/record/10255469</td>\n",
       "    </tr>\n",
       "    <tr>\n",
       "      <td>4</td>\n",
       "      <td>1000007</td>\n",
       "      <td>2013-12-14</td>\n",
       "      <td>c</td>\n",
       "      <td>2013-12-19</td>\n",
       "      <td>p</td>\n",
       "      <td>8fb0e3e4b5c92764e7388fd53d85fc37</td>\n",
       "      <td>2</td>\n",
       "      <td>1</td>\n",
       "      <td>1</td>\n",
       "      <td>1</td>\n",
       "      <td>5 days</td>\n",
       "      <td>12</td>\n",
       "      <td>2013</td>\n",
       "      <td>1000007.0</td>\n",
       "      <td>10255476.0</td>\n",
       "      <td>120 Christmas songs : : the world's greatest c...</td>\n",
       "      <td>NaN</td>\n",
       "      <td>https://aadl.org/catalog/record/10255476</td>\n",
       "    </tr>\n",
       "  </tbody>\n",
       "</table>\n",
       "</div>"
      ],
      "text/plain": [
       "       bib dateplaced mat datefilled pickup                       patron_hash  \\\n",
       "0  1000002 2015-03-22   c 2015-03-23      m  956343647effd9c280fde2aa821ba5be   \n",
       "1  1000003 2016-09-27   c 2016-09-28      m  06516cc86f159ad0b38401043063b7bd   \n",
       "2  1000003 2017-02-26   c 2017-02-27      t  c9f08d54a76ddfbc61a92f6591fbbe51   \n",
       "3  1000003 2012-04-25   c 2012-05-19      p  e25b1fd0545854a2f6ae7a36c03c45e4   \n",
       "4  1000007 2013-12-14   c 2013-12-19      p  8fb0e3e4b5c92764e7388fd53d85fc37   \n",
       "\n",
       "   holds_by_patron  waitlist_rank  holds_on_title  count time_elapsed  month  \\\n",
       "0                2              1               1      1       1 days      3   \n",
       "1                3              1               1      1       1 days      9   \n",
       "2                3              1               1      1       1 days      2   \n",
       "3                3              1               1      1      24 days      4   \n",
       "4                2              1               1      1       5 days     12   \n",
       "\n",
       "   year  old_record_id  new_record_id  \\\n",
       "0  2015      1000002.0     10255461.0   \n",
       "1  2016      1000003.0     10255469.0   \n",
       "2  2017      1000003.0     10255469.0   \n",
       "3  2012      1000003.0     10255469.0   \n",
       "4  2013      1000007.0     10255476.0   \n",
       "\n",
       "                                               title       isbns  \\\n",
       "0                        The 1980's British invasion         NaN   \n",
       "1               100 best songs of the 20's and 30's.  0517503689   \n",
       "2               100 best songs of the 20's and 30's.  0517503689   \n",
       "3               100 best songs of the 20's and 30's.  0517503689   \n",
       "4  120 Christmas songs : : the world's greatest c...         NaN   \n",
       "\n",
       "                               catalog link  \n",
       "0  https://aadl.org/catalog/record/10255461  \n",
       "1  https://aadl.org/catalog/record/10255469  \n",
       "2  https://aadl.org/catalog/record/10255469  \n",
       "3  https://aadl.org/catalog/record/10255469  \n",
       "4  https://aadl.org/catalog/record/10255476  "
      ]
     },
     "execution_count": 144,
     "metadata": {},
     "output_type": "execute_result"
    }
   ],
   "source": [
    "copy_merged_dfs.head()"
   ]
  },
  {
   "cell_type": "code",
   "execution_count": 145,
   "metadata": {},
   "outputs": [],
   "source": [
    "#df.merge(urls_wrong_order,on='name')\n",
    "df_with_first_hold=copy_merged_dfs.merge(hold_first_dates_df,on='bib')"
   ]
  },
  {
   "cell_type": "code",
   "execution_count": 146,
   "metadata": {},
   "outputs": [
    {
     "data": {
      "text/html": [
       "<div>\n",
       "<style scoped>\n",
       "    .dataframe tbody tr th:only-of-type {\n",
       "        vertical-align: middle;\n",
       "    }\n",
       "\n",
       "    .dataframe tbody tr th {\n",
       "        vertical-align: top;\n",
       "    }\n",
       "\n",
       "    .dataframe thead th {\n",
       "        text-align: right;\n",
       "    }\n",
       "</style>\n",
       "<table border=\"1\" class=\"dataframe\">\n",
       "  <thead>\n",
       "    <tr style=\"text-align: right;\">\n",
       "      <th></th>\n",
       "      <th>bib</th>\n",
       "      <th>dateplaced</th>\n",
       "      <th>mat</th>\n",
       "      <th>datefilled</th>\n",
       "      <th>pickup</th>\n",
       "      <th>patron_hash</th>\n",
       "      <th>holds_by_patron</th>\n",
       "      <th>waitlist_rank</th>\n",
       "      <th>holds_on_title</th>\n",
       "      <th>count</th>\n",
       "      <th>time_elapsed</th>\n",
       "      <th>month</th>\n",
       "      <th>year</th>\n",
       "      <th>old_record_id</th>\n",
       "      <th>new_record_id</th>\n",
       "      <th>title</th>\n",
       "      <th>isbns</th>\n",
       "      <th>catalog link</th>\n",
       "      <th>first_hold_placed</th>\n",
       "    </tr>\n",
       "  </thead>\n",
       "  <tbody>\n",
       "    <tr>\n",
       "      <td>0</td>\n",
       "      <td>1000002</td>\n",
       "      <td>2015-03-22</td>\n",
       "      <td>c</td>\n",
       "      <td>2015-03-23</td>\n",
       "      <td>m</td>\n",
       "      <td>956343647effd9c280fde2aa821ba5be</td>\n",
       "      <td>2</td>\n",
       "      <td>1</td>\n",
       "      <td>1</td>\n",
       "      <td>1</td>\n",
       "      <td>1 days</td>\n",
       "      <td>3</td>\n",
       "      <td>2015</td>\n",
       "      <td>1000002.0</td>\n",
       "      <td>10255461.0</td>\n",
       "      <td>The 1980's British invasion</td>\n",
       "      <td>NaN</td>\n",
       "      <td>https://aadl.org/catalog/record/10255461</td>\n",
       "      <td>2015-03-22</td>\n",
       "    </tr>\n",
       "    <tr>\n",
       "      <td>1</td>\n",
       "      <td>1000003</td>\n",
       "      <td>2016-09-27</td>\n",
       "      <td>c</td>\n",
       "      <td>2016-09-28</td>\n",
       "      <td>m</td>\n",
       "      <td>06516cc86f159ad0b38401043063b7bd</td>\n",
       "      <td>3</td>\n",
       "      <td>1</td>\n",
       "      <td>1</td>\n",
       "      <td>1</td>\n",
       "      <td>1 days</td>\n",
       "      <td>9</td>\n",
       "      <td>2016</td>\n",
       "      <td>1000003.0</td>\n",
       "      <td>10255469.0</td>\n",
       "      <td>100 best songs of the 20's and 30's.</td>\n",
       "      <td>0517503689</td>\n",
       "      <td>https://aadl.org/catalog/record/10255469</td>\n",
       "      <td>2012-04-25</td>\n",
       "    </tr>\n",
       "    <tr>\n",
       "      <td>2</td>\n",
       "      <td>1000003</td>\n",
       "      <td>2017-02-26</td>\n",
       "      <td>c</td>\n",
       "      <td>2017-02-27</td>\n",
       "      <td>t</td>\n",
       "      <td>c9f08d54a76ddfbc61a92f6591fbbe51</td>\n",
       "      <td>3</td>\n",
       "      <td>1</td>\n",
       "      <td>1</td>\n",
       "      <td>1</td>\n",
       "      <td>1 days</td>\n",
       "      <td>2</td>\n",
       "      <td>2017</td>\n",
       "      <td>1000003.0</td>\n",
       "      <td>10255469.0</td>\n",
       "      <td>100 best songs of the 20's and 30's.</td>\n",
       "      <td>0517503689</td>\n",
       "      <td>https://aadl.org/catalog/record/10255469</td>\n",
       "      <td>2012-04-25</td>\n",
       "    </tr>\n",
       "    <tr>\n",
       "      <td>3</td>\n",
       "      <td>1000003</td>\n",
       "      <td>2012-04-25</td>\n",
       "      <td>c</td>\n",
       "      <td>2012-05-19</td>\n",
       "      <td>p</td>\n",
       "      <td>e25b1fd0545854a2f6ae7a36c03c45e4</td>\n",
       "      <td>3</td>\n",
       "      <td>1</td>\n",
       "      <td>1</td>\n",
       "      <td>1</td>\n",
       "      <td>24 days</td>\n",
       "      <td>4</td>\n",
       "      <td>2012</td>\n",
       "      <td>1000003.0</td>\n",
       "      <td>10255469.0</td>\n",
       "      <td>100 best songs of the 20's and 30's.</td>\n",
       "      <td>0517503689</td>\n",
       "      <td>https://aadl.org/catalog/record/10255469</td>\n",
       "      <td>2012-04-25</td>\n",
       "    </tr>\n",
       "    <tr>\n",
       "      <td>4</td>\n",
       "      <td>1000007</td>\n",
       "      <td>2013-12-14</td>\n",
       "      <td>c</td>\n",
       "      <td>2013-12-19</td>\n",
       "      <td>p</td>\n",
       "      <td>8fb0e3e4b5c92764e7388fd53d85fc37</td>\n",
       "      <td>2</td>\n",
       "      <td>1</td>\n",
       "      <td>1</td>\n",
       "      <td>1</td>\n",
       "      <td>5 days</td>\n",
       "      <td>12</td>\n",
       "      <td>2013</td>\n",
       "      <td>1000007.0</td>\n",
       "      <td>10255476.0</td>\n",
       "      <td>120 Christmas songs : : the world's greatest c...</td>\n",
       "      <td>NaN</td>\n",
       "      <td>https://aadl.org/catalog/record/10255476</td>\n",
       "      <td>2013-11-29</td>\n",
       "    </tr>\n",
       "  </tbody>\n",
       "</table>\n",
       "</div>"
      ],
      "text/plain": [
       "       bib dateplaced mat datefilled pickup                       patron_hash  \\\n",
       "0  1000002 2015-03-22   c 2015-03-23      m  956343647effd9c280fde2aa821ba5be   \n",
       "1  1000003 2016-09-27   c 2016-09-28      m  06516cc86f159ad0b38401043063b7bd   \n",
       "2  1000003 2017-02-26   c 2017-02-27      t  c9f08d54a76ddfbc61a92f6591fbbe51   \n",
       "3  1000003 2012-04-25   c 2012-05-19      p  e25b1fd0545854a2f6ae7a36c03c45e4   \n",
       "4  1000007 2013-12-14   c 2013-12-19      p  8fb0e3e4b5c92764e7388fd53d85fc37   \n",
       "\n",
       "   holds_by_patron  waitlist_rank  holds_on_title  count time_elapsed  month  \\\n",
       "0                2              1               1      1       1 days      3   \n",
       "1                3              1               1      1       1 days      9   \n",
       "2                3              1               1      1       1 days      2   \n",
       "3                3              1               1      1      24 days      4   \n",
       "4                2              1               1      1       5 days     12   \n",
       "\n",
       "   year  old_record_id  new_record_id  \\\n",
       "0  2015      1000002.0     10255461.0   \n",
       "1  2016      1000003.0     10255469.0   \n",
       "2  2017      1000003.0     10255469.0   \n",
       "3  2012      1000003.0     10255469.0   \n",
       "4  2013      1000007.0     10255476.0   \n",
       "\n",
       "                                               title       isbns  \\\n",
       "0                        The 1980's British invasion         NaN   \n",
       "1               100 best songs of the 20's and 30's.  0517503689   \n",
       "2               100 best songs of the 20's and 30's.  0517503689   \n",
       "3               100 best songs of the 20's and 30's.  0517503689   \n",
       "4  120 Christmas songs : : the world's greatest c...         NaN   \n",
       "\n",
       "                               catalog link first_hold_placed  \n",
       "0  https://aadl.org/catalog/record/10255461        2015-03-22  \n",
       "1  https://aadl.org/catalog/record/10255469        2012-04-25  \n",
       "2  https://aadl.org/catalog/record/10255469        2012-04-25  \n",
       "3  https://aadl.org/catalog/record/10255469        2012-04-25  \n",
       "4  https://aadl.org/catalog/record/10255476        2013-11-29  "
      ]
     },
     "execution_count": 146,
     "metadata": {},
     "output_type": "execute_result"
    }
   ],
   "source": [
    "df_with_first_hold.head()"
   ]
  },
  {
   "cell_type": "markdown",
   "metadata": {},
   "source": [
    "## Save as CSV (DO NOT RE-RUN)"
   ]
  },
  {
   "cell_type": "code",
   "execution_count": 2,
   "metadata": {},
   "outputs": [
    {
     "ename": "NameError",
     "evalue": "name 'df_with_first_hold' is not defined",
     "output_type": "error",
     "traceback": [
      "\u001b[0;31m---------------------------------------------------------------------------\u001b[0m",
      "\u001b[0;31mNameError\u001b[0m                                 Traceback (most recent call last)",
      "\u001b[0;32m<ipython-input-2-e669e99b839e>\u001b[0m in \u001b[0;36m<module>\u001b[0;34m\u001b[0m\n\u001b[0;32m----> 1\u001b[0;31m \u001b[0mdf_with_first_hold\u001b[0m\u001b[0;34m.\u001b[0m\u001b[0mto_csv\u001b[0m\u001b[0;34m(\u001b[0m\u001b[0;34m'first_holds.csv'\u001b[0m\u001b[0;34m)\u001b[0m\u001b[0;34m\u001b[0m\u001b[0;34m\u001b[0m\u001b[0m\n\u001b[0m",
      "\u001b[0;31mNameError\u001b[0m: name 'df_with_first_hold' is not defined"
     ]
    }
   ],
   "source": [
    "df_with_first_hold.to_csv('first_holds.csv')"
   ]
  },
  {
   "cell_type": "markdown",
   "metadata": {},
   "source": [
    "Renaming time_elapsed column to be more clear"
   ]
  },
  {
   "cell_type": "code",
   "execution_count": 3,
   "metadata": {},
   "outputs": [],
   "source": [
    "df_with_first_hold = pd.read_csv('first_holds.csv')"
   ]
  },
  {
   "cell_type": "code",
   "execution_count": 4,
   "metadata": {},
   "outputs": [],
   "source": [
    "df_with_first_hold=df_with_first_hold.rename({'time_elapsed':'days_waited_for_hold'},\n",
    "                                             axis=1)"
   ]
  },
  {
   "cell_type": "markdown",
   "metadata": {},
   "source": [
    "#### New column will be time elapsed since material first appeared in hold data to when that specific hold was placed\n",
    "#### I.E 'dateplaced' - 'first_hold_placed'"
   ]
  },
  {
   "cell_type": "code",
   "execution_count": 44,
   "metadata": {},
   "outputs": [],
   "source": [
    "df_only_holds_fulfilled['time_elapsed'] = (df_only_holds_fulfilled['datefilled']-\\\n",
    "                                           df_only_holds_fulfilled['dateplaced'])"
   ]
  },
  {
   "cell_type": "code",
   "execution_count": 81,
   "metadata": {},
   "outputs": [],
   "source": [
    "df_with_first_hold['dateplaced']= pd.to_datetime(df_with_first_hold['dateplaced'])\n",
    "df_with_first_hold['first_hold_placed']= pd.to_datetime(df_with_first_hold['first_hold_placed'])"
   ]
  },
  {
   "cell_type": "code",
   "execution_count": 82,
   "metadata": {},
   "outputs": [],
   "source": [
    "df_with_first_hold['time_since_first_hold'] = (df_with_first_hold['dateplaced']-\\\n",
    "                                               df_with_first_hold['first_hold_placed'])"
   ]
  },
  {
   "cell_type": "code",
   "execution_count": 83,
   "metadata": {},
   "outputs": [
    {
     "data": {
      "text/html": [
       "<div>\n",
       "<style scoped>\n",
       "    .dataframe tbody tr th:only-of-type {\n",
       "        vertical-align: middle;\n",
       "    }\n",
       "\n",
       "    .dataframe tbody tr th {\n",
       "        vertical-align: top;\n",
       "    }\n",
       "\n",
       "    .dataframe thead th {\n",
       "        text-align: right;\n",
       "    }\n",
       "</style>\n",
       "<table border=\"1\" class=\"dataframe\">\n",
       "  <thead>\n",
       "    <tr style=\"text-align: right;\">\n",
       "      <th></th>\n",
       "      <th>Unnamed: 0</th>\n",
       "      <th>bib</th>\n",
       "      <th>dateplaced</th>\n",
       "      <th>mat</th>\n",
       "      <th>datefilled</th>\n",
       "      <th>pickup</th>\n",
       "      <th>patron_hash</th>\n",
       "      <th>holds_by_patron</th>\n",
       "      <th>waitlist_rank</th>\n",
       "      <th>holds_on_title</th>\n",
       "      <th>...</th>\n",
       "      <th>days_waited_for_hold</th>\n",
       "      <th>month</th>\n",
       "      <th>year</th>\n",
       "      <th>old_record_id</th>\n",
       "      <th>new_record_id</th>\n",
       "      <th>title</th>\n",
       "      <th>isbns</th>\n",
       "      <th>catalog link</th>\n",
       "      <th>first_hold_placed</th>\n",
       "      <th>time_since_first_hold</th>\n",
       "    </tr>\n",
       "  </thead>\n",
       "  <tbody>\n",
       "    <tr>\n",
       "      <td>0</td>\n",
       "      <td>0</td>\n",
       "      <td>1000002</td>\n",
       "      <td>2015-03-22</td>\n",
       "      <td>c</td>\n",
       "      <td>2015-03-23</td>\n",
       "      <td>m</td>\n",
       "      <td>956343647effd9c280fde2aa821ba5be</td>\n",
       "      <td>2</td>\n",
       "      <td>1</td>\n",
       "      <td>1</td>\n",
       "      <td>...</td>\n",
       "      <td>1 days 00:00:00.000000000</td>\n",
       "      <td>3</td>\n",
       "      <td>2015</td>\n",
       "      <td>1000002.0</td>\n",
       "      <td>10255461.0</td>\n",
       "      <td>The 1980's British invasion</td>\n",
       "      <td>NaN</td>\n",
       "      <td>https://aadl.org/catalog/record/10255461</td>\n",
       "      <td>2015-03-22</td>\n",
       "      <td>0 days</td>\n",
       "    </tr>\n",
       "    <tr>\n",
       "      <td>1</td>\n",
       "      <td>1</td>\n",
       "      <td>1000003</td>\n",
       "      <td>2016-09-27</td>\n",
       "      <td>c</td>\n",
       "      <td>2016-09-28</td>\n",
       "      <td>m</td>\n",
       "      <td>06516cc86f159ad0b38401043063b7bd</td>\n",
       "      <td>3</td>\n",
       "      <td>1</td>\n",
       "      <td>1</td>\n",
       "      <td>...</td>\n",
       "      <td>1 days 00:00:00.000000000</td>\n",
       "      <td>9</td>\n",
       "      <td>2016</td>\n",
       "      <td>1000003.0</td>\n",
       "      <td>10255469.0</td>\n",
       "      <td>100 best songs of the 20's and 30's.</td>\n",
       "      <td>0517503689</td>\n",
       "      <td>https://aadl.org/catalog/record/10255469</td>\n",
       "      <td>2012-04-25</td>\n",
       "      <td>1616 days</td>\n",
       "    </tr>\n",
       "    <tr>\n",
       "      <td>2</td>\n",
       "      <td>2</td>\n",
       "      <td>1000003</td>\n",
       "      <td>2017-02-26</td>\n",
       "      <td>c</td>\n",
       "      <td>2017-02-27</td>\n",
       "      <td>t</td>\n",
       "      <td>c9f08d54a76ddfbc61a92f6591fbbe51</td>\n",
       "      <td>3</td>\n",
       "      <td>1</td>\n",
       "      <td>1</td>\n",
       "      <td>...</td>\n",
       "      <td>1 days 00:00:00.000000000</td>\n",
       "      <td>2</td>\n",
       "      <td>2017</td>\n",
       "      <td>1000003.0</td>\n",
       "      <td>10255469.0</td>\n",
       "      <td>100 best songs of the 20's and 30's.</td>\n",
       "      <td>0517503689</td>\n",
       "      <td>https://aadl.org/catalog/record/10255469</td>\n",
       "      <td>2012-04-25</td>\n",
       "      <td>1768 days</td>\n",
       "    </tr>\n",
       "    <tr>\n",
       "      <td>3</td>\n",
       "      <td>3</td>\n",
       "      <td>1000003</td>\n",
       "      <td>2012-04-25</td>\n",
       "      <td>c</td>\n",
       "      <td>2012-05-19</td>\n",
       "      <td>p</td>\n",
       "      <td>e25b1fd0545854a2f6ae7a36c03c45e4</td>\n",
       "      <td>3</td>\n",
       "      <td>1</td>\n",
       "      <td>1</td>\n",
       "      <td>...</td>\n",
       "      <td>24 days 00:00:00.000000000</td>\n",
       "      <td>4</td>\n",
       "      <td>2012</td>\n",
       "      <td>1000003.0</td>\n",
       "      <td>10255469.0</td>\n",
       "      <td>100 best songs of the 20's and 30's.</td>\n",
       "      <td>0517503689</td>\n",
       "      <td>https://aadl.org/catalog/record/10255469</td>\n",
       "      <td>2012-04-25</td>\n",
       "      <td>0 days</td>\n",
       "    </tr>\n",
       "    <tr>\n",
       "      <td>4</td>\n",
       "      <td>4</td>\n",
       "      <td>1000007</td>\n",
       "      <td>2013-12-14</td>\n",
       "      <td>c</td>\n",
       "      <td>2013-12-19</td>\n",
       "      <td>p</td>\n",
       "      <td>8fb0e3e4b5c92764e7388fd53d85fc37</td>\n",
       "      <td>2</td>\n",
       "      <td>1</td>\n",
       "      <td>1</td>\n",
       "      <td>...</td>\n",
       "      <td>5 days 00:00:00.000000000</td>\n",
       "      <td>12</td>\n",
       "      <td>2013</td>\n",
       "      <td>1000007.0</td>\n",
       "      <td>10255476.0</td>\n",
       "      <td>120 Christmas songs : : the world's greatest c...</td>\n",
       "      <td>NaN</td>\n",
       "      <td>https://aadl.org/catalog/record/10255476</td>\n",
       "      <td>2013-11-29</td>\n",
       "      <td>15 days</td>\n",
       "    </tr>\n",
       "  </tbody>\n",
       "</table>\n",
       "<p>5 rows × 21 columns</p>\n",
       "</div>"
      ],
      "text/plain": [
       "   Unnamed: 0      bib dateplaced mat  datefilled pickup  \\\n",
       "0           0  1000002 2015-03-22   c  2015-03-23      m   \n",
       "1           1  1000003 2016-09-27   c  2016-09-28      m   \n",
       "2           2  1000003 2017-02-26   c  2017-02-27      t   \n",
       "3           3  1000003 2012-04-25   c  2012-05-19      p   \n",
       "4           4  1000007 2013-12-14   c  2013-12-19      p   \n",
       "\n",
       "                        patron_hash  holds_by_patron  waitlist_rank  \\\n",
       "0  956343647effd9c280fde2aa821ba5be                2              1   \n",
       "1  06516cc86f159ad0b38401043063b7bd                3              1   \n",
       "2  c9f08d54a76ddfbc61a92f6591fbbe51                3              1   \n",
       "3  e25b1fd0545854a2f6ae7a36c03c45e4                3              1   \n",
       "4  8fb0e3e4b5c92764e7388fd53d85fc37                2              1   \n",
       "\n",
       "   holds_on_title  ...        days_waited_for_hold month  year  old_record_id  \\\n",
       "0               1  ...   1 days 00:00:00.000000000     3  2015      1000002.0   \n",
       "1               1  ...   1 days 00:00:00.000000000     9  2016      1000003.0   \n",
       "2               1  ...   1 days 00:00:00.000000000     2  2017      1000003.0   \n",
       "3               1  ...  24 days 00:00:00.000000000     4  2012      1000003.0   \n",
       "4               1  ...   5 days 00:00:00.000000000    12  2013      1000007.0   \n",
       "\n",
       "   new_record_id                                              title  \\\n",
       "0     10255461.0                        The 1980's British invasion   \n",
       "1     10255469.0               100 best songs of the 20's and 30's.   \n",
       "2     10255469.0               100 best songs of the 20's and 30's.   \n",
       "3     10255469.0               100 best songs of the 20's and 30's.   \n",
       "4     10255476.0  120 Christmas songs : : the world's greatest c...   \n",
       "\n",
       "        isbns                              catalog link first_hold_placed  \\\n",
       "0         NaN  https://aadl.org/catalog/record/10255461        2015-03-22   \n",
       "1  0517503689  https://aadl.org/catalog/record/10255469        2012-04-25   \n",
       "2  0517503689  https://aadl.org/catalog/record/10255469        2012-04-25   \n",
       "3  0517503689  https://aadl.org/catalog/record/10255469        2012-04-25   \n",
       "4         NaN  https://aadl.org/catalog/record/10255476        2013-11-29   \n",
       "\n",
       "  time_since_first_hold  \n",
       "0                0 days  \n",
       "1             1616 days  \n",
       "2             1768 days  \n",
       "3                0 days  \n",
       "4               15 days  \n",
       "\n",
       "[5 rows x 21 columns]"
      ]
     },
     "execution_count": 83,
     "metadata": {},
     "output_type": "execute_result"
    }
   ],
   "source": [
    "df_with_first_hold.head()"
   ]
  },
  {
   "cell_type": "markdown",
   "metadata": {},
   "source": [
    "Now let's try plotting hold demand over time for a single material:"
   ]
  },
  {
   "cell_type": "code",
   "execution_count": 84,
   "metadata": {},
   "outputs": [
    {
     "data": {
      "text/html": [
       "<div>\n",
       "<style scoped>\n",
       "    .dataframe tbody tr th:only-of-type {\n",
       "        vertical-align: middle;\n",
       "    }\n",
       "\n",
       "    .dataframe tbody tr th {\n",
       "        vertical-align: top;\n",
       "    }\n",
       "\n",
       "    .dataframe thead th {\n",
       "        text-align: right;\n",
       "    }\n",
       "</style>\n",
       "<table border=\"1\" class=\"dataframe\">\n",
       "  <thead>\n",
       "    <tr style=\"text-align: right;\">\n",
       "      <th></th>\n",
       "      <th>Unnamed: 0</th>\n",
       "      <th>bib</th>\n",
       "      <th>dateplaced</th>\n",
       "      <th>mat</th>\n",
       "      <th>datefilled</th>\n",
       "      <th>pickup</th>\n",
       "      <th>patron_hash</th>\n",
       "      <th>holds_by_patron</th>\n",
       "      <th>waitlist_rank</th>\n",
       "      <th>holds_on_title</th>\n",
       "      <th>...</th>\n",
       "      <th>days_waited_for_hold</th>\n",
       "      <th>month</th>\n",
       "      <th>year</th>\n",
       "      <th>old_record_id</th>\n",
       "      <th>new_record_id</th>\n",
       "      <th>title</th>\n",
       "      <th>isbns</th>\n",
       "      <th>catalog link</th>\n",
       "      <th>first_hold_placed</th>\n",
       "      <th>time_since_first_hold</th>\n",
       "    </tr>\n",
       "  </thead>\n",
       "  <tbody>\n",
       "    <tr>\n",
       "      <td>2454997</td>\n",
       "      <td>2454997</td>\n",
       "      <td>1319099</td>\n",
       "      <td>2010-04-19</td>\n",
       "      <td>a</td>\n",
       "      <td>2010-05-03</td>\n",
       "      <td>-</td>\n",
       "      <td>54343c6ad05d41c2a07edd5f7b798ad1</td>\n",
       "      <td>29</td>\n",
       "      <td>16</td>\n",
       "      <td>19</td>\n",
       "      <td>...</td>\n",
       "      <td>14 days 00:00:00.000000000</td>\n",
       "      <td>4</td>\n",
       "      <td>2010</td>\n",
       "      <td>1319099.0</td>\n",
       "      <td>10076965.0</td>\n",
       "      <td>The hunger games</td>\n",
       "      <td>9780439023481,0439023483,054531058X,0439023521...</td>\n",
       "      <td>https://aadl.org/catalog/record/10076965</td>\n",
       "      <td>2010-03-05</td>\n",
       "      <td>45 days</td>\n",
       "    </tr>\n",
       "    <tr>\n",
       "      <td>2454998</td>\n",
       "      <td>2454998</td>\n",
       "      <td>1319099</td>\n",
       "      <td>2012-02-27</td>\n",
       "      <td>a</td>\n",
       "      <td>2012-04-06</td>\n",
       "      <td>d</td>\n",
       "      <td>2798b3a63ea9afe719b37ded0bb9cb74</td>\n",
       "      <td>82</td>\n",
       "      <td>254</td>\n",
       "      <td>263</td>\n",
       "      <td>...</td>\n",
       "      <td>39 days 00:00:00.000000000</td>\n",
       "      <td>2</td>\n",
       "      <td>2012</td>\n",
       "      <td>1319099.0</td>\n",
       "      <td>10076965.0</td>\n",
       "      <td>The hunger games</td>\n",
       "      <td>9780439023481,0439023483,054531058X,0439023521...</td>\n",
       "      <td>https://aadl.org/catalog/record/10076965</td>\n",
       "      <td>2010-03-05</td>\n",
       "      <td>724 days</td>\n",
       "    </tr>\n",
       "    <tr>\n",
       "      <td>2454999</td>\n",
       "      <td>2454999</td>\n",
       "      <td>1319099</td>\n",
       "      <td>2012-06-11</td>\n",
       "      <td>a</td>\n",
       "      <td>2012-06-23</td>\n",
       "      <td>m</td>\n",
       "      <td>f82bafeab1de9ed5925229ae42ee343e</td>\n",
       "      <td>167</td>\n",
       "      <td>91</td>\n",
       "      <td>91</td>\n",
       "      <td>...</td>\n",
       "      <td>12 days 00:00:00.000000000</td>\n",
       "      <td>6</td>\n",
       "      <td>2012</td>\n",
       "      <td>1319099.0</td>\n",
       "      <td>10076965.0</td>\n",
       "      <td>The hunger games</td>\n",
       "      <td>9780439023481,0439023483,054531058X,0439023521...</td>\n",
       "      <td>https://aadl.org/catalog/record/10076965</td>\n",
       "      <td>2010-03-05</td>\n",
       "      <td>829 days</td>\n",
       "    </tr>\n",
       "  </tbody>\n",
       "</table>\n",
       "<p>3 rows × 21 columns</p>\n",
       "</div>"
      ],
      "text/plain": [
       "         Unnamed: 0      bib dateplaced mat  datefilled pickup  \\\n",
       "2454997     2454997  1319099 2010-04-19   a  2010-05-03      -   \n",
       "2454998     2454998  1319099 2012-02-27   a  2012-04-06      d   \n",
       "2454999     2454999  1319099 2012-06-11   a  2012-06-23      m   \n",
       "\n",
       "                              patron_hash  holds_by_patron  waitlist_rank  \\\n",
       "2454997  54343c6ad05d41c2a07edd5f7b798ad1               29             16   \n",
       "2454998  2798b3a63ea9afe719b37ded0bb9cb74               82            254   \n",
       "2454999  f82bafeab1de9ed5925229ae42ee343e              167             91   \n",
       "\n",
       "         holds_on_title  ...        days_waited_for_hold month  year  \\\n",
       "2454997              19  ...  14 days 00:00:00.000000000     4  2010   \n",
       "2454998             263  ...  39 days 00:00:00.000000000     2  2012   \n",
       "2454999              91  ...  12 days 00:00:00.000000000     6  2012   \n",
       "\n",
       "         old_record_id  new_record_id             title  \\\n",
       "2454997      1319099.0     10076965.0  The hunger games   \n",
       "2454998      1319099.0     10076965.0  The hunger games   \n",
       "2454999      1319099.0     10076965.0  The hunger games   \n",
       "\n",
       "                                                     isbns  \\\n",
       "2454997  9780439023481,0439023483,054531058X,0439023521...   \n",
       "2454998  9780439023481,0439023483,054531058X,0439023521...   \n",
       "2454999  9780439023481,0439023483,054531058X,0439023521...   \n",
       "\n",
       "                                     catalog link first_hold_placed  \\\n",
       "2454997  https://aadl.org/catalog/record/10076965        2010-03-05   \n",
       "2454998  https://aadl.org/catalog/record/10076965        2010-03-05   \n",
       "2454999  https://aadl.org/catalog/record/10076965        2010-03-05   \n",
       "\n",
       "        time_since_first_hold  \n",
       "2454997               45 days  \n",
       "2454998              724 days  \n",
       "2454999              829 days  \n",
       "\n",
       "[3 rows x 21 columns]"
      ]
     },
     "execution_count": 84,
     "metadata": {},
     "output_type": "execute_result"
    }
   ],
   "source": [
    "df_hunger_games=df_with_first_hold[df_with_first_hold['bib']==1319099]\n",
    "df_hunger_games.head(3)"
   ]
  },
  {
   "cell_type": "code",
   "execution_count": 85,
   "metadata": {},
   "outputs": [
    {
     "data": {
      "image/png": "[encoded data removed]",
      "text/plain": [
       "<Figure size 432x288 with 1 Axes>"
      ]
     },
     "metadata": {
      "needs_background": "light"
     },
     "output_type": "display_data"
    }
   ],
   "source": [
    "ax = sns.lineplot(x=\"time_since_first_hold\", y=\"holds_on_title\", data=df_hunger_games);\n",
    "ax.set_title('Holds Demand over Time for Hunger Games (Book-Only)');"
   ]
  },
  {
   "cell_type": "markdown",
   "metadata": {},
   "source": [
    "Now need to pull out the number in 'time_since_first_hold\" column and put it in a diff column so it can be plotted?"
   ]
  },
  {
   "cell_type": "code",
   "execution_count": 86,
   "metadata": {},
   "outputs": [
    {
     "data": {
      "text/plain": [
       "Unnamed: 0                         int64\n",
       "bib                                int64\n",
       "dateplaced                datetime64[ns]\n",
       "mat                               object\n",
       "datefilled                        object\n",
       "pickup                            object\n",
       "patron_hash                       object\n",
       "holds_by_patron                    int64\n",
       "waitlist_rank                      int64\n",
       "holds_on_title                     int64\n",
       "count                              int64\n",
       "days_waited_for_hold              object\n",
       "month                              int64\n",
       "year                               int64\n",
       "old_record_id                    float64\n",
       "new_record_id                    float64\n",
       "title                             object\n",
       "isbns                             object\n",
       "catalog link                      object\n",
       "first_hold_placed         datetime64[ns]\n",
       "time_since_first_hold    timedelta64[ns]\n",
       "days_since_first_hold              int64\n",
       "dtype: object"
      ]
     },
     "execution_count": 86,
     "metadata": {},
     "output_type": "execute_result"
    }
   ],
   "source": [
    "#s.dt.days\n",
    "\n",
    "copy_df=df_hunger_games.copy()\n",
    "\n",
    "\n",
    "copy_df['days_since_first_hold']=copy_df['time_since_first_hold'].dt.days\n",
    "\n",
    "copy_df.dtypes"
   ]
  },
  {
   "cell_type": "code",
   "execution_count": 87,
   "metadata": {},
   "outputs": [
    {
     "data": {
      "text/html": [
       "<div>\n",
       "<style scoped>\n",
       "    .dataframe tbody tr th:only-of-type {\n",
       "        vertical-align: middle;\n",
       "    }\n",
       "\n",
       "    .dataframe tbody tr th {\n",
       "        vertical-align: top;\n",
       "    }\n",
       "\n",
       "    .dataframe thead th {\n",
       "        text-align: right;\n",
       "    }\n",
       "</style>\n",
       "<table border=\"1\" class=\"dataframe\">\n",
       "  <thead>\n",
       "    <tr style=\"text-align: right;\">\n",
       "      <th></th>\n",
       "      <th>Unnamed: 0</th>\n",
       "      <th>bib</th>\n",
       "      <th>dateplaced</th>\n",
       "      <th>mat</th>\n",
       "      <th>datefilled</th>\n",
       "      <th>pickup</th>\n",
       "      <th>patron_hash</th>\n",
       "      <th>holds_by_patron</th>\n",
       "      <th>waitlist_rank</th>\n",
       "      <th>holds_on_title</th>\n",
       "      <th>...</th>\n",
       "      <th>month</th>\n",
       "      <th>year</th>\n",
       "      <th>old_record_id</th>\n",
       "      <th>new_record_id</th>\n",
       "      <th>title</th>\n",
       "      <th>isbns</th>\n",
       "      <th>catalog link</th>\n",
       "      <th>first_hold_placed</th>\n",
       "      <th>time_since_first_hold</th>\n",
       "      <th>days_since_first_hold</th>\n",
       "    </tr>\n",
       "  </thead>\n",
       "  <tbody>\n",
       "    <tr>\n",
       "      <td>0</td>\n",
       "      <td>0</td>\n",
       "      <td>1000002</td>\n",
       "      <td>2015-03-22</td>\n",
       "      <td>c</td>\n",
       "      <td>2015-03-23</td>\n",
       "      <td>m</td>\n",
       "      <td>956343647effd9c280fde2aa821ba5be</td>\n",
       "      <td>2</td>\n",
       "      <td>1</td>\n",
       "      <td>1</td>\n",
       "      <td>...</td>\n",
       "      <td>3</td>\n",
       "      <td>2015</td>\n",
       "      <td>1000002.0</td>\n",
       "      <td>10255461.0</td>\n",
       "      <td>The 1980's British invasion</td>\n",
       "      <td>NaN</td>\n",
       "      <td>https://aadl.org/catalog/record/10255461</td>\n",
       "      <td>2015-03-22</td>\n",
       "      <td>0 days</td>\n",
       "      <td>0</td>\n",
       "    </tr>\n",
       "    <tr>\n",
       "      <td>1</td>\n",
       "      <td>1</td>\n",
       "      <td>1000003</td>\n",
       "      <td>2016-09-27</td>\n",
       "      <td>c</td>\n",
       "      <td>2016-09-28</td>\n",
       "      <td>m</td>\n",
       "      <td>06516cc86f159ad0b38401043063b7bd</td>\n",
       "      <td>3</td>\n",
       "      <td>1</td>\n",
       "      <td>1</td>\n",
       "      <td>...</td>\n",
       "      <td>9</td>\n",
       "      <td>2016</td>\n",
       "      <td>1000003.0</td>\n",
       "      <td>10255469.0</td>\n",
       "      <td>100 best songs of the 20's and 30's.</td>\n",
       "      <td>0517503689</td>\n",
       "      <td>https://aadl.org/catalog/record/10255469</td>\n",
       "      <td>2012-04-25</td>\n",
       "      <td>1616 days</td>\n",
       "      <td>1616</td>\n",
       "    </tr>\n",
       "    <tr>\n",
       "      <td>2</td>\n",
       "      <td>2</td>\n",
       "      <td>1000003</td>\n",
       "      <td>2017-02-26</td>\n",
       "      <td>c</td>\n",
       "      <td>2017-02-27</td>\n",
       "      <td>t</td>\n",
       "      <td>c9f08d54a76ddfbc61a92f6591fbbe51</td>\n",
       "      <td>3</td>\n",
       "      <td>1</td>\n",
       "      <td>1</td>\n",
       "      <td>...</td>\n",
       "      <td>2</td>\n",
       "      <td>2017</td>\n",
       "      <td>1000003.0</td>\n",
       "      <td>10255469.0</td>\n",
       "      <td>100 best songs of the 20's and 30's.</td>\n",
       "      <td>0517503689</td>\n",
       "      <td>https://aadl.org/catalog/record/10255469</td>\n",
       "      <td>2012-04-25</td>\n",
       "      <td>1768 days</td>\n",
       "      <td>1768</td>\n",
       "    </tr>\n",
       "    <tr>\n",
       "      <td>3</td>\n",
       "      <td>3</td>\n",
       "      <td>1000003</td>\n",
       "      <td>2012-04-25</td>\n",
       "      <td>c</td>\n",
       "      <td>2012-05-19</td>\n",
       "      <td>p</td>\n",
       "      <td>e25b1fd0545854a2f6ae7a36c03c45e4</td>\n",
       "      <td>3</td>\n",
       "      <td>1</td>\n",
       "      <td>1</td>\n",
       "      <td>...</td>\n",
       "      <td>4</td>\n",
       "      <td>2012</td>\n",
       "      <td>1000003.0</td>\n",
       "      <td>10255469.0</td>\n",
       "      <td>100 best songs of the 20's and 30's.</td>\n",
       "      <td>0517503689</td>\n",
       "      <td>https://aadl.org/catalog/record/10255469</td>\n",
       "      <td>2012-04-25</td>\n",
       "      <td>0 days</td>\n",
       "      <td>0</td>\n",
       "    </tr>\n",
       "    <tr>\n",
       "      <td>4</td>\n",
       "      <td>4</td>\n",
       "      <td>1000007</td>\n",
       "      <td>2013-12-14</td>\n",
       "      <td>c</td>\n",
       "      <td>2013-12-19</td>\n",
       "      <td>p</td>\n",
       "      <td>8fb0e3e4b5c92764e7388fd53d85fc37</td>\n",
       "      <td>2</td>\n",
       "      <td>1</td>\n",
       "      <td>1</td>\n",
       "      <td>...</td>\n",
       "      <td>12</td>\n",
       "      <td>2013</td>\n",
       "      <td>1000007.0</td>\n",
       "      <td>10255476.0</td>\n",
       "      <td>120 Christmas songs : : the world's greatest c...</td>\n",
       "      <td>NaN</td>\n",
       "      <td>https://aadl.org/catalog/record/10255476</td>\n",
       "      <td>2013-11-29</td>\n",
       "      <td>15 days</td>\n",
       "      <td>15</td>\n",
       "    </tr>\n",
       "  </tbody>\n",
       "</table>\n",
       "<p>5 rows × 22 columns</p>\n",
       "</div>"
      ],
      "text/plain": [
       "   Unnamed: 0      bib dateplaced mat  datefilled pickup  \\\n",
       "0           0  1000002 2015-03-22   c  2015-03-23      m   \n",
       "1           1  1000003 2016-09-27   c  2016-09-28      m   \n",
       "2           2  1000003 2017-02-26   c  2017-02-27      t   \n",
       "3           3  1000003 2012-04-25   c  2012-05-19      p   \n",
       "4           4  1000007 2013-12-14   c  2013-12-19      p   \n",
       "\n",
       "                        patron_hash  holds_by_patron  waitlist_rank  \\\n",
       "0  956343647effd9c280fde2aa821ba5be                2              1   \n",
       "1  06516cc86f159ad0b38401043063b7bd                3              1   \n",
       "2  c9f08d54a76ddfbc61a92f6591fbbe51                3              1   \n",
       "3  e25b1fd0545854a2f6ae7a36c03c45e4                3              1   \n",
       "4  8fb0e3e4b5c92764e7388fd53d85fc37                2              1   \n",
       "\n",
       "   holds_on_title  ...  month  year  old_record_id  new_record_id  \\\n",
       "0               1  ...      3  2015      1000002.0     10255461.0   \n",
       "1               1  ...      9  2016      1000003.0     10255469.0   \n",
       "2               1  ...      2  2017      1000003.0     10255469.0   \n",
       "3               1  ...      4  2012      1000003.0     10255469.0   \n",
       "4               1  ...     12  2013      1000007.0     10255476.0   \n",
       "\n",
       "                                               title       isbns  \\\n",
       "0                        The 1980's British invasion         NaN   \n",
       "1               100 best songs of the 20's and 30's.  0517503689   \n",
       "2               100 best songs of the 20's and 30's.  0517503689   \n",
       "3               100 best songs of the 20's and 30's.  0517503689   \n",
       "4  120 Christmas songs : : the world's greatest c...         NaN   \n",
       "\n",
       "                               catalog link first_hold_placed  \\\n",
       "0  https://aadl.org/catalog/record/10255461        2015-03-22   \n",
       "1  https://aadl.org/catalog/record/10255469        2012-04-25   \n",
       "2  https://aadl.org/catalog/record/10255469        2012-04-25   \n",
       "3  https://aadl.org/catalog/record/10255469        2012-04-25   \n",
       "4  https://aadl.org/catalog/record/10255476        2013-11-29   \n",
       "\n",
       "  time_since_first_hold days_since_first_hold  \n",
       "0                0 days                     0  \n",
       "1             1616 days                  1616  \n",
       "2             1768 days                  1768  \n",
       "3                0 days                     0  \n",
       "4               15 days                    15  \n",
       "\n",
       "[5 rows x 22 columns]"
      ]
     },
     "execution_count": 87,
     "metadata": {},
     "output_type": "execute_result"
    }
   ],
   "source": [
    "df_with_first_hold['days_since_first_hold']=df_with_first_hold['time_since_first_hold'].dt.days\n",
    "\n",
    "df_with_first_hold.head()"
   ]
  },
  {
   "cell_type": "code",
   "execution_count": 88,
   "metadata": {},
   "outputs": [
    {
     "data": {
      "image/png": "[encoded data removed]",
      "text/plain": [
       "<Figure size 432x288 with 1 Axes>"
      ]
     },
     "metadata": {
      "needs_background": "light"
     },
     "output_type": "display_data"
    }
   ],
   "source": [
    "ax = sns.lineplot(x=\"days_since_first_hold\", y=\"holds_on_title\", data=copy_df);\n",
    "ax.set_title('Holds Demand Over Time for Hunger Games (Book-Only)');"
   ]
  },
  {
   "cell_type": "markdown",
   "metadata": {},
   "source": [
    "Next want to look into making that x axis by dates, probs month-year"
   ]
  },
  {
   "cell_type": "markdown",
   "metadata": {},
   "source": [
    "## Compare Material-Peak Demand Times"
   ]
  },
  {
   "cell_type": "markdown",
   "metadata": {},
   "source": [
    "Look at the unique offerings:"
   ]
  },
  {
   "cell_type": "code",
   "execution_count": 89,
   "metadata": {},
   "outputs": [
    {
     "data": {
      "text/plain": [
       "array(['c', 'j', 'a', 'p', 'b', 'i', 'f', 'v', 't', 'l', 'x', 'k', 'm',\n",
       "       's', 'g', 'r', 'e', nan, 'u', '-'], dtype=object)"
      ]
     },
     "execution_count": 89,
     "metadata": {},
     "output_type": "execute_result"
    }
   ],
   "source": [
    "df_with_first_hold['mat'].unique()"
   ]
  },
  {
   "cell_type": "markdown",
   "metadata": {},
   "source": [
    "### Compare Tools to Blu-Ray and DVDs:"
   ]
  },
  {
   "cell_type": "code",
   "execution_count": 91,
   "metadata": {},
   "outputs": [],
   "source": [
    "tools_updated = df_with_first_hold[df_with_first_hold['mat'] == 'r']\n",
    "dvds_updated = df_with_first_hold[df_with_first_hold['mat'] == 'g']\n",
    "bluray_updated = df_with_first_hold[df_with_first_hold['mat'] == 'u']"
   ]
  },
  {
   "cell_type": "markdown",
   "metadata": {},
   "source": [
    "Aggregate the data based on wait time and the number of holds for that day:"
   ]
  },
  {
   "cell_type": "code",
   "execution_count": 92,
   "metadata": {},
   "outputs": [],
   "source": [
    "tools_agg = tools_updated.groupby('days_since_first_hold')\\\n",
    "                         .agg({'holds_on_title':'median'})\\\n",
    "                         .reset_index()\\\n",
    "                         .sort_values('days_since_first_hold', ascending = True)"
   ]
  },
  {
   "cell_type": "code",
   "execution_count": 93,
   "metadata": {},
   "outputs": [
    {
     "data": {
      "image/png": "[encoded data removed]",
      "text/plain": [
       "<Figure size 432x288 with 1 Axes>"
      ]
     },
     "metadata": {
      "needs_background": "light"
     },
     "output_type": "display_data"
    }
   ],
   "source": [
    "ax = sns.lineplot(x=\"days_since_first_hold\", y=\"holds_on_title\", data=tools_agg);\n",
    "ax.set_title('Holds Demand Over Time for Tools (Median)');"
   ]
  },
  {
   "cell_type": "code",
   "execution_count": 94,
   "metadata": {},
   "outputs": [],
   "source": [
    "dvd_agg = dvds_updated.groupby('days_since_first_hold')\\\n",
    "                      .agg({'holds_on_title':'median'})\\\n",
    "                      .reset_index()\\\n",
    "                      .sort_values('days_since_first_hold', ascending = True)"
   ]
  },
  {
   "cell_type": "code",
   "execution_count": 95,
   "metadata": {},
   "outputs": [
    {
     "data": {
      "image/png": "[encoded data removed]",
      "text/plain": [
       "<Figure size 432x288 with 1 Axes>"
      ]
     },
     "metadata": {
      "needs_background": "light"
     },
     "output_type": "display_data"
    }
   ],
   "source": [
    "ax = sns.lineplot(x=\"days_since_first_hold\", y=\"holds_on_title\", data=dvd_agg);\n",
    "ax.set_title('Holds Demand Over Time for DVDs (Median)');"
   ]
  },
  {
   "cell_type": "code",
   "execution_count": 96,
   "metadata": {},
   "outputs": [],
   "source": [
    "bluray_agg = bluray_updated.groupby('days_since_first_hold')\\\n",
    "                           .agg({'holds_on_title':'median'})\\\n",
    "                           .reset_index()\\\n",
    "                           .sort_values('days_since_first_hold', ascending = True)"
   ]
  },
  {
   "cell_type": "code",
   "execution_count": 97,
   "metadata": {},
   "outputs": [
    {
     "data": {
      "image/png": "[encoded data removed]",
      "text/plain": [
       "<Figure size 432x288 with 1 Axes>"
      ]
     },
     "metadata": {
      "needs_background": "light"
     },
     "output_type": "display_data"
    }
   ],
   "source": [
    "ax = sns.lineplot(x=\"days_since_first_hold\", y=\"holds_on_title\", data=bluray_agg);\n",
    "ax.set_title('Holds Demand Over Time for Blu-Ray (Median)');"
   ]
  },
  {
   "cell_type": "markdown",
   "metadata": {},
   "source": [
    "## Question: Is Median the best way to measure peak demand time? \n",
    "\n",
    "Note: we utilized median because it is not robust to outliers like the mean\n",
    "\n",
    "Therefore, analyze sum and mean aggregations as well: "
   ]
  },
  {
   "cell_type": "markdown",
   "metadata": {},
   "source": [
    "#### Mean for Tools:"
   ]
  },
  {
   "cell_type": "code",
   "execution_count": 98,
   "metadata": {},
   "outputs": [],
   "source": [
    "tools_agg_mean = tools_updated.groupby('days_since_first_hold')\\\n",
    "                              .agg({'holds_on_title':'mean'})\\\n",
    "                              .reset_index()\\\n",
    "                              .sort_values('days_since_first_hold', ascending = True)"
   ]
  },
  {
   "cell_type": "code",
   "execution_count": 99,
   "metadata": {},
   "outputs": [
    {
     "data": {
      "image/png": "[encoded data removed]",
      "text/plain": [
       "<Figure size 432x288 with 1 Axes>"
      ]
     },
     "metadata": {
      "needs_background": "light"
     },
     "output_type": "display_data"
    }
   ],
   "source": [
    "ax = sns.lineplot(x=\"days_since_first_hold\", y=\"holds_on_title\", data=tools_agg_mean);\n",
    "ax.set_title('Holds Demand Over Time for Tools (Mean)');"
   ]
  },
  {
   "cell_type": "markdown",
   "metadata": {},
   "source": [
    "#### Mean for DVDs"
   ]
  },
  {
   "cell_type": "code",
   "execution_count": 100,
   "metadata": {},
   "outputs": [],
   "source": [
    "dvd_agg_mean = dvds_updated.groupby('days_since_first_hold')\\\n",
    "                           .agg({'holds_on_title':'mean'})\\\n",
    "                           .reset_index()\\\n",
    "                           .sort_values('days_since_first_hold', ascending = True)"
   ]
  },
  {
   "cell_type": "code",
   "execution_count": 101,
   "metadata": {},
   "outputs": [
    {
     "data": {
      "image/png": "[encoded data removed]",
      "text/plain": [
       "<Figure size 432x288 with 1 Axes>"
      ]
     },
     "metadata": {
      "needs_background": "light"
     },
     "output_type": "display_data"
    }
   ],
   "source": [
    "ax = sns.lineplot(x=\"days_since_first_hold\", y=\"holds_on_title\", data=dvd_agg_mean);\n",
    "ax.set_title('Holds Demand Over Time for DVDs (Mean)');"
   ]
  },
  {
   "cell_type": "markdown",
   "metadata": {},
   "source": [
    "#### Mean for Blu-Ray"
   ]
  },
  {
   "cell_type": "code",
   "execution_count": 102,
   "metadata": {},
   "outputs": [],
   "source": [
    "bluray_agg_mean = bluray_updated.groupby('days_since_first_hold')\\\n",
    "                                .agg({'holds_on_title':'mean'})\\\n",
    "                                .reset_index()\\\n",
    "                                .sort_values('days_since_first_hold', ascending = True)"
   ]
  },
  {
   "cell_type": "code",
   "execution_count": 103,
   "metadata": {},
   "outputs": [
    {
     "data": {
      "image/png": "[encoded data removed]",
      "text/plain": [
       "<Figure size 432x288 with 1 Axes>"
      ]
     },
     "metadata": {
      "needs_background": "light"
     },
     "output_type": "display_data"
    }
   ],
   "source": [
    "ax = sns.lineplot(x=\"days_since_first_hold\", y=\"holds_on_title\", data=bluray_agg_mean);\n",
    "ax.set_title('Holds Demand Over Time for Blu-Ray (Mean)');"
   ]
  },
  {
   "cell_type": "markdown",
   "metadata": {},
   "source": [
    "#### Sum for Tools:"
   ]
  },
  {
   "cell_type": "code",
   "execution_count": 104,
   "metadata": {},
   "outputs": [],
   "source": [
    "tools_agg_sum = tools_updated.groupby('days_since_first_hold')\\\n",
    "                             .agg({'holds_on_title':'sum'})\\\n",
    "                             .reset_index()\\\n",
    "                             .sort_values('days_since_first_hold', ascending = True)"
   ]
  },
  {
   "cell_type": "code",
   "execution_count": 105,
   "metadata": {},
   "outputs": [
    {
     "data": {
      "image/png": "[encoded data removed]",
      "text/plain": [
       "<Figure size 432x288 with 1 Axes>"
      ]
     },
     "metadata": {
      "needs_background": "light"
     },
     "output_type": "display_data"
    }
   ],
   "source": [
    "ax = sns.lineplot(x=\"days_since_first_hold\", y=\"holds_on_title\", data=tools_agg_sum);\n",
    "ax.set_title('Holds Demand Over Time for Tools (Sum)');"
   ]
  },
  {
   "cell_type": "markdown",
   "metadata": {},
   "source": [
    "#### Sum for DVDs:"
   ]
  },
  {
   "cell_type": "code",
   "execution_count": 106,
   "metadata": {},
   "outputs": [],
   "source": [
    "dvd_agg_sum = dvds_updated.groupby('days_since_first_hold')\\\n",
    "                          .agg({'holds_on_title':'sum'})\\\n",
    "                          .reset_index()\\\n",
    "                          .sort_values('days_since_first_hold', ascending = True)"
   ]
  },
  {
   "cell_type": "code",
   "execution_count": 107,
   "metadata": {},
   "outputs": [
    {
     "data": {
      "image/png": "[encoded data removed]",
      "text/plain": [
       "<Figure size 432x288 with 1 Axes>"
      ]
     },
     "metadata": {
      "needs_background": "light"
     },
     "output_type": "display_data"
    }
   ],
   "source": [
    "ax = sns.lineplot(x=\"days_since_first_hold\", y=\"holds_on_title\", data=dvd_agg_sum);\n",
    "ax.set_title('Holds Demand Over Time for DVDs (Sum)');"
   ]
  },
  {
   "cell_type": "markdown",
   "metadata": {},
   "source": [
    "#### Sum for Blu-Ray:"
   ]
  },
  {
   "cell_type": "code",
   "execution_count": 108,
   "metadata": {},
   "outputs": [],
   "source": [
    "bluray_agg_sum = bluray_updated.groupby('days_since_first_hold')\\\n",
    "                               .agg({'holds_on_title':'sum'})\\\n",
    "                               .reset_index()\\\n",
    "                               .sort_values('days_since_first_hold', ascending = True)"
   ]
  },
  {
   "cell_type": "code",
   "execution_count": 109,
   "metadata": {},
   "outputs": [
    {
     "data": {
      "image/png": "[encoded data removed]",
      "text/plain": [
       "<Figure size 432x288 with 1 Axes>"
      ]
     },
     "metadata": {
      "needs_background": "light"
     },
     "output_type": "display_data"
    }
   ],
   "source": [
    "ax = sns.lineplot(x=\"days_since_first_hold\", y=\"holds_on_title\", data=bluray_agg_sum);\n",
    "ax.set_title('Holds Demand Over Time for Blu-Ray (Sum)');"
   ]
  },
  {
   "cell_type": "markdown",
   "metadata": {},
   "source": [
    "## Analysis: \n",
    "\n",
    "As expected when utilizing sum the most anticipated period for the 3 tested materials was almost immediately after the first hold date; therefore, the sum calculation is irrelevant in trying to estimate such trends. "
   ]
  },
  {
   "cell_type": "markdown",
   "metadata": {},
   "source": [
    "## How do books stack up?"
   ]
  },
  {
   "cell_type": "code",
   "execution_count": 110,
   "metadata": {},
   "outputs": [],
   "source": [
    "books_updated = df_with_first_hold[df_with_first_hold['mat'] == 'a']"
   ]
  },
  {
   "cell_type": "code",
   "execution_count": 111,
   "metadata": {},
   "outputs": [],
   "source": [
    "dvd_agg = dvds_updated.groupby('days_since_first_hold')\\\n",
    "                      .agg({'holds_on_title':'median'})\\\n",
    "                      .reset_index()\\\n",
    "                      .sort_values('days_since_first_hold', ascending = True)"
   ]
  },
  {
   "cell_type": "code",
   "execution_count": 114,
   "metadata": {},
   "outputs": [
    {
     "data": {
      "image/png": "[encoded data removed]",
      "text/plain": [
       "<Figure size 432x288 with 1 Axes>"
      ]
     },
     "metadata": {
      "needs_background": "light"
     },
     "output_type": "display_data"
    }
   ],
   "source": [
    "ax = sns.lineplot(x=\"days_since_first_hold\", y=\"holds_on_title\", data=dvd_agg);\n",
    "ax.set_title('Holds Demand Over Time for Books (Median)');"
   ]
  },
  {
   "cell_type": "code",
   "execution_count": 112,
   "metadata": {},
   "outputs": [],
   "source": [
    "dvd_agg_mean = dvds_updated.groupby('days_since_first_hold')\\\n",
    "                           .agg({'holds_on_title':'mean'})\\\n",
    "                           .reset_index()\\\n",
    "                           .sort_values('days_since_first_hold', ascending = True)"
   ]
  },
  {
   "cell_type": "code",
   "execution_count": 115,
   "metadata": {},
   "outputs": [
    {
     "data": {
      "image/png": "[encoded data removed]",
      "text/plain": [
       "<Figure size 432x288 with 1 Axes>"
      ]
     },
     "metadata": {
      "needs_background": "light"
     },
     "output_type": "display_data"
    }
   ],
   "source": [
    "ax = sns.lineplot(x=\"days_since_first_hold\", y=\"holds_on_title\", data=dvd_agg_mean);\n",
    "ax.set_title('Holds Demand Over Time for Books (Mean)');"
   ]
  },
  {
   "cell_type": "code",
   "execution_count": 113,
   "metadata": {},
   "outputs": [],
   "source": [
    "dvd_agg_sum = dvds_updated.groupby('days_since_first_hold')\\\n",
    "                          .agg({'holds_on_title':'sum'})\\\n",
    "                          .reset_index()\\\n",
    "                          .sort_values('days_since_first_hold', ascending = True)"
   ]
  },
  {
   "cell_type": "code",
   "execution_count": 116,
   "metadata": {},
   "outputs": [
    {
     "data": {
      "image/png": "[encoded data removed]",
      "text/plain": [
       "<Figure size 432x288 with 1 Axes>"
      ]
     },
     "metadata": {
      "needs_background": "light"
     },
     "output_type": "display_data"
    }
   ],
   "source": [
    "ax = sns.lineplot(x=\"days_since_first_hold\", y=\"holds_on_title\", data=dvd_agg_sum);\n",
    "ax.set_title('Holds Demand Over Time for Books (Sum)');"
   ]
  }
 ],
 "metadata": {
  "kernelspec": {
   "display_name": "Python 3",
   "language": "python",
   "name": "python3"
  },
  "language_info": {
   "codemirror_mode": {
    "name": "ipython",
    "version": 3
   },
   "file_extension": ".py",
   "mimetype": "text/x-python",
   "name": "python",
   "nbconvert_exporter": "python",
   "pygments_lexer": "ipython3",
   "version": "3.7.4"
  }
 },
 "nbformat": 4,
 "nbformat_minor": 2
}
